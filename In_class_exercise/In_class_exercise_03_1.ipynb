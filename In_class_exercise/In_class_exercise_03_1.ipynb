{
  "cells": [
    {
      "cell_type": "markdown",
      "metadata": {
        "id": "view-in-github",
        "colab_type": "text"
      },
      "source": [
        "<a href=\"https://colab.research.google.com/github/Satyaram-k/satyaram_INFO5731_Spring2020/blob/main/In_class_exercise/In_class_exercise_03_1.ipynb\" target=\"_parent\"><img src=\"https://colab.research.google.com/assets/colab-badge.svg\" alt=\"Open In Colab\"/></a>"
      ]
    },
    {
      "cell_type": "markdown",
      "metadata": {
        "id": "EkzEHVegMmf0"
      },
      "source": [
        "## The third In-class-exercise (2/22/2022, 40 points in total)"
      ]
    },
    {
      "cell_type": "markdown",
      "metadata": {
        "id": "VwUVHhBrMmf3"
      },
      "source": [
        "The purpose of this exercise is to understand text representation."
      ]
    },
    {
      "cell_type": "markdown",
      "metadata": {
        "id": "E1PhY6eIMmf4"
      },
      "source": [
        "Question 1 (10 points): Describe an interesting text classification or text mining task and explain what kind of features might be useful for you to build the machine learning model. List your features and explain why these features might be helpful. You need to list at least five different types of features."
      ]
    },
    {
      "cell_type": "code",
      "execution_count": 2,
      "metadata": {
        "colab": {
          "base_uri": "https://localhost:8080/"
        },
        "id": "64vzn3s9Mmf4",
        "outputId": "b4467a7f-9175-417e-98c7-b4c35648a6d5"
      },
      "outputs": [
        {
          "output_type": "stream",
          "name": "stdout",
          "text": [
            "Features can be defined as the characteristics that help to in predicting the variable and interesting output. Feature selection is the process of selecting characteristics automatically from the data that help the prediction variable and interesting output. Feature selection also helps to remove redundant or unwanted data, which reduces the accuracy of models mainly liner models.\n",
            "\n",
            " Some of the features are:\n",
            " 1. Word Features\n",
            " 2. Phrase Patterns\n",
            " 3. Numerical Variables\n",
            " 4. Categorical variables\n",
            " I am always interested in information extraction, so I thought of extracting some data from a website and extracting the features. For this, I collected data from IMDb and performed Tokenization, Feature extraction, and removing stop words. To obtain tokens we need to break the sentence into words, so I divided the sentences into words. Later, I found the frequency of words that occurred.\n",
            "\n"
          ]
        }
      ],
      "source": [
        "# Your answer here (no code for this question, write down your answer as detail as possible for the above questions):\n",
        "\n",
        "'''\n",
        "Please write you answer here:\n",
        "'''\n",
        "print(\"Features can be defined as the characteristics that help to in predicting the variable and interesting output. Feature selection is the process of selecting characteristics automatically from the data that help the prediction variable and interesting output. Feature selection also helps to remove redundant or unwanted data, which reduces the accuracy of models mainly liner models.\\n\\n\", \"Some of the features are:\\n\", \"1. Word Features\\n\", \"2. Phrase Patterns\\n\", \"3. Numerical Variables\\n\", \"4. Categorical variables\\n\", \"I am always interested in information extraction, so I thought of extracting some data from a website and extracting the features. For this, I collected data from IMDb and performed Tokenization, Feature extraction, and removing stop words. To obtain tokens we need to break the sentence into words, so I divided the sentences into words. Later, I found the frequency of words that occurred.\\n\")"
      ]
    },
    {
      "cell_type": "markdown",
      "metadata": {
        "id": "neta7dP5Mmf7"
      },
      "source": [
        "Question 2 (20 points): Write python code to extract these features you discussed above. You can collect a few sample text data for the feature extraction. "
      ]
    },
    {
      "cell_type": "code",
      "execution_count": 3,
      "metadata": {
        "colab": {
          "base_uri": "https://localhost:8080/"
        },
        "id": "6WRmKfudMmf8",
        "outputId": "8b65c545-386e-41fa-bee0-2485b19ba6b8"
      },
      "outputs": [
        {
          "output_type": "stream",
          "name": "stdout",
          "text": [
            "Collected sample data (Avatar movie reviews from IBDb)\n",
            "                                                Review\n",
            "0   As of today, there are 2675 reviews for \"Avata...\n",
            "1   I did see Avatar for the first time a while ag...\n",
            "2   It's impossible to watch AVATAR for the first ...\n",
            "3   Avatar (2009) **** (out of 4)A paraplegic mari...\n",
            "4   Marine Jake Sully (Sam Worthington) is paralyz...\n",
            "5   This is a remarkable experience, like watching...\n",
            "6   high technology. imaginative director. tastefu...\n",
            "7   \"Avatar\" is an American movie from 2009 and st...\n",
            "8   I've been badgered to see this film for years,...\n",
            "9   In a futuristic society ruled by the economica...\n",
            "10  Although I was not too bothered about seeing A...\n",
            "11  Quite a lot has been said and written about th...\n",
            "12  I have never, ever gone to a movie before base...\n",
            "13  When his brother is killed in a robbery, parap...\n",
            "14  Golden Globe winning, and Oscar and BAFTA nomi...\n",
            "15  Well, after all the hype - and a chance to see...\n",
            "16  Having heard the hype about how this was the g...\n",
            "17  This movie was a treat to the eye, and that wa...\n",
            "18  I wasn't going to bother seeing Avatar: I was ...\n",
            "19  James Cameron has done it again. He surely kno...\n",
            "20  James Cameron has big ideas and big visions. T...\n",
            "21  Just finished watching this movie with my mom ...\n",
            "22  This film is about the invasion of humans into...\n",
            "23  James Cameron's science-fiction epic is his fi...\n",
            "24  Avatar is an epic science fiction film written... \n",
            "\n",
            "\n",
            "Frequency of words\n",
            "        0\n",
            "the  601\n",
            ",    499\n",
            ".    423\n",
            "and  327\n",
            "to   281\n",
            "a    266\n",
            "of   252\n",
            "'    230\n",
            "is   212\n",
            "it   194\n"
          ]
        }
      ],
      "source": [
        "# You code here (Please add comments in the code):\n",
        "\n",
        "#importing requried packages\n",
        "from bs4 import BeautifulSoup as bs\n",
        "import pandas as pd\n",
        "import requests as rq\n",
        "import matplotlib.pyplot as plt\n",
        "import nltk\n",
        "from wordcloud import WordCloud\n",
        "from nltk.corpus import stopwords\n",
        "\n",
        "\n",
        "#collecting sample text data from IMDb \"Avatar movie reviews\"\n",
        "\n",
        "#assigining the URL to a varilable \n",
        "link = 'https://www.imdb.com/title/tt0499549/reviews?ref_=tt_ql_3'\n",
        "\n",
        "#Creating a data frame with one column to store text of reviews\n",
        "df = pd.DataFrame(columns=['Review'])\n",
        "req = rq.get(link).text\n",
        "soup = bs(req,'html.parser')\n",
        "\n",
        "#collecting reviews text\n",
        "review_text = soup.find_all('div', attrs={'class' : 'text show-more__control'})\n",
        "\n",
        "#creating a empty list\n",
        "list = []\n",
        "for i in range(len(review_text)):\n",
        "    list.append(review_text[i].get_text())\n",
        "\n",
        "#assigining list to the data frame    \n",
        "df['Review'] = list\n",
        "\n",
        "print('Collected sample data (Avatar movie reviews from IBDb)\\n',df,'\\n\\n')\n",
        "\n",
        "\n",
        "\n",
        "%matplotlib inline\n",
        "\n",
        "sentence = df['Review'][0]\n",
        "tokens = nltk.wordpunct_tokenize(sentence)\n",
        "\n",
        "# Tokenizing all sentences in the data frame to find the words and counting the frequency of words\n",
        "\n",
        "word_freq = {}\n",
        "for data in df['Review']:\n",
        "    tokens = nltk.wordpunct_tokenize(data)\n",
        "    for token in tokens:\n",
        "        if token in word_freq:\n",
        "            cnt = word_freq[token]\n",
        "            cnt = cnt + 1\n",
        "            word_freq[token] = cnt\n",
        "        else:\n",
        "            word_freq[token] = 1\n",
        "\n",
        "\n",
        "freq = pd.DataFrame.from_dict(word_freq, orient = 'index')\n",
        "print('Frequency of words\\n',freq.sort_values(by = 0, ascending=False).head(10))\n"
      ]
    },
    {
      "cell_type": "markdown",
      "metadata": {
        "id": "YxE3XE8vMmf9"
      },
      "source": [
        "Question 3 (10 points): Use any of the feature selection methods mentioned in this paper \"Deng, X., Li, Y., Weng, J., & Zhang, J. (2019). Feature selection for text classification: A review. Multimedia Tools & Applications, 78(3).\" Select the most important features you extracted above, rank the features based on their importance in the descending order. "
      ]
    },
    {
      "cell_type": "code",
      "execution_count": 4,
      "metadata": {
        "colab": {
          "base_uri": "https://localhost:8080/",
          "height": 255
        },
        "id": "ZmJ3JMh2Mmf-",
        "outputId": "dac1e277-3958-499d-b6ed-09810884f9a9"
      },
      "outputs": [
        {
          "output_type": "stream",
          "name": "stdout",
          "text": [
            "[nltk_data] Downloading package stopwords to /root/nltk_data...\n",
            "[nltk_data]   Unzipping corpora/stopwords.zip.\n",
            "Tokens collected from the corpus are:\n"
          ]
        },
        {
          "output_type": "execute_result",
          "data": {
            "text/html": [
              "\n",
              "  <div id=\"df-3a3623d8-b609-43a2-9a9b-ac049d59b4e5\">\n",
              "    <div class=\"colab-df-container\">\n",
              "      <div>\n",
              "<style scoped>\n",
              "    .dataframe tbody tr th:only-of-type {\n",
              "        vertical-align: middle;\n",
              "    }\n",
              "\n",
              "    .dataframe tbody tr th {\n",
              "        vertical-align: top;\n",
              "    }\n",
              "\n",
              "    .dataframe thead th {\n",
              "        text-align: right;\n",
              "    }\n",
              "</style>\n",
              "<table border=\"1\" class=\"dataframe\">\n",
              "  <thead>\n",
              "    <tr style=\"text-align: right;\">\n",
              "      <th></th>\n",
              "      <th>Review</th>\n",
              "      <th>Tokens</th>\n",
              "    </tr>\n",
              "  </thead>\n",
              "  <tbody>\n",
              "    <tr>\n",
              "      <th>0</th>\n",
              "      <td>As of today, there are 2675 reviews for \"Avata...</td>\n",
              "      <td>today,2675,reviews,avatar,\"--,many,excellent,r...</td>\n",
              "    </tr>\n",
              "    <tr>\n",
              "      <th>1</th>\n",
              "      <td>I did see Avatar for the first time a while ag...</td>\n",
              "      <td>see,avatar,first,time,ago,know,make,felt,like,...</td>\n",
              "    </tr>\n",
              "    <tr>\n",
              "      <th>2</th>\n",
              "      <td>It's impossible to watch AVATAR for the first ...</td>\n",
              "      <td>impossible,watch,avatar,first,time,–,especiall...</td>\n",
              "    </tr>\n",
              "    <tr>\n",
              "      <th>3</th>\n",
              "      <td>Avatar (2009) **** (out of 4)A paraplegic mari...</td>\n",
              "      <td>avatar,2009,****,4,paraplegic,marine,sam,worth...</td>\n",
              "    </tr>\n",
              "    <tr>\n",
              "      <th>4</th>\n",
              "      <td>Marine Jake Sully (Sam Worthington) is paralyz...</td>\n",
              "      <td>marine,jake,sully,sam,worthington,paralyzed,br...</td>\n",
              "    </tr>\n",
              "  </tbody>\n",
              "</table>\n",
              "</div>\n",
              "      <button class=\"colab-df-convert\" onclick=\"convertToInteractive('df-3a3623d8-b609-43a2-9a9b-ac049d59b4e5')\"\n",
              "              title=\"Convert this dataframe to an interactive table.\"\n",
              "              style=\"display:none;\">\n",
              "        \n",
              "  <svg xmlns=\"http://www.w3.org/2000/svg\" height=\"24px\"viewBox=\"0 0 24 24\"\n",
              "       width=\"24px\">\n",
              "    <path d=\"M0 0h24v24H0V0z\" fill=\"none\"/>\n",
              "    <path d=\"M18.56 5.44l.94 2.06.94-2.06 2.06-.94-2.06-.94-.94-2.06-.94 2.06-2.06.94zm-11 1L8.5 8.5l.94-2.06 2.06-.94-2.06-.94L8.5 2.5l-.94 2.06-2.06.94zm10 10l.94 2.06.94-2.06 2.06-.94-2.06-.94-.94-2.06-.94 2.06-2.06.94z\"/><path d=\"M17.41 7.96l-1.37-1.37c-.4-.4-.92-.59-1.43-.59-.52 0-1.04.2-1.43.59L10.3 9.45l-7.72 7.72c-.78.78-.78 2.05 0 2.83L4 21.41c.39.39.9.59 1.41.59.51 0 1.02-.2 1.41-.59l7.78-7.78 2.81-2.81c.8-.78.8-2.07 0-2.86zM5.41 20L4 18.59l7.72-7.72 1.47 1.35L5.41 20z\"/>\n",
              "  </svg>\n",
              "      </button>\n",
              "      \n",
              "  <style>\n",
              "    .colab-df-container {\n",
              "      display:flex;\n",
              "      flex-wrap:wrap;\n",
              "      gap: 12px;\n",
              "    }\n",
              "\n",
              "    .colab-df-convert {\n",
              "      background-color: #E8F0FE;\n",
              "      border: none;\n",
              "      border-radius: 50%;\n",
              "      cursor: pointer;\n",
              "      display: none;\n",
              "      fill: #1967D2;\n",
              "      height: 32px;\n",
              "      padding: 0 0 0 0;\n",
              "      width: 32px;\n",
              "    }\n",
              "\n",
              "    .colab-df-convert:hover {\n",
              "      background-color: #E2EBFA;\n",
              "      box-shadow: 0px 1px 2px rgba(60, 64, 67, 0.3), 0px 1px 3px 1px rgba(60, 64, 67, 0.15);\n",
              "      fill: #174EA6;\n",
              "    }\n",
              "\n",
              "    [theme=dark] .colab-df-convert {\n",
              "      background-color: #3B4455;\n",
              "      fill: #D2E3FC;\n",
              "    }\n",
              "\n",
              "    [theme=dark] .colab-df-convert:hover {\n",
              "      background-color: #434B5C;\n",
              "      box-shadow: 0px 1px 3px 1px rgba(0, 0, 0, 0.15);\n",
              "      filter: drop-shadow(0px 1px 2px rgba(0, 0, 0, 0.3));\n",
              "      fill: #FFFFFF;\n",
              "    }\n",
              "  </style>\n",
              "\n",
              "      <script>\n",
              "        const buttonEl =\n",
              "          document.querySelector('#df-3a3623d8-b609-43a2-9a9b-ac049d59b4e5 button.colab-df-convert');\n",
              "        buttonEl.style.display =\n",
              "          google.colab.kernel.accessAllowed ? 'block' : 'none';\n",
              "\n",
              "        async function convertToInteractive(key) {\n",
              "          const element = document.querySelector('#df-3a3623d8-b609-43a2-9a9b-ac049d59b4e5');\n",
              "          const dataTable =\n",
              "            await google.colab.kernel.invokeFunction('convertToInteractive',\n",
              "                                                     [key], {});\n",
              "          if (!dataTable) return;\n",
              "\n",
              "          const docLinkHtml = 'Like what you see? Visit the ' +\n",
              "            '<a target=\"_blank\" href=https://colab.research.google.com/notebooks/data_table.ipynb>data table notebook</a>'\n",
              "            + ' to learn more about interactive tables.';\n",
              "          element.innerHTML = '';\n",
              "          dataTable['output_type'] = 'display_data';\n",
              "          await google.colab.output.renderOutput(dataTable, element);\n",
              "          const docLink = document.createElement('div');\n",
              "          docLink.innerHTML = docLinkHtml;\n",
              "          element.appendChild(docLink);\n",
              "        }\n",
              "      </script>\n",
              "    </div>\n",
              "  </div>\n",
              "  "
            ],
            "text/plain": [
              "                                              Review                                             Tokens\n",
              "0  As of today, there are 2675 reviews for \"Avata...  today,2675,reviews,avatar,\"--,many,excellent,r...\n",
              "1  I did see Avatar for the first time a while ag...  see,avatar,first,time,ago,know,make,felt,like,...\n",
              "2  It's impossible to watch AVATAR for the first ...  impossible,watch,avatar,first,time,–,especiall...\n",
              "3  Avatar (2009) **** (out of 4)A paraplegic mari...  avatar,2009,****,4,paraplegic,marine,sam,worth...\n",
              "4  Marine Jake Sully (Sam Worthington) is paralyz...  marine,jake,sully,sam,worthington,paralyzed,br..."
            ]
          },
          "metadata": {},
          "execution_count": 4
        }
      ],
      "source": [
        "# You code here (Please add comments in the code):\n",
        "\n",
        "nltk.download('stopwords')\n",
        "\n",
        "stop = stopwords.words('english')\n",
        "stop[0:10]\n",
        "\n",
        "stop.extend(('.', ',', '\"', \"'\", '?', '!', ':', ';', '(', ')', '[', ']', '{', '}','/','-'))\n",
        "stop_words_freq = {}\n",
        "\n",
        "#defining function that can collect tokens\n",
        "def freq_word_generator(row):\n",
        "    data = row['Review']\n",
        "    tokens = nltk.wordpunct_tokenize(data)\n",
        "    list_of_tokens = []\n",
        "\n",
        "    for token in tokens:\n",
        "        if token.lower() not in stop:\n",
        "            list_of_tokens.append(token.lower())\n",
        "            if token.lower() in stop_words_freq:\n",
        "                count = stop_words_freq[token.lower()]\n",
        "                count += 1\n",
        "                stop_words_freq[token.lower()] = count\n",
        "            else:\n",
        "                stop_words_freq[token.lower()] = 1\n",
        "    \n",
        "    return ','.join(list_of_tokens)\n",
        "\n",
        "df['Tokens'] = df.apply(freq_word_generator,axis=1)\n",
        "\n",
        "print('Tokens collected from the corpus are:')\n",
        "df.head()\n",
        "\n"
      ]
    },
    {
      "cell_type": "code",
      "source": [
        ""
      ],
      "metadata": {
        "id": "xkicy4XLNFoC"
      },
      "execution_count": null,
      "outputs": []
    }
  ],
  "metadata": {
    "kernelspec": {
      "display_name": "Python 3",
      "language": "python",
      "name": "python3"
    },
    "language_info": {
      "codemirror_mode": {
        "name": "ipython",
        "version": 3
      },
      "file_extension": ".py",
      "mimetype": "text/x-python",
      "name": "python",
      "nbconvert_exporter": "python",
      "pygments_lexer": "ipython3",
      "version": "3.8.5"
    },
    "colab": {
      "name": "In-class-exercise-03-1.ipynb",
      "provenance": [],
      "include_colab_link": true
    }
  },
  "nbformat": 4,
  "nbformat_minor": 0
}