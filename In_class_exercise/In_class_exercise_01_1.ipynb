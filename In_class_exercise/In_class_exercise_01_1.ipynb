{
  "cells": [
    {
      "cell_type": "markdown",
      "metadata": {
        "id": "view-in-github",
        "colab_type": "text"
      },
      "source": [
        "<a href=\"https://colab.research.google.com/github/Satyaram-k/satyaram_INFO5731_Spring2020/blob/main/In_class_exercise/In_class_exercise_01_1.ipynb\" target=\"_parent\"><img src=\"https://colab.research.google.com/assets/colab-badge.svg\" alt=\"Open In Colab\"/></a>"
      ]
    },
    {
      "cell_type": "markdown",
      "metadata": {
        "id": "DymRJbxDBCnf"
      },
      "source": [
        "# **The first In-class-exercise (01/25/2022, 40 points in total)**"
      ]
    },
    {
      "cell_type": "markdown",
      "metadata": {
        "id": "03jb4GZsBkBS"
      },
      "source": [
        "(1) Write a Python program to calculate the length of a string. (4 points)"
      ]
    },
    {
      "cell_type": "code",
      "execution_count": 5,
      "metadata": {
        "colab": {
          "base_uri": "https://localhost:8080/"
        },
        "id": "YaGLbSHHB8Ej",
        "outputId": "58fb6853-4a1e-4fb0-93da-ecd9e0ea5895"
      },
      "outputs": [
        {
          "output_type": "stream",
          "name": "stdout",
          "text": [
            "Enter a string: satyaram\n",
            "length of string:  8\n"
          ]
        }
      ],
      "source": [
        "# write your answer here\n",
        "string=input(\"Enter a string: \")\n",
        "length=0\n",
        "for i in string:\n",
        "  length +=1\n",
        "print('length of string: ',length)"
      ]
    },
    {
      "cell_type": "markdown",
      "metadata": {
        "id": "jJDe71iLB616"
      },
      "source": [
        "(2) Write a Python program to count the number of characters in a string. (4 points)\n",
        "\n",
        "Sample String : 'google.com‘, \n",
        "\n",
        "Expected Result : {'o': 3, 'g': 2, '.': 1, 'e': 1, 'l': 1, 'm': 1, 'c': 1}"
      ]
    },
    {
      "cell_type": "code",
      "execution_count": 7,
      "metadata": {
        "colab": {
          "base_uri": "https://localhost:8080/"
        },
        "id": "MtKskTzbCLaU",
        "outputId": "44be5ed9-f3fc-4271-fea8-fe679ad29efb"
      },
      "outputs": [
        {
          "output_type": "stream",
          "name": "stdout",
          "text": [
            "Enter a string: google.com\n",
            "Number of characters in given string are:\n",
            " {'g': 2, 'o': 3, 'l': 1, 'e': 1, '.': 1, 'c': 1, 'm': 1}\n"
          ]
        }
      ],
      "source": [
        "# write your answer here\n",
        "string=input(\"Enter a string: \")\n",
        "dict={}\n",
        "for i in string:\n",
        "  keys = dict.keys()  \n",
        "  if i in keys:  \n",
        "    dict[i] = dict[i] + 1  \n",
        "  else:  \n",
        "    dict[i] = 1\n",
        "print('Number of characters in given string are:\\n',dict)"
      ]
    },
    {
      "cell_type": "markdown",
      "metadata": {
        "id": "55W9AMdXCSpV"
      },
      "source": [
        "(3) Write a Python program to sum all the items in a list. (4 points)"
      ]
    },
    {
      "cell_type": "code",
      "execution_count": 18,
      "metadata": {
        "colab": {
          "base_uri": "https://localhost:8080/"
        },
        "id": "I57NXsauCec2",
        "outputId": "2d907713-985e-4b3a-d5c9-72ce77bdad9e"
      },
      "outputs": [
        {
          "output_type": "stream",
          "name": "stdout",
          "text": [
            "Enter length of the list:2\n",
            "1\n",
            "1\n",
            "Entered list:  [1, 1]\n",
            "Sum of all items in the list is:  2\n"
          ]
        }
      ],
      "source": [
        "# write your answer here\n",
        "a=[]\n",
        "le=int(input('Enter length of the list:'))\n",
        "for i in range(0,le):\n",
        "  a.append(int(input()))\n",
        "print('Entered list: ',a)\n",
        "total = sum(a)\n",
        "print('Sum of all items in the list is: ',total)"
      ]
    },
    {
      "cell_type": "markdown",
      "metadata": {
        "id": "4ulBZ6yhCi9F"
      },
      "source": [
        "(4) Write a Python program to get a string from a given string where all occurrences of its first char have been changed to '\\$', except the first char itself. (4 points)\n",
        "\n",
        "Sample String : 'restart‘, \n",
        "\n",
        "Expected Result : 'resta\\$t'"
      ]
    },
    {
      "cell_type": "code",
      "execution_count": 19,
      "metadata": {
        "colab": {
          "base_uri": "https://localhost:8080/"
        },
        "id": "Fj0XhwbBCw2o",
        "outputId": "ebb6ca4a-c29f-4a4f-ae1d-cfbd05dd159a"
      },
      "outputs": [
        {
          "output_type": "stream",
          "name": "stdout",
          "text": [
            "Enter a string: restart\n",
            "Result:  resta$t\n"
          ]
        }
      ],
      "source": [
        "# write your answer here\n",
        "string=input(\"Enter a string: \")\n",
        "c = string[0]\n",
        "string = string.replace (c, '$')\n",
        "string = c + string [1 : ]\n",
        "print('Result: ',string)"
      ]
    },
    {
      "cell_type": "markdown",
      "metadata": {
        "id": "_bIP7s1MCzue"
      },
      "source": [
        "(5) Write a program with python which could accept two parameter a and b to calculate and output the result of S, where \n",
        "\n",
        "$\\ S=3.14*(1+a/b)^3$ (4 points)\n",
        "\n"
      ]
    },
    {
      "cell_type": "code",
      "execution_count": 22,
      "metadata": {
        "colab": {
          "base_uri": "https://localhost:8080/"
        },
        "id": "w79QilHXD3Mg",
        "outputId": "345318a0-3aab-4837-9e8f-f17d1309d797"
      },
      "outputs": [
        {
          "output_type": "stream",
          "name": "stdout",
          "text": [
            "Enter parameter 'a': 1\n",
            "Enter parameter 'b': 1\n",
            "Result:  25.12\n"
          ]
        }
      ],
      "source": [
        "# write your answer here\n",
        "a=int(input(\"Enter parameter 'a': \"))\n",
        "b=int(input(\"Enter parameter 'b': \"))\n",
        "s=3.14*((1+ a/b)**3)\n",
        "print('Result: ',s)"
      ]
    },
    {
      "cell_type": "markdown",
      "metadata": {
        "id": "xCa2bK9aD4Q3"
      },
      "source": [
        "(6) Write a Python program to concatenate following dictionaries to create a new one. (4 points)\n",
        "\n",
        "Sample Dictionary : dic1={1:10, 2:20}, dic2={3:30, 4:40}, dic3={5:50,6:60}, \n",
        "\n",
        "Expected Result : {1: 10, 2: 20, 3: 30, 4: 40, 5: 50, 6: 60}\n"
      ]
    },
    {
      "cell_type": "code",
      "execution_count": 23,
      "metadata": {
        "colab": {
          "base_uri": "https://localhost:8080/"
        },
        "id": "_z4aLqAbEET1",
        "outputId": "e5f734a4-1cdc-49bf-c33f-12494544ef65"
      },
      "outputs": [
        {
          "output_type": "stream",
          "name": "stdout",
          "text": [
            "Result:  {1: 10, 2: 20, 3: 30, 4: 40, 5: 50, 6: 60}\n"
          ]
        }
      ],
      "source": [
        "# write your answer here\n",
        "dic1={1:10,2:20}\n",
        "dic2={3:30,4:40}\n",
        "dic3={5:50,6:60} \n",
        "dic4 = {**dic1,**dic2,**dic3}  \n",
        "print('Result: ',dic4)"
      ]
    },
    {
      "cell_type": "markdown",
      "metadata": {
        "id": "0v48Vqa7FrQh"
      },
      "source": [
        "(7) Write a Python program to check whether an element exists within a tuple. (4 points)"
      ]
    },
    {
      "cell_type": "code",
      "execution_count": 25,
      "metadata": {
        "colab": {
          "base_uri": "https://localhost:8080/"
        },
        "id": "7WEmgq-DF2P1",
        "outputId": "98134ae5-158a-4173-d16c-bbee1995ae08"
      },
      "outputs": [
        {
          "output_type": "stream",
          "name": "stdout",
          "text": [
            "Enter element to search in tuple: 2\n",
            "The entered element exists in tuple\n"
          ]
        }
      ],
      "source": [
        "# write your answer here\n",
        "tuple = (1,2,3,4)\n",
        "x = int(input('Enter element to search in tuple: '))\n",
        "if x in tuple:\n",
        "    print(\"The entered element exists in tuple\")\n",
        "else:\n",
        "    print(\"The entered element does not exist in tuple\")"
      ]
    },
    {
      "cell_type": "markdown",
      "metadata": {
        "id": "vD5PYLMuGga_"
      },
      "source": [
        "(8) Write a Python program to find maximum and the minimum value in a set. (4 points)"
      ]
    },
    {
      "cell_type": "code",
      "execution_count": 27,
      "metadata": {
        "colab": {
          "base_uri": "https://localhost:8080/"
        },
        "id": "t0D5kdJUGjjw",
        "outputId": "e50eef27-591b-495d-a598-b315a05c1376"
      },
      "outputs": [
        {
          "output_type": "stream",
          "name": "stdout",
          "text": [
            "Minimum =  1  \n",
            "Maximum =  8\n"
          ]
        }
      ],
      "source": [
        "# write your answer here \n",
        "lis=[5, 6, 8, 1 , 2]\n",
        " \n",
        "min = lis[0]    \n",
        "max = lis[0] \n",
        " \n",
        "for x in lis: \n",
        "    if x > max: \n",
        "        max = x \n",
        " \n",
        "    if x < min:  \n",
        "        min = x \n",
        " \n",
        "print(\"Minimum = \", min, \" \\nMaximum = \", max)"
      ]
    },
    {
      "cell_type": "markdown",
      "metadata": {
        "id": "uHkd-y5VhVWC"
      },
      "source": [
        "(9) Write a Python program to randomly divide the students in this class into six groups for term projects, each group should have at least 4 students but no more than 6 students (including 6). Here is the students list: (4 points)\n",
        "\n",
        "studnet_list = ['ja0964','sa1198','sb1357','vb0218','sc1229','kg0569','kg0470','sg1297','bg0320','fh0141','jl1252','sk1386',\n",
        "           'ak0956','sk1390','sk1458','sk1313','ak0934','vm0377','nm0618','sm1640','sm1907','gn0108','pr0353','dr0609','ms1500','aos0040','ds0814', 'av0659','nv0234','hy0232']"
      ]
    },
    {
      "cell_type": "code",
      "execution_count": 29,
      "metadata": {
        "colab": {
          "base_uri": "https://localhost:8080/"
        },
        "id": "3iGbmcOBhTwy",
        "outputId": "b16137a7-508c-42e2-a5b7-bb2baa5da7d5"
      },
      "outputs": [
        {
          "output_type": "stream",
          "name": "stdout",
          "text": [
            "Group 1: \n",
            "bg0320\n",
            "vm0377\n",
            "aos0040\n",
            "sg1297\n",
            "kg0569\n",
            "Group 2: \n",
            "kg0470\n",
            "sm1640\n",
            "sa1198\n",
            "sk1313\n",
            "hy0232\n",
            "Group 3: \n",
            "ms1500\n",
            "ja0964\n",
            "jl1252\n",
            "nv0234\n",
            "vb0218\n",
            "Group 4: \n",
            "av0659\n",
            "pr0353\n",
            "ak0934\n",
            "sc1229\n",
            "sb1357\n",
            "Group 5: \n",
            "dr0609\n",
            "gn0108\n",
            "ds0814\n",
            "ak0956\n",
            "sk1458\n",
            "Group 6: \n",
            "sk1390\n",
            "fh0141\n",
            "sm1907\n",
            "nm0618\n",
            "sk1386\n"
          ]
        }
      ],
      "source": [
        "# write your answer here\n",
        "import random\n",
        "student_list = ['ja0964','sa1198','sb1357','vb0218','sc1229','kg0569','kg0470','sg1297','bg0320','fh0141','jl1252','sk1386', 'ak0956','sk1390','sk1458','sk1313','ak0934','vm0377','nm0618','sm1640','sm1907','gn0108','pr0353','dr0609','ms1500','aos0040','ds0814', 'av0659','nv0234','hy0232']\n",
        "g=1\n",
        "mem=5\n",
        "for i in student_list[:]:              \n",
        "    if mem==5:\n",
        "        print(\"Group {}: \".format(g))\n",
        "        mem=0\n",
        "        g += 1\n",
        "    p=random.choice(student_list)\n",
        "    print(p)\n",
        "    mem = mem + 1\n",
        "    student_list.remove(str(p))"
      ]
    },
    {
      "cell_type": "markdown",
      "metadata": {
        "id": "iTGf5vIqbDY7"
      },
      "source": [
        "(10) Write a Python program to find the duplicate elements in a given array of integers. Return -1 If there are no such elements. (4 points)"
      ]
    },
    {
      "cell_type": "code",
      "execution_count": 30,
      "metadata": {
        "colab": {
          "base_uri": "https://localhost:8080/"
        },
        "id": "Jip6yPbwbDY8",
        "outputId": "19dafbc1-2d8a-4c0b-90a6-e6f2d6aa1fb3"
      },
      "outputs": [
        {
          "output_type": "stream",
          "name": "stdout",
          "text": [
            "Enter length of the list:5\n",
            "1\n",
            "2\n",
            "2\n",
            "3\n",
            "4\n",
            "Entered list:  [1, 2, 2, 3, 4]\n",
            "[2]\n"
          ]
        }
      ],
      "source": [
        "# write your answer here\n",
        "a=[]\n",
        "le=int(input('Enter length of the list:'))\n",
        "for i in range(0,le):\n",
        "  a.append(int(input()))\n",
        "print('Entered list: ',a)\n",
        "out=[]\n",
        "count=0\n",
        "for i in range(0,len(a)):\n",
        "  for j in range(0,len(a)):\n",
        "    if a[i]==a[j]:\n",
        "      count+=1\n",
        "  if count>1:\n",
        "    out.append(a[i])\n",
        "  count =0\n",
        "dup = list(set(out))\n",
        "if dup == []:\n",
        "  print('-1')\n",
        "else:\n",
        "  print(dup)"
      ]
    },
    {
      "cell_type": "markdown",
      "metadata": {
        "id": "DFUuJ803bDY9"
      },
      "source": [
        "(11) Write a Python program to select all the Sundays of a specified year. (4 extra points)"
      ]
    },
    {
      "cell_type": "code",
      "execution_count": 28,
      "metadata": {
        "colab": {
          "base_uri": "https://localhost:8080/"
        },
        "id": "j75wv3hVbDY-",
        "outputId": "94830470-0b24-4016-aae2-4dbdc4c36746"
      },
      "outputs": [
        {
          "output_type": "stream",
          "name": "stdout",
          "text": [
            "Enter year: 2022\n",
            "2022-01-02\n",
            "2022-01-09\n",
            "2022-01-16\n",
            "2022-01-23\n",
            "2022-01-30\n",
            "2022-02-06\n",
            "2022-02-13\n",
            "2022-02-20\n",
            "2022-02-27\n",
            "2022-03-06\n",
            "2022-03-13\n",
            "2022-03-20\n",
            "2022-03-27\n",
            "2022-04-03\n",
            "2022-04-10\n",
            "2022-04-17\n",
            "2022-04-24\n",
            "2022-05-01\n",
            "2022-05-08\n",
            "2022-05-15\n",
            "2022-05-22\n",
            "2022-05-29\n",
            "2022-06-05\n",
            "2022-06-12\n",
            "2022-06-19\n",
            "2022-06-26\n",
            "2022-07-03\n",
            "2022-07-10\n",
            "2022-07-17\n",
            "2022-07-24\n",
            "2022-07-31\n",
            "2022-08-07\n",
            "2022-08-14\n",
            "2022-08-21\n",
            "2022-08-28\n",
            "2022-09-04\n",
            "2022-09-11\n",
            "2022-09-18\n",
            "2022-09-25\n",
            "2022-10-02\n",
            "2022-10-09\n",
            "2022-10-16\n",
            "2022-10-23\n",
            "2022-10-30\n",
            "2022-11-06\n",
            "2022-11-13\n",
            "2022-11-20\n",
            "2022-11-27\n",
            "2022-12-04\n",
            "2022-12-11\n",
            "2022-12-18\n",
            "2022-12-25\n"
          ]
        }
      ],
      "source": [
        "# write your answer here\n",
        "from datetime import date, timedelta\n",
        "x=int(input('Enter year: '))\n",
        "def sun(year):\n",
        "       dt1 = date(year, 1, 1)       \n",
        "       dt1 += timedelta(days = 6 - dt1.weekday())  \n",
        "       while dt1.year == year:\n",
        "          yield dt1\n",
        "          dt1 += timedelta(days = 7)\n",
        "for sunday in sun(x):\n",
        "   print(sunday)"
      ]
    },
    {
      "cell_type": "code",
      "source": [
        ""
      ],
      "metadata": {
        "id": "kEXEpkeCXtK5"
      },
      "execution_count": null,
      "outputs": []
    }
  ],
  "metadata": {
    "colab": {
      "collapsed_sections": [],
      "name": "In_class_exercise_01-1.ipynb",
      "provenance": [],
      "include_colab_link": true
    },
    "kernelspec": {
      "display_name": "Python 3",
      "language": "python",
      "name": "python3"
    },
    "language_info": {
      "codemirror_mode": {
        "name": "ipython",
        "version": 3
      },
      "file_extension": ".py",
      "mimetype": "text/x-python",
      "name": "python",
      "nbconvert_exporter": "python",
      "pygments_lexer": "ipython3",
      "version": "3.8.5"
    }
  },
  "nbformat": 4,
  "nbformat_minor": 0
}