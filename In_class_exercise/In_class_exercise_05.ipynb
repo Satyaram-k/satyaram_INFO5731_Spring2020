{
  "cells": [
    {
      "cell_type": "markdown",
      "metadata": {
        "id": "view-in-github",
        "colab_type": "text"
      },
      "source": [
        "<a href=\"https://colab.research.google.com/github/Satyaram-k/satyaram_INFO5731_Spring2020/blob/main/In_class_exercise/In_class_exercise_05.ipynb\" target=\"_parent\"><img src=\"https://colab.research.google.com/assets/colab-badge.svg\" alt=\"Open In Colab\"/></a>"
      ]
    },
    {
      "cell_type": "markdown",
      "metadata": {
        "id": "UGdxDlJPwpOq"
      },
      "source": [
        "# **The fifth in-class-exercise (40 points in total, 04/12/2022)**"
      ]
    },
    {
      "cell_type": "markdown",
      "metadata": {
        "id": "_SoYX4CKwpPc"
      },
      "source": [
        "(20 points) The purpose of the question is to practice different machine learning algorithms for text classification as well as the performance evaluation. In addition, you are requried to conduct *10 fold cross validation (https://scikit-learn.org/stable/modules/cross_validation.html)* in the training. \n",
        "\n",
        "The dataset can be download from here: https://github.com/unt-iialab/info5731-spring2022/blob/main/assignments/exercise05_datacollection.zip. The dataset contains two files train data and test data for sentiment analysis in IMDB review, it has two categories: 1 represents positive and 0 represents negative. You need to split the training data into training and validate data (80% for training and 20% for validation, https://towardsdatascience.com/train-test-split-and-cross-validation-in-python-80b61beca4b6) and perform 10 fold cross validation while training the classifier. The final trained model was final evaluated on the test data. \n",
        "\n",
        "Algorithms:\n",
        "\n",
        "(1) MultinominalNB\n",
        "\n",
        "(2) SVM \n",
        "\n",
        "(3) KNN \n",
        "\n",
        "(4) Decision tree\n",
        "\n",
        "(5) Random Forest\n",
        "\n",
        "(6) XGBoost\n",
        "\n",
        "Evaluation measurement:\n",
        "\n",
        "(1) Accuracy\n",
        "\n",
        "(2) Recall\n",
        "\n",
        "(3) Precison \n",
        "\n",
        "(4) F-1 score"
      ]
    },
    {
      "cell_type": "code",
      "execution_count": 12,
      "metadata": {
        "id": "9t1NEi5hwpPl"
      },
      "outputs": [],
      "source": [
        "# Write your code here\n",
        "\n",
        "\n",
        "# imports\n",
        "import re\n",
        "from nltk.corpus import stopwords\n",
        "from nltk.stem import PorterStemmer\n",
        "from textblob import Word\n",
        "import pandas as pd\n",
        "import nltk\n",
        "import pandas as pd\n",
        "from sklearn.metrics import accuracy_score, classification_report\n",
        "from sklearn.naive_bayes import MultinomialNB\n",
        "from sklearn.neighbors import KNeighborsClassifier\n",
        "from sklearn.svm import LinearSVC\n",
        "from sklearn.tree import DecisionTreeClassifier\n",
        "from sklearn.ensemble import RandomForestClassifier\n",
        "from sklearn.model_selection import train_test_split, cross_validate, StratifiedKFold, KFold, cross_val_score\n",
        "from xgboost import XGBClassifier"
      ]
    },
    {
      "cell_type": "code",
      "source": [
        "# loading the dataset\n",
        "\n",
        "train_df = pd.read_csv(r'/content/stsa-train.txt',sep = 'delimiter=',header= None,names=['Text'])\n",
        "train_df[['Sentiment','Text']] = train_df[\"Text\"].str.split(\" \", 1, expand=True)\n",
        "test_df = pd.read_csv(r'/content/stsa-test.txt',sep = 'delimiter=',header= None,names=['Text'])\n",
        "test_df[['Sentiment','Text']] = test_df[\"Text\"].str.split(\" \", 1, expand=True)\n"
      ],
      "metadata": {
        "id": "-9IgtVSF4AZ1"
      },
      "execution_count": 13,
      "outputs": []
    },
    {
      "cell_type": "code",
      "source": [
        "# training dataset\n",
        "train_df.head()"
      ],
      "metadata": {
        "colab": {
          "base_uri": "https://localhost:8080/",
          "height": 204
        },
        "id": "WO39BZtQ4AWk",
        "outputId": "e3a58abc-ff18-45e3-fa81-dbf2a1d1dde3"
      },
      "execution_count": 14,
      "outputs": [
        {
          "output_type": "execute_result",
          "data": {
            "text/plain": [
              "                                                Text Sentiment\n",
              "0  a stirring , funny and finally transporting re...         1\n",
              "1  apparently reassembled from the cutting-room f...         0\n",
              "2  they presume their audience wo n't sit still f...         0\n",
              "3  this is a visually stunning rumination on love...         1\n",
              "4  jonathan parker 's bartleby should have been t...         1"
            ],
            "text/html": [
              "\n",
              "  <div id=\"df-9081ebf8-8093-42ef-983d-8cdef28175c8\">\n",
              "    <div class=\"colab-df-container\">\n",
              "      <div>\n",
              "<style scoped>\n",
              "    .dataframe tbody tr th:only-of-type {\n",
              "        vertical-align: middle;\n",
              "    }\n",
              "\n",
              "    .dataframe tbody tr th {\n",
              "        vertical-align: top;\n",
              "    }\n",
              "\n",
              "    .dataframe thead th {\n",
              "        text-align: right;\n",
              "    }\n",
              "</style>\n",
              "<table border=\"1\" class=\"dataframe\">\n",
              "  <thead>\n",
              "    <tr style=\"text-align: right;\">\n",
              "      <th></th>\n",
              "      <th>Text</th>\n",
              "      <th>Sentiment</th>\n",
              "    </tr>\n",
              "  </thead>\n",
              "  <tbody>\n",
              "    <tr>\n",
              "      <th>0</th>\n",
              "      <td>a stirring , funny and finally transporting re...</td>\n",
              "      <td>1</td>\n",
              "    </tr>\n",
              "    <tr>\n",
              "      <th>1</th>\n",
              "      <td>apparently reassembled from the cutting-room f...</td>\n",
              "      <td>0</td>\n",
              "    </tr>\n",
              "    <tr>\n",
              "      <th>2</th>\n",
              "      <td>they presume their audience wo n't sit still f...</td>\n",
              "      <td>0</td>\n",
              "    </tr>\n",
              "    <tr>\n",
              "      <th>3</th>\n",
              "      <td>this is a visually stunning rumination on love...</td>\n",
              "      <td>1</td>\n",
              "    </tr>\n",
              "    <tr>\n",
              "      <th>4</th>\n",
              "      <td>jonathan parker 's bartleby should have been t...</td>\n",
              "      <td>1</td>\n",
              "    </tr>\n",
              "  </tbody>\n",
              "</table>\n",
              "</div>\n",
              "      <button class=\"colab-df-convert\" onclick=\"convertToInteractive('df-9081ebf8-8093-42ef-983d-8cdef28175c8')\"\n",
              "              title=\"Convert this dataframe to an interactive table.\"\n",
              "              style=\"display:none;\">\n",
              "        \n",
              "  <svg xmlns=\"http://www.w3.org/2000/svg\" height=\"24px\"viewBox=\"0 0 24 24\"\n",
              "       width=\"24px\">\n",
              "    <path d=\"M0 0h24v24H0V0z\" fill=\"none\"/>\n",
              "    <path d=\"M18.56 5.44l.94 2.06.94-2.06 2.06-.94-2.06-.94-.94-2.06-.94 2.06-2.06.94zm-11 1L8.5 8.5l.94-2.06 2.06-.94-2.06-.94L8.5 2.5l-.94 2.06-2.06.94zm10 10l.94 2.06.94-2.06 2.06-.94-2.06-.94-.94-2.06-.94 2.06-2.06.94z\"/><path d=\"M17.41 7.96l-1.37-1.37c-.4-.4-.92-.59-1.43-.59-.52 0-1.04.2-1.43.59L10.3 9.45l-7.72 7.72c-.78.78-.78 2.05 0 2.83L4 21.41c.39.39.9.59 1.41.59.51 0 1.02-.2 1.41-.59l7.78-7.78 2.81-2.81c.8-.78.8-2.07 0-2.86zM5.41 20L4 18.59l7.72-7.72 1.47 1.35L5.41 20z\"/>\n",
              "  </svg>\n",
              "      </button>\n",
              "      \n",
              "  <style>\n",
              "    .colab-df-container {\n",
              "      display:flex;\n",
              "      flex-wrap:wrap;\n",
              "      gap: 12px;\n",
              "    }\n",
              "\n",
              "    .colab-df-convert {\n",
              "      background-color: #E8F0FE;\n",
              "      border: none;\n",
              "      border-radius: 50%;\n",
              "      cursor: pointer;\n",
              "      display: none;\n",
              "      fill: #1967D2;\n",
              "      height: 32px;\n",
              "      padding: 0 0 0 0;\n",
              "      width: 32px;\n",
              "    }\n",
              "\n",
              "    .colab-df-convert:hover {\n",
              "      background-color: #E2EBFA;\n",
              "      box-shadow: 0px 1px 2px rgba(60, 64, 67, 0.3), 0px 1px 3px 1px rgba(60, 64, 67, 0.15);\n",
              "      fill: #174EA6;\n",
              "    }\n",
              "\n",
              "    [theme=dark] .colab-df-convert {\n",
              "      background-color: #3B4455;\n",
              "      fill: #D2E3FC;\n",
              "    }\n",
              "\n",
              "    [theme=dark] .colab-df-convert:hover {\n",
              "      background-color: #434B5C;\n",
              "      box-shadow: 0px 1px 3px 1px rgba(0, 0, 0, 0.15);\n",
              "      filter: drop-shadow(0px 1px 2px rgba(0, 0, 0, 0.3));\n",
              "      fill: #FFFFFF;\n",
              "    }\n",
              "  </style>\n",
              "\n",
              "      <script>\n",
              "        const buttonEl =\n",
              "          document.querySelector('#df-9081ebf8-8093-42ef-983d-8cdef28175c8 button.colab-df-convert');\n",
              "        buttonEl.style.display =\n",
              "          google.colab.kernel.accessAllowed ? 'block' : 'none';\n",
              "\n",
              "        async function convertToInteractive(key) {\n",
              "          const element = document.querySelector('#df-9081ebf8-8093-42ef-983d-8cdef28175c8');\n",
              "          const dataTable =\n",
              "            await google.colab.kernel.invokeFunction('convertToInteractive',\n",
              "                                                     [key], {});\n",
              "          if (!dataTable) return;\n",
              "\n",
              "          const docLinkHtml = 'Like what you see? Visit the ' +\n",
              "            '<a target=\"_blank\" href=https://colab.research.google.com/notebooks/data_table.ipynb>data table notebook</a>'\n",
              "            + ' to learn more about interactive tables.';\n",
              "          element.innerHTML = '';\n",
              "          dataTable['output_type'] = 'display_data';\n",
              "          await google.colab.output.renderOutput(dataTable, element);\n",
              "          const docLink = document.createElement('div');\n",
              "          docLink.innerHTML = docLinkHtml;\n",
              "          element.appendChild(docLink);\n",
              "        }\n",
              "      </script>\n",
              "    </div>\n",
              "  </div>\n",
              "  "
            ]
          },
          "metadata": {},
          "execution_count": 14
        }
      ]
    },
    {
      "cell_type": "code",
      "source": [
        "# test dataset\n",
        "test_df.head()"
      ],
      "metadata": {
        "colab": {
          "base_uri": "https://localhost:8080/",
          "height": 204
        },
        "id": "bW_fS-wW4ATd",
        "outputId": "ba3fc72a-add4-4ce6-8809-1a6188a7c794"
      },
      "execution_count": 15,
      "outputs": [
        {
          "output_type": "execute_result",
          "data": {
            "text/plain": [
              "                                                Text Sentiment\n",
              "0     no movement , no yuks , not much of anything .         0\n",
              "1  a gob of drivel so sickly sweet , even the eag...         0\n",
              "2  gangs of new york is an unapologetic mess , wh...         0\n",
              "3  we never really feel involved with the story ,...         0\n",
              "4            this is one of polanski 's best films .         1"
            ],
            "text/html": [
              "\n",
              "  <div id=\"df-be52e360-e073-4d3e-9b8c-a15d9d0c889f\">\n",
              "    <div class=\"colab-df-container\">\n",
              "      <div>\n",
              "<style scoped>\n",
              "    .dataframe tbody tr th:only-of-type {\n",
              "        vertical-align: middle;\n",
              "    }\n",
              "\n",
              "    .dataframe tbody tr th {\n",
              "        vertical-align: top;\n",
              "    }\n",
              "\n",
              "    .dataframe thead th {\n",
              "        text-align: right;\n",
              "    }\n",
              "</style>\n",
              "<table border=\"1\" class=\"dataframe\">\n",
              "  <thead>\n",
              "    <tr style=\"text-align: right;\">\n",
              "      <th></th>\n",
              "      <th>Text</th>\n",
              "      <th>Sentiment</th>\n",
              "    </tr>\n",
              "  </thead>\n",
              "  <tbody>\n",
              "    <tr>\n",
              "      <th>0</th>\n",
              "      <td>no movement , no yuks , not much of anything .</td>\n",
              "      <td>0</td>\n",
              "    </tr>\n",
              "    <tr>\n",
              "      <th>1</th>\n",
              "      <td>a gob of drivel so sickly sweet , even the eag...</td>\n",
              "      <td>0</td>\n",
              "    </tr>\n",
              "    <tr>\n",
              "      <th>2</th>\n",
              "      <td>gangs of new york is an unapologetic mess , wh...</td>\n",
              "      <td>0</td>\n",
              "    </tr>\n",
              "    <tr>\n",
              "      <th>3</th>\n",
              "      <td>we never really feel involved with the story ,...</td>\n",
              "      <td>0</td>\n",
              "    </tr>\n",
              "    <tr>\n",
              "      <th>4</th>\n",
              "      <td>this is one of polanski 's best films .</td>\n",
              "      <td>1</td>\n",
              "    </tr>\n",
              "  </tbody>\n",
              "</table>\n",
              "</div>\n",
              "      <button class=\"colab-df-convert\" onclick=\"convertToInteractive('df-be52e360-e073-4d3e-9b8c-a15d9d0c889f')\"\n",
              "              title=\"Convert this dataframe to an interactive table.\"\n",
              "              style=\"display:none;\">\n",
              "        \n",
              "  <svg xmlns=\"http://www.w3.org/2000/svg\" height=\"24px\"viewBox=\"0 0 24 24\"\n",
              "       width=\"24px\">\n",
              "    <path d=\"M0 0h24v24H0V0z\" fill=\"none\"/>\n",
              "    <path d=\"M18.56 5.44l.94 2.06.94-2.06 2.06-.94-2.06-.94-.94-2.06-.94 2.06-2.06.94zm-11 1L8.5 8.5l.94-2.06 2.06-.94-2.06-.94L8.5 2.5l-.94 2.06-2.06.94zm10 10l.94 2.06.94-2.06 2.06-.94-2.06-.94-.94-2.06-.94 2.06-2.06.94z\"/><path d=\"M17.41 7.96l-1.37-1.37c-.4-.4-.92-.59-1.43-.59-.52 0-1.04.2-1.43.59L10.3 9.45l-7.72 7.72c-.78.78-.78 2.05 0 2.83L4 21.41c.39.39.9.59 1.41.59.51 0 1.02-.2 1.41-.59l7.78-7.78 2.81-2.81c.8-.78.8-2.07 0-2.86zM5.41 20L4 18.59l7.72-7.72 1.47 1.35L5.41 20z\"/>\n",
              "  </svg>\n",
              "      </button>\n",
              "      \n",
              "  <style>\n",
              "    .colab-df-container {\n",
              "      display:flex;\n",
              "      flex-wrap:wrap;\n",
              "      gap: 12px;\n",
              "    }\n",
              "\n",
              "    .colab-df-convert {\n",
              "      background-color: #E8F0FE;\n",
              "      border: none;\n",
              "      border-radius: 50%;\n",
              "      cursor: pointer;\n",
              "      display: none;\n",
              "      fill: #1967D2;\n",
              "      height: 32px;\n",
              "      padding: 0 0 0 0;\n",
              "      width: 32px;\n",
              "    }\n",
              "\n",
              "    .colab-df-convert:hover {\n",
              "      background-color: #E2EBFA;\n",
              "      box-shadow: 0px 1px 2px rgba(60, 64, 67, 0.3), 0px 1px 3px 1px rgba(60, 64, 67, 0.15);\n",
              "      fill: #174EA6;\n",
              "    }\n",
              "\n",
              "    [theme=dark] .colab-df-convert {\n",
              "      background-color: #3B4455;\n",
              "      fill: #D2E3FC;\n",
              "    }\n",
              "\n",
              "    [theme=dark] .colab-df-convert:hover {\n",
              "      background-color: #434B5C;\n",
              "      box-shadow: 0px 1px 3px 1px rgba(0, 0, 0, 0.15);\n",
              "      filter: drop-shadow(0px 1px 2px rgba(0, 0, 0, 0.3));\n",
              "      fill: #FFFFFF;\n",
              "    }\n",
              "  </style>\n",
              "\n",
              "      <script>\n",
              "        const buttonEl =\n",
              "          document.querySelector('#df-be52e360-e073-4d3e-9b8c-a15d9d0c889f button.colab-df-convert');\n",
              "        buttonEl.style.display =\n",
              "          google.colab.kernel.accessAllowed ? 'block' : 'none';\n",
              "\n",
              "        async function convertToInteractive(key) {\n",
              "          const element = document.querySelector('#df-be52e360-e073-4d3e-9b8c-a15d9d0c889f');\n",
              "          const dataTable =\n",
              "            await google.colab.kernel.invokeFunction('convertToInteractive',\n",
              "                                                     [key], {});\n",
              "          if (!dataTable) return;\n",
              "\n",
              "          const docLinkHtml = 'Like what you see? Visit the ' +\n",
              "            '<a target=\"_blank\" href=https://colab.research.google.com/notebooks/data_table.ipynb>data table notebook</a>'\n",
              "            + ' to learn more about interactive tables.';\n",
              "          element.innerHTML = '';\n",
              "          dataTable['output_type'] = 'display_data';\n",
              "          await google.colab.output.renderOutput(dataTable, element);\n",
              "          const docLink = document.createElement('div');\n",
              "          docLink.innerHTML = docLinkHtml;\n",
              "          element.appendChild(docLink);\n",
              "        }\n",
              "      </script>\n",
              "    </div>\n",
              "  </div>\n",
              "  "
            ]
          },
          "metadata": {},
          "execution_count": 15
        }
      ]
    },
    {
      "cell_type": "code",
      "source": [
        "import nltk\n",
        "import re\n",
        "import string\n",
        "nltk.download('stopwords')\n",
        "nltk.download('wordnet')\n",
        "stopword=nltk.corpus.stopwords.words('english')\n",
        "from nltk.stem import WordNetLemmatizer\n",
        "wl= WordNetLemmatizer()\n",
        "# data cleaning\n",
        "def clean_text(data):\n",
        "  data=\"\".join([word.lower() for word in data if word not in string.punctuation])\n",
        "  data = re.sub(\"^\\d+\\s|\\s\\d+\\s|\\s\\d+$\", \" \", data)\n",
        "  tokens = re.split('\\W+',data)\n",
        "  data = [wl.lemmatize(word) for word in tokens if word not in stopword]\n",
        "  return data"
      ],
      "metadata": {
        "colab": {
          "base_uri": "https://localhost:8080/"
        },
        "id": "go29k4wV4AQT",
        "outputId": "1ee2b994-38c5-42bc-ad96-256a9e44e067"
      },
      "execution_count": 16,
      "outputs": [
        {
          "output_type": "stream",
          "name": "stdout",
          "text": [
            "[nltk_data] Downloading package stopwords to /root/nltk_data...\n",
            "[nltk_data]   Package stopwords is already up-to-date!\n",
            "[nltk_data] Downloading package wordnet to /root/nltk_data...\n",
            "[nltk_data]   Package wordnet is already up-to-date!\n"
          ]
        }
      ]
    },
    {
      "cell_type": "code",
      "source": [
        "# Convert text and train data into numerical\n",
        "from sklearn.feature_extraction.text import TfidfVectorizer\n",
        "tfidf_vect = TfidfVectorizer(analyzer = clean_text)\n",
        "X_tfidf = tfidf_vect.fit_transform(train_df['Text'])\n",
        "print(X_tfidf.shape)\n",
        "X_tfidf_df=pd.DataFrame(X_tfidf.toarray())\n",
        "X_tfidf_df.columns=tfidf_vect.get_feature_names()\n",
        "X_test_tfidf = tfidf_vect.transform(test_df['Text'])\n",
        "print(X_test_tfidf.shape)"
      ],
      "metadata": {
        "colab": {
          "base_uri": "https://localhost:8080/"
        },
        "id": "K2WB3YiH4PoZ",
        "outputId": "129620cd-ba23-435d-b8ea-d18c5ae4dd9d"
      },
      "execution_count": 17,
      "outputs": [
        {
          "output_type": "stream",
          "name": "stdout",
          "text": [
            "(6920, 13343)\n",
            "(1821, 13343)\n"
          ]
        }
      ]
    },
    {
      "cell_type": "code",
      "source": [
        "# Algorithms\n",
        "mnb = MultinomialNB()\n",
        "svm = LinearSVC()\n",
        "knn = KNeighborsClassifier(n_neighbors=5,n_jobs=-1)\n",
        "dt = DecisionTreeClassifier()\n",
        "rf = RandomForestClassifier()\n",
        "xgb = XGBClassifier()\n",
        "\n",
        "# spliting the train data\n",
        "x_train, x_test, y_train, y_test = train_test_split(X_tfidf_df, train_df['Sentiment'].values,\n",
        "                                                test_size=0.2, random_state=42)\n",
        "model_mnb = mnb.fit(x_train,y_train)"
      ],
      "metadata": {
        "id": "61b0U5fP4PiX"
      },
      "execution_count": 18,
      "outputs": []
    },
    {
      "cell_type": "code",
      "source": [
        "# Defining method for cross validation score for all models\n",
        "import numpy as np\n",
        "from sklearn.model_selection import cross_val_score, KFold\n",
        "def cross_validation_score(modelName, x, y):\n",
        "  scoring = 'accuracy'\n",
        "  kfold = KFold(10, random_state = 7,shuffle=True)\n",
        "  cross_val = cross_val_score(modelName, x, y, cv=kfold).mean()\n",
        "  return cross_val"
      ],
      "metadata": {
        "id": "A5y2gtyL6JGw"
      },
      "execution_count": 19,
      "outputs": []
    },
    {
      "cell_type": "code",
      "source": [
        "# (1) MultinominalNB\n",
        "\n",
        "from sklearn.metrics import accuracy_score\n",
        "from sklearn.metrics import classification_report\n",
        "mnb_test = mnb.fit(x_train,y_train)\n",
        "y_mnb = mnb_test.predict(x_test)\n",
        "print('Accuracy Score: %s' % accuracy_score(y_mnb,y_test))\n",
        "print(classification_report(y_test,y_mnb))\n",
        "from sklearn.model_selection import cross_val_score\n",
        "scores_MNB = cross_val_score(mnb, x_test, y_test, cv=10)\n",
        "kfold = KFold(10, random_state = 7, shuffle=True)\n",
        "print(\"Accuracy with MultinominalNB:\",scores_MNB.mean())\n",
        "mnb_scores_mean = cross_validation_score(mnb,x_test,y_test)\n",
        "print('MNB Cross Validation Score: {0}'.format(mnb_scores_mean))\n",
        "test_predicted_mnb = mnb.predict(x_test)\n",
        "test_accuracy_mnb = round(accuracy_score(test_predicted_mnb, y_test),4)*100\n",
        "print(\"\\nTesting Data\")\n",
        "print(\"Accuracy: \", test_accuracy_mnb)\n",
        "print(classification_report(y_test, test_predicted_mnb))"
      ],
      "metadata": {
        "colab": {
          "base_uri": "https://localhost:8080/"
        },
        "id": "Xn0qDtnU4PfS",
        "outputId": "6d546e0d-2c19-4d8e-a98b-dcc3ef16d44c"
      },
      "execution_count": 23,
      "outputs": [
        {
          "output_type": "stream",
          "name": "stdout",
          "text": [
            "Accuracy Score: 0.7955202312138728\n",
            "              precision    recall  f1-score   support\n",
            "\n",
            "           0       0.85      0.70      0.77       671\n",
            "           1       0.76      0.88      0.82       713\n",
            "\n",
            "    accuracy                           0.80      1384\n",
            "   macro avg       0.80      0.79      0.79      1384\n",
            "weighted avg       0.80      0.80      0.79      1384\n",
            "\n",
            "Accuracy with MultinominalNB: 0.7247054530288813\n",
            "MNB Cross Validation Score: 0.7138828067980398\n",
            "\n",
            "Testing Data\n",
            "Accuracy:  79.55\n",
            "              precision    recall  f1-score   support\n",
            "\n",
            "           0       0.85      0.70      0.77       671\n",
            "           1       0.76      0.88      0.82       713\n",
            "\n",
            "    accuracy                           0.80      1384\n",
            "   macro avg       0.80      0.79      0.79      1384\n",
            "weighted avg       0.80      0.80      0.79      1384\n",
            "\n"
          ]
        }
      ]
    },
    {
      "cell_type": "code",
      "source": [
        "# (2) SVM\n",
        "\n",
        "svm_test = svm.fit(x_train,y_train)\n",
        "y_svm = svm_test.predict(x_test)\n",
        "print('Accuracy Score: %s' % accuracy_score(y_svm,y_test))\n",
        "print(classification_report(y_test,y_svm))\n",
        "from sklearn.model_selection import cross_val_score\n",
        "scores_SVM = cross_val_score(svm, x_test, y_test, cv=10)\n",
        "print(\"Accuracy with SVM:\",scores_SVM.mean())\n",
        "svm_scores_mean = cross_validation_score(svm, x_test,y_test)\n",
        "print('SVM Cross Validation Score: {0}'.format(svm_scores_mean))\n",
        "test_predicted_svm = svm.predict(x_test)\n",
        "test_accuracy_svm = round(accuracy_score(test_predicted_svm, y_test),4)*100\n",
        "print(\"\\nTesting Data\")\n",
        "print(\"Accuracy: \", test_accuracy_svm)\n",
        "print(classification_report(y_test, test_predicted_svm))"
      ],
      "metadata": {
        "colab": {
          "base_uri": "https://localhost:8080/"
        },
        "id": "R3vVp0j64fh_",
        "outputId": "17a62533-45f1-44a6-9246-126f3fc936b2"
      },
      "execution_count": 24,
      "outputs": [
        {
          "output_type": "stream",
          "name": "stdout",
          "text": [
            "Accuracy Score: 0.791907514450867\n",
            "              precision    recall  f1-score   support\n",
            "\n",
            "           0       0.81      0.75      0.78       671\n",
            "           1       0.78      0.83      0.80       713\n",
            "\n",
            "    accuracy                           0.79      1384\n",
            "   macro avg       0.79      0.79      0.79      1384\n",
            "weighted avg       0.79      0.79      0.79      1384\n",
            "\n",
            "Accuracy with SVM: 0.7348034615785632\n",
            "SVM Cross Validation Score: 0.7348451673443853\n",
            "\n",
            "Testing Data\n",
            "Accuracy:  79.19\n",
            "              precision    recall  f1-score   support\n",
            "\n",
            "           0       0.81      0.75      0.78       671\n",
            "           1       0.78      0.83      0.80       713\n",
            "\n",
            "    accuracy                           0.79      1384\n",
            "   macro avg       0.79      0.79      0.79      1384\n",
            "weighted avg       0.79      0.79      0.79      1384\n",
            "\n"
          ]
        }
      ]
    },
    {
      "cell_type": "code",
      "source": [
        "# (3) KNN Model\n",
        "knn_test = knn.fit(x_train,y_train)\n",
        "y_knn = knn_test.predict(x_test)\n",
        "print('Accuracy Score: %s' % accuracy_score(y_knn,y_test))\n",
        "print(classification_report(y_test,y_knn))\n",
        "from sklearn.model_selection import cross_val_score\n",
        "scores_KNN = cross_val_score(knn, x_test, y_test, cv=10)\n",
        "print(\"Accuracy with KNN Model:\",scores_KNN.mean())\n",
        "knn_scores_mean = cross_validation_score(knn, x_test,y_test)\n",
        "print('KNN Cross Validation Score: {0}'.format(knn_scores_mean))\n",
        "test_predicted_knn = knn.predict(x_test)\n",
        "test_accuracy_knn = round(accuracy_score(test_predicted_knn, y_test),4)*100\n",
        "print(\"\\nTesting Data\")\n",
        "print(\"Accuracy: \", test_accuracy_knn)\n",
        "print(classification_report(y_test, test_predicted_knn))"
      ],
      "metadata": {
        "colab": {
          "base_uri": "https://localhost:8080/"
        },
        "id": "12h-eyV34fe6",
        "outputId": "1c9946f0-4643-4baf-a5d0-966da06e3e59"
      },
      "execution_count": 25,
      "outputs": [
        {
          "output_type": "stream",
          "name": "stdout",
          "text": [
            "Accuracy Score: 0.740606936416185\n",
            "              precision    recall  f1-score   support\n",
            "\n",
            "           0       0.75      0.71      0.73       671\n",
            "           1       0.74      0.77      0.75       713\n",
            "\n",
            "    accuracy                           0.74      1384\n",
            "   macro avg       0.74      0.74      0.74      1384\n",
            "weighted avg       0.74      0.74      0.74      1384\n",
            "\n",
            "Accuracy with KNN Model: 0.6675737670732979\n",
            "KNN Cross Validation Score: 0.6669325409237826\n",
            "\n",
            "Testing Data\n",
            "Accuracy:  74.06\n",
            "              precision    recall  f1-score   support\n",
            "\n",
            "           0       0.75      0.71      0.73       671\n",
            "           1       0.74      0.77      0.75       713\n",
            "\n",
            "    accuracy                           0.74      1384\n",
            "   macro avg       0.74      0.74      0.74      1384\n",
            "weighted avg       0.74      0.74      0.74      1384\n",
            "\n"
          ]
        }
      ]
    },
    {
      "cell_type": "code",
      "source": [
        "# (4) Decision tree\n",
        "des_tree_test = dt.fit(x_train,y_train)\n",
        "y_des_tree = des_tree_test.predict(x_test)\n",
        "print('Accuracy Score: %s' % accuracy_score(y_des_tree,y_test))\n",
        "print(classification_report(y_test,y_des_tree))\n",
        "scores_DT = cross_val_score(dt, x_test, y_test, cv=10)\n",
        "print(\"Accuracy with Decision tree:\",scores_DT.mean())\n",
        "dt_scores_mean = cross_validation_score(dt, x_test,y_test)\n",
        "print('Decision Tree Cross Validation Score: {0}'.format(dt_scores_mean))\n",
        "test_predicted_dt = dt.predict(x_test)\n",
        "test_accuracy_dt = round(accuracy_score(test_predicted_dt, y_test),4)*100\n",
        "print(\"\\nTesting Data\")\n",
        "print(\"Accuracy: \", test_accuracy_dt)\n",
        "print(classification_report(y_test, test_predicted_dt))"
      ],
      "metadata": {
        "colab": {
          "base_uri": "https://localhost:8080/"
        },
        "id": "2YggUNEx4fcB",
        "outputId": "e0be32b1-9c58-4a5b-eeed-98640456d3f0"
      },
      "execution_count": 26,
      "outputs": [
        {
          "output_type": "stream",
          "name": "stdout",
          "text": [
            "Accuracy Score: 0.6582369942196532\n",
            "              precision    recall  f1-score   support\n",
            "\n",
            "           0       0.66      0.61      0.64       671\n",
            "           1       0.66      0.70      0.68       713\n",
            "\n",
            "    accuracy                           0.66      1384\n",
            "   macro avg       0.66      0.66      0.66      1384\n",
            "weighted avg       0.66      0.66      0.66      1384\n",
            "\n",
            "Accuracy with Decision tree: 0.6112397038890627\n",
            "Decision Tree Cross Validation Score: 0.6097956417474715\n",
            "\n",
            "Testing Data\n",
            "Accuracy:  65.82000000000001\n",
            "              precision    recall  f1-score   support\n",
            "\n",
            "           0       0.66      0.61      0.64       671\n",
            "           1       0.66      0.70      0.68       713\n",
            "\n",
            "    accuracy                           0.66      1384\n",
            "   macro avg       0.66      0.66      0.66      1384\n",
            "weighted avg       0.66      0.66      0.66      1384\n",
            "\n"
          ]
        }
      ]
    },
    {
      "cell_type": "code",
      "source": [
        "# (5) Random Forest\n",
        "rf_test = rf.fit(x_train,y_train)\n",
        "y_rf = rf_test.predict(x_test)\n",
        "print('Accuracy Score: %s' % accuracy_score(y_rf,y_test))\n",
        "print(classification_report(y_test,y_rf))\n",
        "scores_RF = cross_val_score(rf, x_test, y_test, cv=10)\n",
        "print(\"Accuracy with Random Forest:\",scores_RF.mean())\n",
        "rf_scores_mean = cross_validation_score(rf, x_test,y_test)\n",
        "print('Random Forest Cross Validation Score: {0}'.format(rf_scores_mean))\n",
        "test_predicted_rf = rf.predict(x_test)\n",
        "test_accuracy_rf = round(accuracy_score(test_predicted_rf, y_test),4)*100\n",
        "print(\"\\nTesting Data\")\n",
        "print(\"Accuracy: \", test_accuracy_rf)\n",
        "print(classification_report(y_test, test_predicted_rf))"
      ],
      "metadata": {
        "colab": {
          "base_uri": "https://localhost:8080/"
        },
        "id": "Z85raFRd4fXj",
        "outputId": "e24d2ab3-95fc-4729-acfc-9d1f1c0357e6"
      },
      "execution_count": 27,
      "outputs": [
        {
          "output_type": "stream",
          "name": "stdout",
          "text": [
            "Accuracy Score: 0.7413294797687862\n",
            "              precision    recall  f1-score   support\n",
            "\n",
            "           0       0.78      0.65      0.71       671\n",
            "           1       0.72      0.82      0.77       713\n",
            "\n",
            "    accuracy                           0.74      1384\n",
            "   macro avg       0.75      0.74      0.74      1384\n",
            "weighted avg       0.75      0.74      0.74      1384\n",
            "\n",
            "Accuracy with Random Forest: 0.6791783964133041\n",
            "Random Forest Cross Validation Score: 0.6798978208737358\n",
            "\n",
            "Testing Data\n",
            "Accuracy:  74.13\n",
            "              precision    recall  f1-score   support\n",
            "\n",
            "           0       0.78      0.65      0.71       671\n",
            "           1       0.72      0.82      0.77       713\n",
            "\n",
            "    accuracy                           0.74      1384\n",
            "   macro avg       0.75      0.74      0.74      1384\n",
            "weighted avg       0.75      0.74      0.74      1384\n",
            "\n"
          ]
        }
      ]
    },
    {
      "cell_type": "code",
      "source": [
        "#(6) XGBoost\n",
        "xgb_test = xgb.fit(x_train,y_train)\n",
        "y_xgb = xgb_test.predict(x_test)\n",
        "print('Accuracy Score: %s' % accuracy_score(y_xgb,y_test))\n",
        "print(classification_report(y_test,y_xgb))\n",
        "scores_XGB = cross_val_score(xgb, x_test, y_test, cv=10)\n",
        "print(\"Accuracy with XGBoost:\",scores_XGB.mean())\n",
        "xgb_scores_mean = cross_validation_score(xgb, x_test,y_test)\n",
        "print('XGBoost Cross Validation Score: {0}'.format(xgb_scores_mean))\n",
        "test_predicted_xgb = xgb.predict(x_test)\n",
        "test_accuracy_xgb = round(accuracy_score(test_predicted_xgb, y_test),4)*100\n",
        "print(\"\\nTesting Data\")\n",
        "print(\"Accuracy: \", test_accuracy_xgb)\n",
        "print(classification_report(y_test, test_predicted_xgb))"
      ],
      "metadata": {
        "colab": {
          "base_uri": "https://localhost:8080/"
        },
        "id": "Y8VLXRRp4AMP",
        "outputId": "83b1b19e-17ea-4f93-aef2-425326c82c95"
      },
      "execution_count": 28,
      "outputs": [
        {
          "output_type": "stream",
          "name": "stdout",
          "text": [
            "Accuracy Score: 0.6445086705202312\n",
            "              precision    recall  f1-score   support\n",
            "\n",
            "           0       0.75      0.40      0.52       671\n",
            "           1       0.61      0.88      0.72       713\n",
            "\n",
            "    accuracy                           0.64      1384\n",
            "   macro avg       0.68      0.64      0.62      1384\n",
            "weighted avg       0.68      0.64      0.62      1384\n",
            "\n",
            "Accuracy with XGBoost: 0.6184704410384736\n",
            "XGBoost Cross Validation Score: 0.614211239703889\n",
            "\n",
            "Testing Data\n",
            "Accuracy:  64.45\n",
            "              precision    recall  f1-score   support\n",
            "\n",
            "           0       0.75      0.40      0.52       671\n",
            "           1       0.61      0.88      0.72       713\n",
            "\n",
            "    accuracy                           0.64      1384\n",
            "   macro avg       0.68      0.64      0.62      1384\n",
            "weighted avg       0.68      0.64      0.62      1384\n",
            "\n"
          ]
        }
      ]
    },
    {
      "cell_type": "code",
      "source": [
        "print(\"Accuracy with MultinominalNB: \",scores_MNB.mean())\n",
        "print(\"Accuracy with SVM: \",scores_SVM.mean())\n",
        "print(\"Accuracy with KNN: \",scores_KNN.mean())\n",
        "print(\"Accuracy with Decision tree: \",scores_DT.mean())\n",
        "print(\"Accuracy with Random Forest: \",scores_RF.mean())\n",
        "print(\"Accuracy with XGBoost: \",scores_XGB.mean())"
      ],
      "metadata": {
        "colab": {
          "base_uri": "https://localhost:8080/"
        },
        "id": "I13gk08P4AI4",
        "outputId": "69eef17c-1594-47be-9fe1-bbd423caa190"
      },
      "execution_count": 29,
      "outputs": [
        {
          "output_type": "stream",
          "name": "stdout",
          "text": [
            "Accuracy with MultinominalNB:  0.7247054530288813\n",
            "Accuracy with SVM:  0.7348034615785632\n",
            "Accuracy with KNN:  0.6675737670732979\n",
            "Accuracy with Decision tree:  0.6112397038890627\n",
            "Accuracy with Random Forest:  0.6791783964133041\n",
            "Accuracy with XGBoost:  0.6184704410384736\n"
          ]
        }
      ]
    },
    {
      "cell_type": "code",
      "source": [
        "predict_svm = svm_test.predict(X_test_tfidf)\n",
        "print('Final trained model(SVM) with high accuracy evaluated on the test data: %s' % accuracy_score(predict_svm,test_df['Sentiment']))"
      ],
      "metadata": {
        "colab": {
          "base_uri": "https://localhost:8080/"
        },
        "id": "ch1YET0m4AGQ",
        "outputId": "18b46f98-d481-422f-a632-3ac54faf7a7a"
      },
      "execution_count": 30,
      "outputs": [
        {
          "output_type": "stream",
          "name": "stdout",
          "text": [
            "Final trained model(SVM) with high accuracy evaluated on the test data: 0.7891268533772653\n"
          ]
        }
      ]
    },
    {
      "cell_type": "markdown",
      "metadata": {
        "id": "Fm2PYMgZwpPu"
      },
      "source": [
        "(20 points) The purpose of the question is to practice different machine learning algorithms for text clustering\n",
        "Please downlad the dataset by using the following link.  https://www.kaggle.com/PromptCloudHQ/amazon-reviews-unlocked-mobile-phones\n",
        "(You can also use different text data which you want)\n",
        "\n",
        "Apply the listed clustering methods to the dataset:\n",
        "\n",
        "K means, \n",
        "DBSCAN,\n",
        "Hierarchical clustering. \n",
        "\n",
        "You can refer to of the codes from  the follwing link below. \n",
        "https://www.kaggle.com/karthik3890/text-clustering "
      ]
    },
    {
      "cell_type": "code",
      "execution_count": 31,
      "metadata": {
        "colab": {
          "base_uri": "https://localhost:8080/",
          "height": 204
        },
        "id": "0gU98OVIwpPw",
        "outputId": "9c78d7bc-ac22-467b-f250-315f9db323cb"
      },
      "outputs": [
        {
          "output_type": "execute_result",
          "data": {
            "text/plain": [
              "   Unnamed: 0                                             Review\n",
              "0           0  Purchased this product advertised as fully unl...\n",
              "1           1  I was feeling a bit skeptical after I placed m...\n",
              "2           2             Phone was not unlocked could it use it\n",
              "3           3  The screen came cracked and popped out of the ...\n",
              "4           4  This is the best experience I have ever had wi..."
            ],
            "text/html": [
              "\n",
              "  <div id=\"df-8a3050ed-4724-4872-9d21-82424a954a95\">\n",
              "    <div class=\"colab-df-container\">\n",
              "      <div>\n",
              "<style scoped>\n",
              "    .dataframe tbody tr th:only-of-type {\n",
              "        vertical-align: middle;\n",
              "    }\n",
              "\n",
              "    .dataframe tbody tr th {\n",
              "        vertical-align: top;\n",
              "    }\n",
              "\n",
              "    .dataframe thead th {\n",
              "        text-align: right;\n",
              "    }\n",
              "</style>\n",
              "<table border=\"1\" class=\"dataframe\">\n",
              "  <thead>\n",
              "    <tr style=\"text-align: right;\">\n",
              "      <th></th>\n",
              "      <th>Unnamed: 0</th>\n",
              "      <th>Review</th>\n",
              "    </tr>\n",
              "  </thead>\n",
              "  <tbody>\n",
              "    <tr>\n",
              "      <th>0</th>\n",
              "      <td>0</td>\n",
              "      <td>Purchased this product advertised as fully unl...</td>\n",
              "    </tr>\n",
              "    <tr>\n",
              "      <th>1</th>\n",
              "      <td>1</td>\n",
              "      <td>I was feeling a bit skeptical after I placed m...</td>\n",
              "    </tr>\n",
              "    <tr>\n",
              "      <th>2</th>\n",
              "      <td>2</td>\n",
              "      <td>Phone was not unlocked could it use it</td>\n",
              "    </tr>\n",
              "    <tr>\n",
              "      <th>3</th>\n",
              "      <td>3</td>\n",
              "      <td>The screen came cracked and popped out of the ...</td>\n",
              "    </tr>\n",
              "    <tr>\n",
              "      <th>4</th>\n",
              "      <td>4</td>\n",
              "      <td>This is the best experience I have ever had wi...</td>\n",
              "    </tr>\n",
              "  </tbody>\n",
              "</table>\n",
              "</div>\n",
              "      <button class=\"colab-df-convert\" onclick=\"convertToInteractive('df-8a3050ed-4724-4872-9d21-82424a954a95')\"\n",
              "              title=\"Convert this dataframe to an interactive table.\"\n",
              "              style=\"display:none;\">\n",
              "        \n",
              "  <svg xmlns=\"http://www.w3.org/2000/svg\" height=\"24px\"viewBox=\"0 0 24 24\"\n",
              "       width=\"24px\">\n",
              "    <path d=\"M0 0h24v24H0V0z\" fill=\"none\"/>\n",
              "    <path d=\"M18.56 5.44l.94 2.06.94-2.06 2.06-.94-2.06-.94-.94-2.06-.94 2.06-2.06.94zm-11 1L8.5 8.5l.94-2.06 2.06-.94-2.06-.94L8.5 2.5l-.94 2.06-2.06.94zm10 10l.94 2.06.94-2.06 2.06-.94-2.06-.94-.94-2.06-.94 2.06-2.06.94z\"/><path d=\"M17.41 7.96l-1.37-1.37c-.4-.4-.92-.59-1.43-.59-.52 0-1.04.2-1.43.59L10.3 9.45l-7.72 7.72c-.78.78-.78 2.05 0 2.83L4 21.41c.39.39.9.59 1.41.59.51 0 1.02-.2 1.41-.59l7.78-7.78 2.81-2.81c.8-.78.8-2.07 0-2.86zM5.41 20L4 18.59l7.72-7.72 1.47 1.35L5.41 20z\"/>\n",
              "  </svg>\n",
              "      </button>\n",
              "      \n",
              "  <style>\n",
              "    .colab-df-container {\n",
              "      display:flex;\n",
              "      flex-wrap:wrap;\n",
              "      gap: 12px;\n",
              "    }\n",
              "\n",
              "    .colab-df-convert {\n",
              "      background-color: #E8F0FE;\n",
              "      border: none;\n",
              "      border-radius: 50%;\n",
              "      cursor: pointer;\n",
              "      display: none;\n",
              "      fill: #1967D2;\n",
              "      height: 32px;\n",
              "      padding: 0 0 0 0;\n",
              "      width: 32px;\n",
              "    }\n",
              "\n",
              "    .colab-df-convert:hover {\n",
              "      background-color: #E2EBFA;\n",
              "      box-shadow: 0px 1px 2px rgba(60, 64, 67, 0.3), 0px 1px 3px 1px rgba(60, 64, 67, 0.15);\n",
              "      fill: #174EA6;\n",
              "    }\n",
              "\n",
              "    [theme=dark] .colab-df-convert {\n",
              "      background-color: #3B4455;\n",
              "      fill: #D2E3FC;\n",
              "    }\n",
              "\n",
              "    [theme=dark] .colab-df-convert:hover {\n",
              "      background-color: #434B5C;\n",
              "      box-shadow: 0px 1px 3px 1px rgba(0, 0, 0, 0.15);\n",
              "      filter: drop-shadow(0px 1px 2px rgba(0, 0, 0, 0.3));\n",
              "      fill: #FFFFFF;\n",
              "    }\n",
              "  </style>\n",
              "\n",
              "      <script>\n",
              "        const buttonEl =\n",
              "          document.querySelector('#df-8a3050ed-4724-4872-9d21-82424a954a95 button.colab-df-convert');\n",
              "        buttonEl.style.display =\n",
              "          google.colab.kernel.accessAllowed ? 'block' : 'none';\n",
              "\n",
              "        async function convertToInteractive(key) {\n",
              "          const element = document.querySelector('#df-8a3050ed-4724-4872-9d21-82424a954a95');\n",
              "          const dataTable =\n",
              "            await google.colab.kernel.invokeFunction('convertToInteractive',\n",
              "                                                     [key], {});\n",
              "          if (!dataTable) return;\n",
              "\n",
              "          const docLinkHtml = 'Like what you see? Visit the ' +\n",
              "            '<a target=\"_blank\" href=https://colab.research.google.com/notebooks/data_table.ipynb>data table notebook</a>'\n",
              "            + ' to learn more about interactive tables.';\n",
              "          element.innerHTML = '';\n",
              "          dataTable['output_type'] = 'display_data';\n",
              "          await google.colab.output.renderOutput(dataTable, element);\n",
              "          const docLink = document.createElement('div');\n",
              "          docLink.innerHTML = docLinkHtml;\n",
              "          element.appendChild(docLink);\n",
              "        }\n",
              "      </script>\n",
              "    </div>\n",
              "  </div>\n",
              "  "
            ]
          },
          "metadata": {},
          "execution_count": 31
        }
      ],
      "source": [
        "#Write your code here.\n",
        "### Using the dataset I have generated from Assignment 2. As it is mentioned we can also use different text data as wanted.\n",
        "\n",
        "import pandas as pd\n",
        "df = pd.read_csv('review_text.csv')\n",
        "df.head()\n"
      ]
    },
    {
      "cell_type": "code",
      "source": [
        "# Text Preprocessing\n",
        "df['Text'] = df['Review'].apply(lambda x: \" \".join(x.lower() for x in str(x).split()))\n",
        "df['Text'] = df['Text'].str.replace('[^\\w\\s]','')\n",
        "from textblob import Word\n",
        "from nltk.corpus import stopwords\n",
        "import nltk\n",
        "nltk.download('stopwords')\n",
        "nltk.download('wordnet')\n",
        "stop = stopwords.words('english')\n",
        "df['Text'] = df['Text'].apply(lambda x: \" \".join(x for x in x.split() if x not in stop))\n",
        "df['Text'] = df['Text'].apply(lambda x: \" \".join([Word(word).lemmatize() for word in x.split()]))"
      ],
      "metadata": {
        "colab": {
          "base_uri": "https://localhost:8080/"
        },
        "id": "M1cOpk2XEpwG",
        "outputId": "1f6e9064-5f89-4f68-bf2f-35e54658f63f"
      },
      "execution_count": 32,
      "outputs": [
        {
          "output_type": "stream",
          "name": "stdout",
          "text": [
            "[nltk_data] Downloading package stopwords to /root/nltk_data...\n",
            "[nltk_data]   Package stopwords is already up-to-date!\n",
            "[nltk_data] Downloading package wordnet to /root/nltk_data...\n",
            "[nltk_data]   Package wordnet is already up-to-date!\n"
          ]
        }
      ]
    },
    {
      "cell_type": "code",
      "source": [
        "df['Text'].head()"
      ],
      "metadata": {
        "colab": {
          "base_uri": "https://localhost:8080/"
        },
        "id": "2C8N49_XEps2",
        "outputId": "b989d4e7-8327-40cb-bf14-5625812adf45"
      },
      "execution_count": 33,
      "outputs": [
        {
          "output_type": "execute_result",
          "data": {
            "text/plain": [
              "0    purchased product advertised fully unlocked in...\n",
              "1    feeling bit skeptical placed order proven wron...\n",
              "2                             phone unlocked could use\n",
              "3    screen came cracked popped frame hopefully ret...\n",
              "4    best experience ever buying renewed phone phon...\n",
              "Name: Text, dtype: object"
            ]
          },
          "metadata": {},
          "execution_count": 33
        }
      ]
    },
    {
      "cell_type": "code",
      "source": [
        "# TF-IDF \n",
        "from sklearn.feature_extraction.text import TfidfVectorizer\n",
        "tfidf_vect = TfidfVectorizer()\n",
        "tfidf_vects = tfidf_vect.fit_transform(df['Text'].values.astype('U'))\n",
        "names= tfidf_vect.get_feature_names()"
      ],
      "metadata": {
        "id": "Vy7lBV3uEpmZ"
      },
      "execution_count": 34,
      "outputs": []
    },
    {
      "cell_type": "code",
      "source": [
        "# K Means\n",
        "k=9\n",
        "from sklearn.cluster import KMeans\n",
        "model = KMeans(n_clusters = k,init='k-means++', max_iter=10000, random_state=50)\n",
        "model.fit(tfidf_vects)\n",
        "from collections import Counter\n",
        "Counter(model.labels_)"
      ],
      "metadata": {
        "colab": {
          "base_uri": "https://localhost:8080/"
        },
        "id": "TRHyjqcFEpiu",
        "outputId": "ad4991b6-f6bc-479f-fdfc-b13024a82874"
      },
      "execution_count": 37,
      "outputs": [
        {
          "output_type": "execute_result",
          "data": {
            "text/plain": [
              "Counter({0: 78, 1: 147, 2: 192, 3: 497, 4: 908, 5: 74, 6: 352, 7: 713, 8: 110})"
            ]
          },
          "metadata": {},
          "execution_count": 37
        }
      ]
    },
    {
      "cell_type": "code",
      "source": [
        "top_n_features = 10\n",
        "centroids = model.cluster_centers_.argsort()[:, ::-1]\n",
        "for cluster_num in range(k):\n",
        "    key_features = [names[i] for i in centroids[cluster_num, :top_n_features]]\n",
        "    print('CLUSTER #'+str(cluster_num+1))\n",
        "    print('Key Features:', key_features)\n",
        "    print('-'*100)"
      ],
      "metadata": {
        "colab": {
          "base_uri": "https://localhost:8080/"
        },
        "id": "aFawYzqCEpfc",
        "outputId": "689754a2-6c72-4e8e-84a7-fdaacc1a0aeb"
      },
      "execution_count": 38,
      "outputs": [
        {
          "output_type": "stream",
          "name": "stdout",
          "text": [
            "CLUSTER #1\n",
            "Key Features: ['good', 'phone', 'quality', 'condition', 'money', 'product', 'work', 'price', 'worth', 'far']\n",
            "----------------------------------------------------------------------------------------------------\n",
            "CLUSTER #2\n",
            "Key Features: ['great', 'work', 'phone', 'condition', 'price', 'everything', 'issue', 'purchase', 'product', 'life']\n",
            "----------------------------------------------------------------------------------------------------\n",
            "CLUSTER #3\n",
            "Key Features: ['like', 'new', 'brand', 'phone', 'look', 'work', 'great', 'love', 'condition', 'came']\n",
            "----------------------------------------------------------------------------------------------------\n",
            "CLUSTER #4\n",
            "Key Features: ['la', 'el', 'de', 'en', 'que', 'con', 'muy', 'batería', 'un', 'lo']\n",
            "----------------------------------------------------------------------------------------------------\n",
            "CLUSTER #5\n",
            "Key Features: ['perfect', 'work', 'iphone', 'product', 'battery', 'everything', 'excellent', 'buy', 'happy', 'phone']\n",
            "----------------------------------------------------------------------------------------------------\n",
            "CLUSTER #6\n",
            "Key Features: ['excelente', 'producto', 'estado', 'muy', 'buen', 'todo', 'equipo', 'funciona', 'calidad', 'compra']\n",
            "----------------------------------------------------------------------------------------------------\n",
            "CLUSTER #7\n",
            "Key Features: ['came', 'screen', 'scratch', 'phone', 'battery', 'protector', 'charger', 'life', 'condition', 'new']\n",
            "----------------------------------------------------------------------------------------------------\n",
            "CLUSTER #8\n",
            "Key Features: ['phone', 'new', 'work', 'one', 'im', 'battery', 'great', 'unlocked', 'get', 'good']\n",
            "----------------------------------------------------------------------------------------------------\n",
            "CLUSTER #9\n",
            "Key Features: ['love', 'daughter', 'phone', 'new', 'work', 'everything', 'absolutely', 'great', 'perfect', 'amazing']\n",
            "----------------------------------------------------------------------------------------------------\n"
          ]
        }
      ]
    },
    {
      "cell_type": "code",
      "source": [
        "cluster_center=model.cluster_centers_\n",
        "cluster_center"
      ],
      "metadata": {
        "colab": {
          "base_uri": "https://localhost:8080/"
        },
        "id": "yfcUKghbEw1g",
        "outputId": "07995231-8f18-4ae6-853b-0f0971b9dc3a"
      },
      "execution_count": 39,
      "outputs": [
        {
          "output_type": "execute_result",
          "data": {
            "text/plain": [
              "array([[0.        , 0.        , 0.        , ..., 0.        , 0.        ,\n",
              "        0.        ],\n",
              "       [0.        , 0.        , 0.        , ..., 0.        , 0.        ,\n",
              "        0.        ],\n",
              "       [0.        , 0.        , 0.00178507, ..., 0.        , 0.        ,\n",
              "        0.        ],\n",
              "       ...,\n",
              "       [0.        , 0.        , 0.00047864, ..., 0.        , 0.        ,\n",
              "        0.        ],\n",
              "       [0.        , 0.        , 0.00219465, ..., 0.        , 0.        ,\n",
              "        0.        ],\n",
              "       [0.        , 0.        , 0.00522881, ..., 0.        , 0.        ,\n",
              "        0.        ]])"
            ]
          },
          "metadata": {},
          "execution_count": 39
        }
      ]
    },
    {
      "cell_type": "code",
      "source": [
        "from sklearn import metrics\n",
        "silhouette_score = metrics.silhouette_score(tfidf_vects, model.labels_, metric='euclidean')\n",
        "silhouette_score"
      ],
      "metadata": {
        "colab": {
          "base_uri": "https://localhost:8080/"
        },
        "id": "qDMy6KAqEwxw",
        "outputId": "c3702d5a-9b10-4677-888f-59a1608a9434"
      },
      "execution_count": 40,
      "outputs": [
        {
          "output_type": "execute_result",
          "data": {
            "text/plain": [
              "0.022053188737393866"
            ]
          },
          "metadata": {},
          "execution_count": 40
        }
      ]
    },
    {
      "cell_type": "code",
      "source": [
        "# DBSCAN\n",
        "Text_reviews=[]\n",
        "for i in df['Text']:\n",
        "    Text_reviews.append(str(i).split())\n",
        "import gensim\n",
        "w2v_model=gensim.models.Word2Vec(Text_reviews, size=100, workers=4)"
      ],
      "metadata": {
        "id": "00FgfsoxFJdl"
      },
      "execution_count": 42,
      "outputs": []
    },
    {
      "cell_type": "code",
      "source": [
        "import numpy as np\n",
        "vectors = []\n",
        "for i in Text_reviews:\n",
        "    vector = np.zeros(100)\n",
        "    count = 0\n",
        "    for word in i:\n",
        "        try:\n",
        "            vec = w2v_model.wv[word]\n",
        "            vector += vec\n",
        "            count += 1\n",
        "        except:\n",
        "            pass\n",
        "    vector /= count\n",
        "    vectors.append(vector)  \n",
        "vectors = np.array(vectors)\n",
        "vectors = np.nan_to_num(vectors)"
      ],
      "metadata": {
        "id": "qpdfl6zEFJWG"
      },
      "execution_count": 43,
      "outputs": []
    },
    {
      "cell_type": "code",
      "source": [
        "from sklearn.cluster import DBSCAN\n",
        "minPts = 2*100\n",
        "\n",
        "def lower_bound(nums, target): \n",
        "    l, r = 0, len(nums) - 1\n",
        "    while l <= r:\n",
        "        mid = int(l + (r - l) / 2)\n",
        "        if nums[mid] >= target:\n",
        "            r = mid - 1\n",
        "        else:\n",
        "            l = mid + 1\n",
        "    return l\n",
        "\n",
        "def compute200thnearestneighbour(x, data): \n",
        "    dists = []\n",
        "    for val in data:\n",
        "        dist = np.sum((x - val) **2 ) \n",
        "        if(len(dists) == 200 and dists[199] > dist): \n",
        "            l = int(lower_bound(dists, dist)) \n",
        "            if l < 200 and l >= 0 and dists[l] > dist:\n",
        "                dists[l] = dist\n",
        "        else:\n",
        "            dists.append(dist)\n",
        "            dists.sort()\n",
        "# Dist 199 contains the distance of 200th nearest neighbour.    \n",
        "    return dists[199]\n",
        "\n",
        "vectors.shape"
      ],
      "metadata": {
        "colab": {
          "base_uri": "https://localhost:8080/"
        },
        "id": "KUUNynXSFJSM",
        "outputId": "229162ca-629d-4069-b005-2001c35ae27d"
      },
      "execution_count": 44,
      "outputs": [
        {
          "output_type": "execute_result",
          "data": {
            "text/plain": [
              "(3071, 100)"
            ]
          },
          "metadata": {},
          "execution_count": 44
        }
      ]
    },
    {
      "cell_type": "code",
      "source": [
        "neighbor = []\n",
        "for val in vectors[:300]:\n",
        "    neighbor.append(compute200thnearestneighbour(val, vectors[:300]))\n",
        "neighbor.sort()"
      ],
      "metadata": {
        "id": "VKXMQjsKFJOv"
      },
      "execution_count": 45,
      "outputs": []
    },
    {
      "cell_type": "code",
      "source": [
        "%matplotlib inline\n",
        "from matplotlib import pyplot as plt\n",
        "# Plotting for the Elbow Method :\n",
        "plt.figure(figsize=(5,5))\n",
        "plt.title(\"Elbow Method\")\n",
        "plt.plot([x for x in range(len(neighbor))], neighbor)\n",
        "plt.xlabel(\"length\")\n",
        "plt.ylabel(\"Distance\")\n",
        "plt.show()"
      ],
      "metadata": {
        "colab": {
          "base_uri": "https://localhost:8080/",
          "height": 350
        },
        "id": "nlNjRh5XEwtx",
        "outputId": "d3569262-e6a3-47cb-a13f-43316ccf2adf"
      },
      "execution_count": 46,
      "outputs": [
        {
          "output_type": "display_data",
          "data": {
            "text/plain": [
              "<Figure size 360x360 with 1 Axes>"
            ],
            "image/png": "[encoded data removed]"
          },
          "metadata": {
            "needs_background": "light"
          }
        }
      ]
    },
    {
      "cell_type": "code",
      "source": [
        "# Hierarchical Clustering\n",
        "import scipy\n",
        "from scipy.cluster import hierarchy\n",
        "dendro=hierarchy.dendrogram(hierarchy.linkage(vectors,method='ward'))\n",
        "plt.axhline(y=20)"
      ],
      "metadata": {
        "colab": {
          "base_uri": "https://localhost:8080/",
          "height": 285
        },
        "id": "mPGFek2tEwqL",
        "outputId": "a0f6161b-2b6f-47af-81f1-8721729371b9"
      },
      "execution_count": 47,
      "outputs": [
        {
          "output_type": "execute_result",
          "data": {
            "text/plain": [
              "<matplotlib.lines.Line2D at 0x7f4fe8ec6d90>"
            ]
          },
          "metadata": {},
          "execution_count": 47
        },
        {
          "output_type": "display_data",
          "data": {
            "text/plain": [
              "<Figure size 432x288 with 1 Axes>"
            ],
            "image/png": "[encoded data removed]"
          },
          "metadata": {
            "needs_background": "light"
          }
        }
      ]
    },
    {
      "cell_type": "markdown",
      "metadata": {
        "id": "mJBT9geDwpPx"
      },
      "source": [
        "In one paragraph, please compare K means, DBSCAN and Hierarchical clustering."
      ]
    },
    {
      "cell_type": "markdown",
      "source": [
        "Every point in the dataset is considered by K-means, which then utilizes that information to develop the grouping over a series of iterations. DBSCAN is built on density. Unknown clusters with the same density will be discovered using this method. Lastly, Hierarchical clustering is employed when we wish to locate the clusters inside the clusters. It's the ideal method to use when trying to uncover the data's hidden structures. In general, K-means is more efficient than DBSCAN and Hierarchical clustering, when dealing with large datasets."
      ],
      "metadata": {
        "id": "sn4Fi-3HGdiO"
      }
    }
  ],
  "metadata": {
    "kernelspec": {
      "display_name": "Python 3",
      "language": "python",
      "name": "python3"
    },
    "language_info": {
      "codemirror_mode": {
        "name": "ipython",
        "version": 3
      },
      "file_extension": ".py",
      "mimetype": "text/x-python",
      "name": "python",
      "nbconvert_exporter": "python",
      "pygments_lexer": "ipython3",
      "version": "3.8.5"
    },
    "colab": {
      "name": "In_class_exercise_05.ipynb",
      "provenance": [],
      "collapsed_sections": [],
      "include_colab_link": true
    }
  },
  "nbformat": 4,
  "nbformat_minor": 0
}