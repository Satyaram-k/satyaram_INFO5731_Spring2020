{
  "nbformat": 4,
  "nbformat_minor": 0,
  "metadata": {
    "colab": {
      "name": "project - filtering legal terms.ipynb",
      "provenance": [],
      "collapsed_sections": [],
      "authorship_tag": "ABX9TyOcZBLXN9GYH3bKHUv/Eeh9",
      "include_colab_link": true
    },
    "kernelspec": {
      "name": "python3",
      "display_name": "Python 3"
    },
    "language_info": {
      "name": "python"
    }
  },
  "cells": [
    {
      "cell_type": "markdown",
      "metadata": {
        "id": "view-in-github",
        "colab_type": "text"
      },
      "source": [
        "<a href=\"https://colab.research.google.com/github/Satyaram-k/satyaram_INFO5731_Spring2020/blob/main/Group_4-Caselaw_Access_Project/Filtering_legal_terms.ipynb\" target=\"_parent\"><img src=\"https://colab.research.google.com/assets/colab-badge.svg\" alt=\"Open In Colab\"/></a>"
      ]
    },
    {
      "cell_type": "code",
      "execution_count": null,
      "metadata": {
        "id": "vtoqIqTHSgtm"
      },
      "outputs": [],
      "source": [
        "!gdown https://drive.google.com/uc?id=1lCkLOJ_5VEhFs3EykCWncmQvHvBLN9Ud"
      ]
    },
    {
      "cell_type": "code",
      "source": [
        "!unzip /content/keyword_freq.zip"
      ],
      "metadata": {
        "id": "5LdCXgJoSjSB"
      },
      "execution_count": null,
      "outputs": []
    },
    {
      "cell_type": "code",
      "source": [
        "import pickle\n",
        "import pandas as pd"
      ],
      "metadata": {
        "id": "xCtqJauASk9R"
      },
      "execution_count": null,
      "outputs": []
    },
    {
      "cell_type": "code",
      "source": [
        "# loading data\n",
        "\n",
        "# texas\n",
        "df1 = pd.read_csv('/content/keyword_freq/tex_keywords_freq_group_5')\n",
        "df1.rename(columns = {'Unnamed: 0':'keyword', 'frequency':'frequency_group_5'}, inplace = True)\n",
        "\n",
        "df2 = pd.read_csv('/content/keyword_freq/tex_keywords_freq_group_4')\n",
        "df2.rename(columns = {'Unnamed: 0':'keyword', 'frequency':'frequency_group_4'}, inplace = True)\n",
        "\n",
        "df3 = pd.read_csv('/content/keyword_freq/tex_keywords_freq_group_3')\n",
        "df3.rename(columns = {'Unnamed: 0':'keyword', 'frequency':'frequency_group_3'}, inplace = True)\n",
        "\n",
        "df4 = pd.read_csv('/content/keyword_freq/tex_keywords_freq_group_2')\n",
        "df4.rename(columns = {'Unnamed: 0':'keyword', 'frequency':'frequency_group_2'}, inplace = True)\n",
        "\n",
        "df5 = pd.read_csv('/content/keyword_freq/tex_keywords_freq_group_1')\n",
        "df5.rename(columns = {'Unnamed: 0':'keyword', 'frequency':'frequency_group_1'}, inplace = True)\n",
        "\n",
        "# california\n",
        "df6 = pd.read_csv('/content/keyword_freq/cal_keywords_freq_group_5')\n",
        "df6.rename(columns = {'Unnamed: 0':'keyword', 'frequency':'frequency_group_5'}, inplace = True)\n",
        "\n",
        "df7 = pd.read_csv('/content/keyword_freq/cal_keywords_freq_group_4')\n",
        "df7.rename(columns = {'Unnamed: 0':'keyword', 'frequency':'frequency_group_4'}, inplace = True)\n",
        "\n",
        "df8 = pd.read_csv('/content/keyword_freq/cal_keywords_freq_group_3')\n",
        "df8.rename(columns = {'Unnamed: 0':'keyword', 'frequency':'frequency_group_3'}, inplace = True)\n",
        "\n",
        "df9 = pd.read_csv('/content/keyword_freq/cal_keywords_freq_group_2')\n",
        "df9.rename(columns = {'Unnamed: 0':'keyword', 'frequency':'frequency_group_2'}, inplace = True)\n",
        "\n",
        "df10 = pd.read_csv('/content/keyword_freq/cal_keywords_freq_group_1')\n",
        "df10.rename(columns = {'Unnamed: 0':'keyword', 'frequency':'frequency_group_1'}, inplace = True)"
      ],
      "metadata": {
        "id": "ih9VA2J9Smf5"
      },
      "execution_count": null,
      "outputs": []
    },
    {
      "cell_type": "code",
      "source": [
        "legal = pd.read_csv('/content/legal_terms.csv')"
      ],
      "metadata": {
        "id": "ecNfSZauTi8a"
      },
      "execution_count": null,
      "outputs": []
    },
    {
      "cell_type": "code",
      "source": [
        "legal_terms = legal['term'].values.tolist()"
      ],
      "metadata": {
        "id": "S9PBU-GVTwNp"
      },
      "execution_count": null,
      "outputs": []
    },
    {
      "cell_type": "code",
      "source": [
        "#filtering legal terms\n",
        "def legal_filter(x):\n",
        "  x = x.loc[x['keyword'].isin(legal_terms)]\n",
        "  x.reset_index(drop=True, inplace=True)\n",
        "  return x\n",
        "\n",
        "df1 = legal_filter(df1)\n",
        "df2 = legal_filter(df2)\n",
        "df3 = legal_filter(df3)\n",
        "df4 = legal_filter(df4)\n",
        "df5 = legal_filter(df5)\n",
        "df6 = legal_filter(df6)\n",
        "df7 = legal_filter(df7)\n",
        "df8 = legal_filter(df8)\n",
        "df9 = legal_filter(df9)\n",
        "df10 = legal_filter(df10)"
      ],
      "metadata": {
        "id": "qMhdwM6zWDzA"
      },
      "execution_count": null,
      "outputs": []
    },
    {
      "cell_type": "code",
      "source": [
        ""
      ],
      "metadata": {
        "id": "ASxghBrDUO2H"
      },
      "execution_count": null,
      "outputs": []
    }
  ]
}