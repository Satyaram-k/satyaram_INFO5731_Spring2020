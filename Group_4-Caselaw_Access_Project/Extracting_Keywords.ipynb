{
  "cells": [
    {
      "cell_type": "markdown",
      "metadata": {
        "id": "view-in-github",
        "colab_type": "text"
      },
      "source": [
        "<a href=\"https://colab.research.google.com/github/Satyaram-k/satyaram_INFO5731_Spring2020/blob/main/Group_4-Caselaw_Access_Project/Extracting_Keywords.ipynb\" target=\"_parent\"><img src=\"https://colab.research.google.com/assets/colab-badge.svg\" alt=\"Open In Colab\"/></a>"
      ]
    },
    {
      "cell_type": "code",
      "execution_count": null,
      "metadata": {
        "id": "qmrGP64em4C8"
      },
      "outputs": [],
      "source": [
        "!gdown https://drive.google.com/uc?id=1aznIp_tEjU50uAoEi5Dwhr_tPQZRCShW"
      ]
    },
    {
      "cell_type": "code",
      "execution_count": null,
      "metadata": {
        "id": "gP48I3pEm58t"
      },
      "outputs": [],
      "source": [
        "!unzip /content/caselaw_access_project_data.zip"
      ]
    },
    {
      "cell_type": "code",
      "execution_count": null,
      "metadata": {
        "id": "KUbKjvrvm8OO"
      },
      "outputs": [],
      "source": [
        "## Loading Data ##\n",
        "import pickle\n",
        "\n",
        "# Texas\n",
        "open_file = open('/content/List/tex_g_1.pkl', \"rb\")\n",
        "tex_group_1 = pickle.load(open_file)\n",
        "open_file.close()\n",
        "print('Number of cases in Texas in 2015 & 2016: ', len(tex_group_1))\n",
        "\n",
        "open_file = open('/content/List/tex_g_2.pkl', \"rb\")\n",
        "tex_group_2 = pickle.load(open_file)\n",
        "open_file.close()\n",
        "print('Number of cases in Texas in 2013 & 2014: ', len(tex_group_2))\n",
        "\n",
        "open_file = open('/content/List/tex_g_3.pkl', \"rb\")\n",
        "tex_group_3 = pickle.load(open_file)\n",
        "open_file.close()\n",
        "print('Number of cases in Texas in 2011 & 2012: ', len(tex_group_3))\n",
        "\n",
        "open_file = open('/content/List/tex_g_4.pkl', \"rb\")\n",
        "tex_group_4 = pickle.load(open_file)\n",
        "open_file.close()\n",
        "print('Number of cases in Texas in 2009 & 2010: ', len(tex_group_4))\n",
        "\n",
        "open_file = open('/content/List/tex_g_5.pkl', \"rb\")\n",
        "tex_group_5 = pickle.load(open_file)\n",
        "open_file.close()\n",
        "print('Number of cases in Texas in 2007 & 2008: ', len(tex_group_5))\n",
        "\n",
        "# California\n",
        "open_file = open('/content/List/cal_g_1.pkl', \"rb\")\n",
        "cal_group_1 = pickle.load(open_file)\n",
        "open_file.close()\n",
        "print('Number of cases in Californina in 2015 & 2016: ', len(cal_group_1))\n",
        "\n",
        "open_file = open('/content/List/cal_g_2.pkl', \"rb\")\n",
        "cal_group_2 = pickle.load(open_file)\n",
        "open_file.close()\n",
        "print('Number of cases in Californina in 2013 & 2014: ', len(cal_group_2))\n",
        "\n",
        "open_file = open('/content/List/cal_g_3.pkl', \"rb\")\n",
        "cal_group_3 = pickle.load(open_file)\n",
        "open_file.close()\n",
        "print('Number of cases in Californina in 2011 & 2012: ', len(cal_group_3))\n",
        "\n",
        "open_file = open('/content/List/cal_g_4.pkl', \"rb\")\n",
        "cal_group_4 = pickle.load(open_file)\n",
        "open_file.close()\n",
        "print('Number of cases in Californina in 2009 & 2010: ', len(cal_group_4))\n",
        "\n",
        "open_file = open('/content/List/cal_g_5.pkl', \"rb\")\n",
        "cal_group_5 = pickle.load(open_file)\n",
        "open_file.close()\n",
        "print('Number of cases in Californina in 2007 & 2008: ', len(cal_group_5))"
      ]
    },
    {
      "cell_type": "code",
      "execution_count": null,
      "metadata": {
        "id": "ttWGF4-2U36n"
      },
      "outputs": [],
      "source": [
        "!pip install keybert\n",
        "from keybert import KeyBERT\n",
        "\n",
        "doc = \"\"\"\n",
        "    Supervised learning is the machine learning task of learning a function that\n",
        "    maps an input to an output based on example input-output pairs. It infers a\n",
        "    function from labeled training data consisting of a set of training examples.\n",
        "    In supervised learning, each example is a pair consisting of an input object\n",
        "    (typically a vector) and a desired output value (also called the supervisory signal). \n",
        "    A supervised learning algorithm analyzes the training data and produces an inferred function, \n",
        "    which can be used for mapping new examples. An optimal scenario will allow for the \n",
        "    algorithm to correctly determine the class labels for unseen instances. This requires \n",
        "    the learning algorithm to generalize from the training data to unseen situations in a \n",
        "    'reasonable' way (see inductive bias).\n",
        "\"\"\"\n",
        "\n",
        "kw_model = KeyBERT()\n",
        "keywords = kw_model.extract_keywords(tex_group_1)\n",
        "group1 = (kw_model.extract_keywords(tex_group_1, keyphrase_ngram_range=(1, 1), stop_words=None))\n",
        "print(group1)"
      ]
    },
    {
      "cell_type": "code",
      "execution_count": null,
      "metadata": {
        "id": "o-eVrxyIaGYq"
      },
      "outputs": [],
      "source": [
        "kw_model = KeyBERT()\n",
        "keywords = kw_model.extract_keywords(tex_group_2)\n",
        "group2 = (kw_model.extract_keywords(tex_group_2, keyphrase_ngram_range=(1, 1), stop_words=None))\n",
        "print(group2)"
      ]
    },
    {
      "cell_type": "code",
      "execution_count": null,
      "metadata": {
        "id": "GCF199DlaHHC"
      },
      "outputs": [],
      "source": [
        "kw_model = KeyBERT()\n",
        "keywords = kw_model.extract_keywords(tex_group_3)\n",
        "group3 = (kw_model.extract_keywords(tex_group_3, keyphrase_ngram_range=(1, 1), stop_words=None))\n",
        "print(group3)"
      ]
    },
    {
      "cell_type": "code",
      "execution_count": null,
      "metadata": {
        "id": "lN8lTHu1aJhE"
      },
      "outputs": [],
      "source": [
        "kw_model = KeyBERT()\n",
        "keywords = kw_model.extract_keywords(tex_group_4)\n",
        "group4 = (kw_model.extract_keywords(tex_group_4, keyphrase_ngram_range=(1, 1), stop_words=None))\n",
        "print(group4)"
      ]
    },
    {
      "cell_type": "code",
      "execution_count": null,
      "metadata": {
        "id": "MKN2aa9MaL5C"
      },
      "outputs": [],
      "source": [
        "kw_model = KeyBERT()\n",
        "keywords = kw_model.extract_keywords(tex_group_5)\n",
        "group5 = (kw_model.extract_keywords(tex_group_5, keyphrase_ngram_range=(1, 1), stop_words=None))\n",
        "print(group5)"
      ]
    },
    {
      "cell_type": "code",
      "execution_count": null,
      "metadata": {
        "id": "yRkF1Zo5aN7x"
      },
      "outputs": [],
      "source": [
        "def key_list(group):\n",
        "  words_list = []\n",
        "  for x in group:\n",
        "    for y in x:\n",
        "      words_list.append(y[0])\n",
        "  return words_list"
      ]
    },
    {
      "cell_type": "code",
      "execution_count": null,
      "metadata": {
        "id": "0umOdme6yE07"
      },
      "outputs": [],
      "source": [
        "open_file = open('/content/tex_keywords_group_1.pkl', \"wb\")\n",
        "pickle.dump(key_list(group1), open_file)\n",
        "open_file.close()\n",
        "\n",
        "open_file = open('/content/tex_keywords_group_2.pkl', \"wb\")\n",
        "pickle.dump(key_list(group2), open_file)\n",
        "open_file.close()\n",
        "\n",
        "open_file = open('/content/tex_keywords_group_3.pkl', \"wb\")\n",
        "pickle.dump(key_list(group3), open_file)\n",
        "open_file.close()\n",
        "\n",
        "open_file = open('/content/tex_keywords_group_4.pkl', \"wb\")\n",
        "pickle.dump(key_list(group4), open_file)\n",
        "open_file.close()\n",
        "\n",
        "open_file = open('/content/tex_keywords_group_5.pkl', \"wb\")\n",
        "pickle.dump(key_list(group5), open_file)\n",
        "open_file.close()"
      ]
    },
    {
      "cell_type": "code",
      "execution_count": null,
      "metadata": {
        "id": "Res7L1Qx_Q32"
      },
      "outputs": [],
      "source": [
        "# from google.colab import files\n",
        "# files.download('/content/tex_keywords_group_1.pkl')\n",
        "# files.download('/content/tex_keywords_group_2.pkl')\n",
        "# files.download('/content/tex_keywords_group_3.pkl')\n",
        "# files.download('/content/tex_keywords_group_4.pkl')\n",
        "# files.download('/content/tex_keywords_group_5.pkl')"
      ]
    },
    {
      "cell_type": "code",
      "execution_count": null,
      "metadata": {
        "colab": {
          "background_save": true
        },
        "id": "FAbJPpYIyfsk"
      },
      "outputs": [],
      "source": [
        "kw_model = KeyBERT()\n",
        "keywords = kw_model.extract_keywords(cal_group_1)\n",
        "group6= (kw_model.extract_keywords(cal_group_1, keyphrase_ngram_range=(1, 1), stop_words=None))"
      ]
    },
    {
      "cell_type": "code",
      "execution_count": null,
      "metadata": {
        "colab": {
          "background_save": true
        },
        "id": "VsPpbCu9y2NG"
      },
      "outputs": [],
      "source": [
        "kw_model = KeyBERT()\n",
        "keywords = kw_model.extract_keywords(cal_group_2)\n",
        "group7 = (kw_model.extract_keywords(cal_group_2, keyphrase_ngram_range=(1, 1), stop_words=None))"
      ]
    },
    {
      "cell_type": "code",
      "execution_count": null,
      "metadata": {
        "colab": {
          "background_save": true
        },
        "id": "sYcbRjPAy8_z"
      },
      "outputs": [],
      "source": [
        "kw_model = KeyBERT()\n",
        "keywords = kw_model.extract_keywords(cal_group_3)\n",
        "group8 = (kw_model.extract_keywords(cal_group_3, keyphrase_ngram_range=(1, 1), stop_words=None))"
      ]
    },
    {
      "cell_type": "code",
      "execution_count": null,
      "metadata": {
        "colab": {
          "background_save": true
        },
        "id": "NMXRcZL40G8C"
      },
      "outputs": [],
      "source": [
        "kw_model = KeyBERT()\n",
        "keywords = kw_model.extract_keywords(cal_group_4)\n",
        "group9 = (kw_model.extract_keywords(cal_group_4, keyphrase_ngram_range=(1, 1), stop_words=None))"
      ]
    },
    {
      "cell_type": "code",
      "execution_count": null,
      "metadata": {
        "colab": {
          "background_save": true
        },
        "id": "cpSnsBMY0H6K"
      },
      "outputs": [],
      "source": [
        "kw_model = KeyBERT()\n",
        "keywords = kw_model.extract_keywords(cal_group_5)\n",
        "group10 = (kw_model.extract_keywords(cal_group_5, keyphrase_ngram_range=(1, 1), stop_words=None))"
      ]
    },
    {
      "cell_type": "code",
      "execution_count": null,
      "metadata": {
        "colab": {
          "background_save": true
        },
        "id": "T-5ZgLQN0ne6"
      },
      "outputs": [],
      "source": [
        "open_file = open('/content/cal/cal_keywords_group_1.pkl', \"wb\")\n",
        "pickle.dump(key_list(group6), open_file)\n",
        "open_file.close()\n",
        "\n",
        "open_file = open('/content/cal/cal_keywords_group_2.pkl', \"wb\")\n",
        "pickle.dump(key_list(group7), open_file)\n",
        "open_file.close()\n",
        "\n",
        "open_file = open('/content/cal/cal_keywords_group_3.pkl', \"wb\")\n",
        "pickle.dump(key_list(group8), open_file)\n",
        "open_file.close()\n",
        "\n",
        "open_file = open('/content/cal/cal_keywords_group_4.pkl', \"wb\")\n",
        "pickle.dump(key_list(group9), open_file)\n",
        "open_file.close()\n",
        "\n",
        "open_file = open('/content/cal/cal_keywords_group_5.pkl', \"wb\")\n",
        "pickle.dump(key_list(group10), open_file)\n",
        "open_file.close()"
      ]
    },
    {
      "cell_type": "code",
      "execution_count": null,
      "metadata": {
        "colab": {
          "background_save": true
        },
        "id": "63URmx7W7SkT"
      },
      "outputs": [],
      "source": [
        "# from google.colab import files\n",
        "# files.download('/content/cal/cal_keywords_group_1.pkl')\n",
        "# files.download('/content/cal/cal_keywords_group_2.pkl')\n",
        "# files.download('/content/cal/cal_keywords_group_3.pkl')\n",
        "# files.download('/content/cal/cal_keywords_group_4.pkl')\n",
        "# files.download('/content/cal/cal_keywords_group_5.pkl')"
      ]
    }
  ],
  "metadata": {
    "colab": {
      "collapsed_sections": [],
      "name": "Project - Extracting Keywords.ipynb",
      "provenance": [],
      "include_colab_link": true
    },
    "kernelspec": {
      "display_name": "Python 3",
      "name": "python3"
    },
    "language_info": {
      "name": "python"
    }
  },
  "nbformat": 4,
  "nbformat_minor": 0
}