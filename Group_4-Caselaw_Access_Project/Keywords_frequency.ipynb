{
  "nbformat": 4,
  "nbformat_minor": 0,
  "metadata": {
    "colab": {
      "name": "project - keywords frequency.ipynb",
      "provenance": [],
      "authorship_tag": "ABX9TyPsX37amC4Y7xeIvB+ART+l",
      "include_colab_link": true
    },
    "kernelspec": {
      "name": "python3",
      "display_name": "Python 3"
    },
    "language_info": {
      "name": "python"
    }
  },
  "cells": [
    {
      "cell_type": "markdown",
      "metadata": {
        "id": "view-in-github",
        "colab_type": "text"
      },
      "source": [
        "<a href=\"https://colab.research.google.com/github/Satyaram-k/satyaram_INFO5731_Spring2020/blob/main/Group_4-Caselaw_Access_Project/Keywords_frequency.ipynb\" target=\"_parent\"><img src=\"https://colab.research.google.com/assets/colab-badge.svg\" alt=\"Open In Colab\"/></a>"
      ]
    },
    {
      "cell_type": "code",
      "execution_count": null,
      "metadata": {
        "id": "Nh9aCDGD0qIo"
      },
      "outputs": [],
      "source": [
        "!gdown https://drive.google.com/uc?id=1AAEdMJDz_qALP9fS5V52O5pjzkpu68pK"
      ]
    },
    {
      "cell_type": "code",
      "source": [
        "!unzip /content/groups_keywords_pkl_files.zip"
      ],
      "metadata": {
        "id": "jGyhSLU70wWJ"
      },
      "execution_count": null,
      "outputs": []
    },
    {
      "cell_type": "code",
      "source": [
        "# imports\n",
        "import pickle\n",
        "import pandas as pd"
      ],
      "metadata": {
        "id": "fag92F4t01iN"
      },
      "execution_count": null,
      "outputs": []
    },
    {
      "cell_type": "code",
      "source": [
        "# loading data\n",
        "\n",
        "# texas\n",
        "open_file = open('/content/groups keywords pkl files/tex_keywords_group_1.pkl', \"rb\")\n",
        "tex_keywords_group_1 = pickle.load(open_file)\n",
        "open_file.close()\n",
        "\n",
        "open_file = open('/content/groups keywords pkl files/tex_keywords_group_2.pkl', \"rb\")\n",
        "tex_keywords_group_2 = pickle.load(open_file)\n",
        "open_file.close()\n",
        "\n",
        "open_file = open('/content/groups keywords pkl files/tex_keywords_group_3.pkl', \"rb\")\n",
        "tex_keywords_group_3 = pickle.load(open_file)\n",
        "open_file.close()\n",
        "\n",
        "open_file = open('/content/groups keywords pkl files/tex_keywords_group_4.pkl', \"rb\")\n",
        "tex_keywords_group_4 = pickle.load(open_file)\n",
        "open_file.close()\n",
        "\n",
        "open_file = open('/content/groups keywords pkl files/tex_keywords_group_5.pkl', \"rb\")\n",
        "tex_keywords_group_5 = pickle.load(open_file)\n",
        "open_file.close()\n",
        "\n",
        "# california\n",
        "open_file = open('/content/groups keywords pkl files/cal_keywords_group_1.pkl', \"rb\")\n",
        "cal_keywords_group_1 = pickle.load(open_file)\n",
        "open_file.close()\n",
        "\n",
        "open_file = open('/content/groups keywords pkl files/cal_keywords_group_2.pkl', \"rb\")\n",
        "cal_keywords_group_2 = pickle.load(open_file)\n",
        "open_file.close()\n",
        "\n",
        "open_file = open('/content/groups keywords pkl files/cal_keywords_group_3.pkl', \"rb\")\n",
        "cal_keywords_group_3 = pickle.load(open_file)\n",
        "open_file.close()\n",
        "\n",
        "open_file = open('/content/groups keywords pkl files/cal_keywords_group_4.pkl', \"rb\")\n",
        "cal_keywords_group_4 = pickle.load(open_file)\n",
        "open_file.close()\n",
        "\n",
        "open_file = open('/content/groups keywords pkl files/cal_keywords_group_5.pkl', \"rb\")\n",
        "cal_keywords_group_5 = pickle.load(open_file)\n",
        "open_file.close()"
      ],
      "metadata": {
        "id": "wAsx3Epg06Q0"
      },
      "execution_count": null,
      "outputs": []
    },
    {
      "cell_type": "code",
      "source": [
        "def keyword_freq(keyword_list):\n",
        "  freq = {}\n",
        "  for item in keyword_list:\n",
        "    if item in freq:\n",
        "      freq[item] += 1\n",
        "    else:\n",
        "      freq[item] = 1\n",
        "  \n",
        "  df = pd.DataFrame.from_dict(freq, orient='index', columns = ['frequency'])\n",
        "  df = df.sort_values(by=['frequency'], ascending=False)\n",
        "  return df"
      ],
      "metadata": {
        "id": "urOzYC1A1HwM"
      },
      "execution_count": null,
      "outputs": []
    },
    {
      "cell_type": "code",
      "source": [
        "keyword_freq(tex_keywords_group_1).to_csv('tex_keywords_freq_group_1')"
      ],
      "metadata": {
        "id": "4azP2f5P2mA_"
      },
      "execution_count": null,
      "outputs": []
    },
    {
      "cell_type": "code",
      "source": [
        "keyword_freq(tex_keywords_group_2).to_csv('tex_keywords_freq_group_2')\n",
        "keyword_freq(tex_keywords_group_3).to_csv('tex_keywords_freq_group_3')\n",
        "keyword_freq(tex_keywords_group_4).to_csv('tex_keywords_freq_group_4')\n",
        "keyword_freq(tex_keywords_group_5).to_csv('tex_keywords_freq_group_5')\n",
        "\n",
        "keyword_freq(cal_keywords_group_1).to_csv('cal_keywords_freq_group_1')\n",
        "keyword_freq(cal_keywords_group_2).to_csv('cal_keywords_freq_group_2')\n",
        "keyword_freq(cal_keywords_group_3).to_csv('cal_keywords_freq_group_3')\n",
        "keyword_freq(cal_keywords_group_4).to_csv('cal_keywords_freq_group_4')\n",
        "keyword_freq(cal_keywords_group_5).to_csv('cal_keywords_freq_group_5')"
      ],
      "metadata": {
        "id": "lXgWrOy22qI_"
      },
      "execution_count": null,
      "outputs": []
    },
    {
      "cell_type": "code",
      "source": [
        ""
      ],
      "metadata": {
        "id": "uv_G5KgN4YtV"
      },
      "execution_count": null,
      "outputs": []
    }
  ]
}