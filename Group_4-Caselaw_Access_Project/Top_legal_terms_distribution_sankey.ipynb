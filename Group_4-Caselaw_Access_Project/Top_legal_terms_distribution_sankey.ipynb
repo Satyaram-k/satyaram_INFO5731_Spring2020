{
  "nbformat": 4,
  "nbformat_minor": 0,
  "metadata": {
    "colab": {
      "name": "project - top legal terms distribution.ipynb",
      "provenance": [],
      "collapsed_sections": [],
      "include_colab_link": true
    },
    "kernelspec": {
      "name": "python3",
      "display_name": "Python 3"
    },
    "language_info": {
      "name": "python"
    }
  },
  "cells": [
    {
      "cell_type": "markdown",
      "metadata": {
        "id": "view-in-github",
        "colab_type": "text"
      },
      "source": [
        "<a href=\"https://colab.research.google.com/github/Satyaram-k/satyaram_INFO5731_Spring2020/blob/main/Group_4-Caselaw_Access_Project/Top_legal_terms_distribution_sankey.ipynb\" target=\"_parent\"><img src=\"https://colab.research.google.com/assets/colab-badge.svg\" alt=\"Open In Colab\"/></a>"
      ]
    },
    {
      "cell_type": "code",
      "source": [
        "!gdown https://drive.google.com/uc?id=1lCkLOJ_5VEhFs3EykCWncmQvHvBLN9Ud"
      ],
      "metadata": {
        "id": "BRnOgnAw6V21"
      },
      "execution_count": null,
      "outputs": []
    },
    {
      "cell_type": "code",
      "source": [
        "!unzip /content/keyword_freq.zip"
      ],
      "metadata": {
        "id": "hrPSevJW6YZs"
      },
      "execution_count": null,
      "outputs": []
    },
    {
      "cell_type": "code",
      "source": [
        "!gdown https://drive.google.com/uc?id=1VD4f9uYN6n6gYdMIWQRMfEdWMbpGk-Ff\n",
        "import pandas as pd\n",
        "legal = pd.read_csv('/content/legal_terms.csv')\n",
        "legal_terms = legal['term'].values.tolist()\n",
        "#filtering legal terms\n",
        "def legal_filter(x):\n",
        "  x = x.loc[x['word'].isin(legal_terms)]\n",
        "  x.reset_index(drop=True, inplace=True)\n",
        "  return x"
      ],
      "metadata": {
        "id": "z7TiDtTtt7gM"
      },
      "execution_count": null,
      "outputs": []
    },
    {
      "cell_type": "code",
      "source": [
        "import pandas as pd\n",
        "df = pd.read_csv(\"/content/keyword_freq/tex_keywords_freq_group_5\")\n",
        "df.columns = ['word', 'frequency']\n",
        "df"
      ],
      "metadata": {
        "id": "yyODskFNpGGF"
      },
      "execution_count": null,
      "outputs": []
    },
    {
      "cell_type": "code",
      "source": [
        "df = legal_filter(df)"
      ],
      "metadata": {
        "id": "5opn36ExuMcG"
      },
      "execution_count": null,
      "outputs": []
    },
    {
      "cell_type": "code",
      "source": [
        "df"
      ],
      "metadata": {
        "id": "qp6-CKa9uMbU"
      },
      "execution_count": null,
      "outputs": []
    },
    {
      "cell_type": "code",
      "source": [
        "df['FirstFloor'] = df['word'] \n",
        "df.columns = ['word','frequency', 'word1']\n",
        "df\n",
        "df = df[['word', 'word1','frequency']]\n",
        "df['word1']='2008-2009'\n",
        "df1= df.head(10)"
      ],
      "metadata": {
        "id": "Gt71bVrOrVHd"
      },
      "execution_count": null,
      "outputs": []
    },
    {
      "cell_type": "code",
      "source": [
        "df1.columns = ['source', 'target', 'value']\n",
        "df1"
      ],
      "metadata": {
        "id": "rjJRBqdOpgxk"
      },
      "execution_count": null,
      "outputs": []
    },
    {
      "cell_type": "code",
      "source": [
        "df = pd.read_csv(\"/content/keyword_freq/tex_keywords_freq_group_4\")\n",
        "df.columns = ['word', 'frequency']\n",
        "df['FirstFloor'] = df['word'] \n",
        "df.columns = ['word','frequency', 'word1']\n",
        "df = legal_filter(df)\n",
        "df = df[['word', 'word1','frequency']]\n",
        "df['word1']='2010-2011'\n",
        "df2= df.head(10)\n",
        "df2.columns = ['source', 'target', 'value']\n",
        "df2"
      ],
      "metadata": {
        "id": "3_V1Pu6b7jjM"
      },
      "execution_count": null,
      "outputs": []
    },
    {
      "cell_type": "code",
      "source": [
        "df = pd.read_csv(\"/content/keyword_freq/tex_keywords_freq_group_3\")\n",
        "df.columns = ['word', 'frequency']\n",
        "df['FirstFloor'] = df['word'] \n",
        "df.columns = ['word','frequency', 'word1']\n",
        "df = legal_filter(df)\n",
        "df = df[['word', 'word1','frequency']]\n",
        "df['word1']='2012-2013'\n",
        "df3= df.head(10)\n",
        "df3.columns = ['source', 'target', 'value']\n",
        "df3"
      ],
      "metadata": {
        "id": "g_iYOH_C86T5"
      },
      "execution_count": null,
      "outputs": []
    },
    {
      "cell_type": "code",
      "source": [
        "df = pd.read_csv(\"/content/keyword_freq/tex_keywords_freq_group_2\")\n",
        "df.columns = ['word', 'frequency']\n",
        "df['FirstFloor'] = df['word'] \n",
        "df.columns = ['word','frequency', 'word1']\n",
        "df = legal_filter(df)\n",
        "df = df[['word', 'word1','frequency']]\n",
        "df['word1']='2014-2015'\n",
        "df4= df.head(10)\n",
        "df4.columns = ['source', 'target', 'value']\n",
        "df4"
      ],
      "metadata": {
        "id": "HWS6ZUVd86Qx"
      },
      "execution_count": null,
      "outputs": []
    },
    {
      "cell_type": "code",
      "source": [
        "df = pd.read_csv(\"/content/keyword_freq/tex_keywords_freq_group_1\")\n",
        "df.columns = ['word', 'frequency']\n",
        "df['FirstFloor'] = df['word'] \n",
        "df.columns = ['word','frequency', 'word1']\n",
        "df = legal_filter(df)\n",
        "df = df[['word', 'word1','frequency']]\n",
        "df['word1']='2016-2017'\n",
        "df5= df.head(10)\n",
        "df5.columns = ['source', 'target', 'value']\n",
        "df5"
      ],
      "metadata": {
        "id": "SlBoVvh086Nz"
      },
      "execution_count": null,
      "outputs": []
    },
    {
      "cell_type": "code",
      "source": [
        ""
      ],
      "metadata": {
        "id": "LxsLGRLC86I5"
      },
      "execution_count": null,
      "outputs": []
    },
    {
      "cell_type": "code",
      "source": [
        "# df2 = pd.read_csv(\"/content/keyword_freq/tex_keywords_freq_group_4\")\n",
        "\n",
        "# df2['FirstFloor'] = df2['word'] \n",
        "# df.columns = ['word','frequency', 'word1']\n",
        "# df\n",
        "# df = df[['word', 'word1','frequency']]\n",
        "# df['word1']='2000'\n",
        "# df1= df.head(5)\n",
        "\n",
        "\n",
        "\n",
        "\n",
        "# df2.columns = ['word', 'frequency']\n",
        "# df2['FirstFloor1'] = df2['word']\n",
        "\n",
        "# df2.columns = ['word','frequency', 'word2']\n",
        "# df2['word2']='2001'\n",
        "# df2['alter'] = '1'\n",
        "\n",
        "# df2['word'] = df2['word']  + ' ' + df2['alter']\n",
        "# df2.drop(columns=['alter'])\n",
        "# df2 = df2[['word', 'word2','frequency']]\n",
        "# df2.head()\n",
        "# df3= df2.head(5)\n"
      ],
      "metadata": {
        "id": "bqUk7HPCsU7m"
      },
      "execution_count": null,
      "outputs": []
    },
    {
      "cell_type": "code",
      "source": [
        "# df3.columns = ['source', 'target', 'value']\n",
        "# df3"
      ],
      "metadata": {
        "id": "kS934UZYswzF"
      },
      "execution_count": null,
      "outputs": []
    },
    {
      "cell_type": "code",
      "source": [
        "links = pd.concat([df1, df2, df3, df4, df5], axis=0)\n",
        "\n",
        "links"
      ],
      "metadata": {
        "id": "7bWHDnxltJnl"
      },
      "execution_count": null,
      "outputs": []
    },
    {
      "cell_type": "code",
      "source": [
        "unique_source_target = list(pd.unique(links[['source', 'target']].values.ravel('K')))"
      ],
      "metadata": {
        "id": "lwQ6g4AStY3k"
      },
      "execution_count": null,
      "outputs": []
    },
    {
      "cell_type": "code",
      "source": [
        "unique_source_target"
      ],
      "metadata": {
        "id": "TseVHtEctbCs"
      },
      "execution_count": null,
      "outputs": []
    },
    {
      "cell_type": "code",
      "source": [
        "mapping_dict = {k: v for v, k in enumerate(unique_source_target)}"
      ],
      "metadata": {
        "id": "Mm6KmDvat6EF"
      },
      "execution_count": null,
      "outputs": []
    },
    {
      "cell_type": "code",
      "source": [
        "mapping_dict"
      ],
      "metadata": {
        "id": "SZcjTJY3t6wr"
      },
      "execution_count": null,
      "outputs": []
    },
    {
      "cell_type": "code",
      "source": [
        "links['source'] = links['source'].map(mapping_dict)\n",
        "links['target'] = links['target'].map(mapping_dict)"
      ],
      "metadata": {
        "id": "Mh_85gMCuBcz"
      },
      "execution_count": null,
      "outputs": []
    },
    {
      "cell_type": "code",
      "source": [
        "links"
      ],
      "metadata": {
        "id": "Cn_cGiG-uCm0"
      },
      "execution_count": null,
      "outputs": []
    },
    {
      "cell_type": "code",
      "source": [
        "links_dict = links.to_dict(orient='list')"
      ],
      "metadata": {
        "id": "H-1AteCduKKs"
      },
      "execution_count": null,
      "outputs": []
    },
    {
      "cell_type": "code",
      "source": [
        "import plotly.graph_objects as go\n",
        "fig = go.Figure(data=[go.Sankey(\n",
        "    node = dict(\n",
        "      pad = 15,\n",
        "      thickness = 200,\n",
        "      line = dict(color = \"black\", width = 0.5),\n",
        "      label = unique_source_target,\n",
        "      color = \"red\"\n",
        "    ),\n",
        "    link = dict(\n",
        "      source = links_dict[\"source\"],\n",
        "      target = links_dict[\"target\"],\n",
        "      value = links_dict[\"value\"]\n",
        "  ))])"
      ],
      "metadata": {
        "id": "nVCZkJVouNcM"
      },
      "execution_count": null,
      "outputs": []
    },
    {
      "cell_type": "code",
      "source": [
        "fig.update_layout(title_text=\"Texas Top Legal Terms Distribution\", font_size=30)\n",
        "fig.show()"
      ],
      "metadata": {
        "id": "dweUYh-due_c"
      },
      "execution_count": null,
      "outputs": []
    },
    {
      "cell_type": "code",
      "source": [
        ""
      ],
      "metadata": {
        "id": "6TAuCRH8wixL"
      },
      "execution_count": null,
      "outputs": []
    },
    {
      "cell_type": "code",
      "execution_count": null,
      "metadata": {
        "id": "B7NQS4e-PTMj"
      },
      "outputs": [],
      "source": [
        "import pandas as pd\n",
        "df = pd.read_csv(\"/content/keyword_freq/cal_keywords_freq_group_5\")\n",
        "df.columns = ['word', 'frequency']\n",
        "df = legal_filter(df)\n",
        "df['FirstFloor'] = df['word'] \n",
        "df.columns = ['word','frequency', 'word1']\n",
        "df\n",
        "df = df[['word', 'word1','frequency']]\n",
        "df['word1']='2008-2009'\n",
        "df1= df.head(10)\n",
        "df1.columns = ['source', 'target', 'value']\n",
        "df1"
      ]
    },
    {
      "cell_type": "code",
      "source": [
        "df = pd.read_csv(\"/content/keyword_freq/cal_keywords_freq_group_4\")\n",
        "df.columns = ['word', 'frequency']\n",
        "df['FirstFloor'] = df['word'] \n",
        "df.columns = ['word','frequency', 'word1']\n",
        "df = legal_filter(df)\n",
        "df = df[['word', 'word1','frequency']]\n",
        "df['word1']='2010-2011'\n",
        "df2= df.head(10)\n",
        "df2.columns = ['source', 'target', 'value']\n",
        "df2"
      ],
      "metadata": {
        "id": "ZYluemO_vzYr"
      },
      "execution_count": null,
      "outputs": []
    },
    {
      "cell_type": "code",
      "source": [
        "df = pd.read_csv(\"/content/keyword_freq/cal_keywords_freq_group_3\")\n",
        "df.columns = ['word', 'frequency']\n",
        "df['FirstFloor'] = df['word'] \n",
        "df.columns = ['word','frequency', 'word1']\n",
        "df = legal_filter(df)\n",
        "df = df[['word', 'word1','frequency']]\n",
        "df['word1']='2012-2013'\n",
        "df3= df.head(10)\n",
        "df3.columns = ['source', 'target', 'value']\n",
        "df3"
      ],
      "metadata": {
        "id": "LEeDBanFv1hi"
      },
      "execution_count": null,
      "outputs": []
    },
    {
      "cell_type": "code",
      "source": [
        "df = pd.read_csv(\"/content/keyword_freq/cal_keywords_freq_group_2\")\n",
        "df.columns = ['word', 'frequency']\n",
        "df['FirstFloor'] = df['word'] \n",
        "df.columns = ['word','frequency', 'word1']\n",
        "df = legal_filter(df)\n",
        "df = df[['word', 'word1','frequency']]\n",
        "df['word1']='2014-2015'\n",
        "df4= df.head(10)\n",
        "df4.columns = ['source', 'target', 'value']\n",
        "df4"
      ],
      "metadata": {
        "id": "F4-Hv97Wv1fC"
      },
      "execution_count": null,
      "outputs": []
    },
    {
      "cell_type": "code",
      "source": [
        "df = pd.read_csv(\"/content/keyword_freq/cal_keywords_freq_group_1\")\n",
        "df.columns = ['word', 'frequency']\n",
        "df['FirstFloor'] = df['word'] \n",
        "df.columns = ['word','frequency', 'word1']\n",
        "df = legal_filter(df)\n",
        "df = df[['word', 'word1','frequency']]\n",
        "df['word1']='2016-2017'\n",
        "df5= df.head(10)\n",
        "df5.columns = ['source', 'target', 'value']\n",
        "df5"
      ],
      "metadata": {
        "id": "PTM-uWAWv1cS"
      },
      "execution_count": null,
      "outputs": []
    },
    {
      "cell_type": "code",
      "source": [
        "links = pd.concat([df1, df2, df3, df4, df5], axis=0)\n",
        "\n",
        "links"
      ],
      "metadata": {
        "id": "9IIK3K9vv1Za"
      },
      "execution_count": null,
      "outputs": []
    },
    {
      "cell_type": "code",
      "source": [
        "unique_source_target = list(pd.unique(links[['source', 'target']].values.ravel('K')))"
      ],
      "metadata": {
        "id": "mdIEcsmcwjWd"
      },
      "execution_count": null,
      "outputs": []
    },
    {
      "cell_type": "code",
      "source": [
        "mapping_dict = {k: v for v, k in enumerate(unique_source_target)}"
      ],
      "metadata": {
        "id": "QUePr6_dwjWd"
      },
      "execution_count": null,
      "outputs": []
    },
    {
      "cell_type": "code",
      "source": [
        "mapping_dict"
      ],
      "metadata": {
        "id": "YUi4b2AIwjWf"
      },
      "execution_count": null,
      "outputs": []
    },
    {
      "cell_type": "code",
      "source": [
        "links['source'] = links['source'].map(mapping_dict)\n",
        "links['target'] = links['target'].map(mapping_dict)"
      ],
      "metadata": {
        "id": "E2CLm4FowjWf"
      },
      "execution_count": null,
      "outputs": []
    },
    {
      "cell_type": "code",
      "source": [
        "links"
      ],
      "metadata": {
        "id": "3EBkiPkHwjWg"
      },
      "execution_count": null,
      "outputs": []
    },
    {
      "cell_type": "code",
      "source": [
        "links_dict = links.to_dict(orient='list')"
      ],
      "metadata": {
        "id": "5Gl9LCCQwjWg"
      },
      "execution_count": null,
      "outputs": []
    },
    {
      "cell_type": "code",
      "source": [
        "import plotly.graph_objects as go\n",
        "fig = go.Figure(data=[go.Sankey(\n",
        "    node = dict(\n",
        "      pad = 15,\n",
        "      thickness = 200,\n",
        "      line = dict(color = \"black\", width = 0.5),\n",
        "      label = unique_source_target,\n",
        "      color = \"blue\"\n",
        "    ),\n",
        "    link = dict(\n",
        "      source = links_dict[\"source\"],\n",
        "      target = links_dict[\"target\"],\n",
        "      value = links_dict[\"value\"]\n",
        "  ))])"
      ],
      "metadata": {
        "id": "Abu3vItmwjWg"
      },
      "execution_count": null,
      "outputs": []
    },
    {
      "cell_type": "code",
      "source": [
        "fig.update_layout(title_text=\"California Top Legal Terms Distribution\", font_size=30)\n",
        "fig.show()"
      ],
      "metadata": {
        "id": "AnFRT38hwjWg"
      },
      "execution_count": null,
      "outputs": []
    },
    {
      "cell_type": "code",
      "source": [
        ""
      ],
      "metadata": {
        "id": "AgpEpQRkwiuj"
      },
      "execution_count": null,
      "outputs": []
    }
  ]
}