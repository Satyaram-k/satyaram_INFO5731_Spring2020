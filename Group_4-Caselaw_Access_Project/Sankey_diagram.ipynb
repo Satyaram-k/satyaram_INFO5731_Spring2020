{
  "nbformat": 4,
  "nbformat_minor": 0,
  "metadata": {
    "colab": {
      "name": "project - sankey diagram.ipynb",
      "provenance": [],
      "authorship_tag": "ABX9TyOs2rUposRZxcZeEGHKmwJX",
      "include_colab_link": true
    },
    "kernelspec": {
      "name": "python3",
      "display_name": "Python 3"
    },
    "language_info": {
      "name": "python"
    }
  },
  "cells": [
    {
      "cell_type": "markdown",
      "metadata": {
        "id": "view-in-github",
        "colab_type": "text"
      },
      "source": [
        "<a href=\"https://colab.research.google.com/github/Satyaram-k/satyaram_INFO5731_Spring2020/blob/main/Group_4-Caselaw_Access_Project/Sankey_diagram.ipynb\" target=\"_parent\"><img src=\"https://colab.research.google.com/assets/colab-badge.svg\" alt=\"Open In Colab\"/></a>"
      ]
    },
    {
      "cell_type": "code",
      "execution_count": null,
      "metadata": {
        "id": "L6Tzs7aQaAc5"
      },
      "outputs": [],
      "source": [
        "!gdown https://drive.google.com/uc?id=1lCkLOJ_5VEhFs3EykCWncmQvHvBLN9Ud"
      ]
    },
    {
      "cell_type": "code",
      "source": [
        "!unzip /content/keyword_freq.zip"
      ],
      "metadata": {
        "id": "xen6ELivaDAA"
      },
      "execution_count": null,
      "outputs": []
    },
    {
      "cell_type": "code",
      "source": [
        "import pickle\n",
        "import pandas as pd"
      ],
      "metadata": {
        "id": "H2F3SLM8aFsj"
      },
      "execution_count": null,
      "outputs": []
    },
    {
      "cell_type": "code",
      "source": [
        "# loading data\n",
        "\n",
        "# texas\n",
        "df1 = pd.read_csv('/content/keyword_freq/tex_keywords_freq_group_5')\n",
        "df1 = df1[df1['frequency']>10]\n",
        "df1.rename(columns = {'Unnamed: 0':'keyword', 'frequency':'frequency_group_5'}, inplace = True)\n",
        "\n",
        "df2 = pd.read_csv('/content/keyword_freq/tex_keywords_freq_group_4')\n",
        "df2 = df2[df2['frequency']>10]\n",
        "df2.rename(columns = {'Unnamed: 0':'keyword', 'frequency':'frequency_group_4'}, inplace = True)\n",
        "\n",
        "df3 = pd.read_csv('/content/keyword_freq/tex_keywords_freq_group_3')\n",
        "df3 = df3[df3['frequency']>10]\n",
        "df3.rename(columns = {'Unnamed: 0':'keyword', 'frequency':'frequency_group_3'}, inplace = True)\n",
        "\n",
        "df4 = pd.read_csv('/content/keyword_freq/tex_keywords_freq_group_2')\n",
        "df4 = df4[df4['frequency']>10]\n",
        "df4.rename(columns = {'Unnamed: 0':'keyword', 'frequency':'frequency_group_2'}, inplace = True)\n",
        "\n",
        "df5 = pd.read_csv('/content/keyword_freq/tex_keywords_freq_group_1')\n",
        "df5 = df5[df5['frequency']>10]\n",
        "df5.rename(columns = {'Unnamed: 0':'keyword', 'frequency':'frequency_group_1'}, inplace = True)\n",
        "\n",
        "# california\n",
        "df6 = pd.read_csv('/content/keyword_freq/cal_keywords_freq_group_5')\n",
        "df6.rename(columns = {'Unnamed: 0':'keyword', 'frequency':'frequency_group_5'}, inplace = True)\n",
        "\n",
        "df7 = pd.read_csv('/content/keyword_freq/cal_keywords_freq_group_4')\n",
        "df7.rename(columns = {'Unnamed: 0':'keyword', 'frequency':'frequency_group_4'}, inplace = True)\n",
        "\n",
        "df8 = pd.read_csv('/content/keyword_freq/cal_keywords_freq_group_3')\n",
        "df8.rename(columns = {'Unnamed: 0':'keyword', 'frequency':'frequency_group_3'}, inplace = True)\n",
        "\n",
        "df9 = pd.read_csv('/content/keyword_freq/cal_keywords_freq_group_2')\n",
        "df9.rename(columns = {'Unnamed: 0':'keyword', 'frequency':'frequency_group_2'}, inplace = True)\n",
        "\n",
        "df10 = pd.read_csv('/content/keyword_freq/cal_keywords_freq_group_1')\n",
        "df10.rename(columns = {'Unnamed: 0':'keyword', 'frequency':'frequency_group_1'}, inplace = True)"
      ],
      "metadata": {
        "id": "TPbAe285JhKy"
      },
      "execution_count": null,
      "outputs": []
    },
    {
      "cell_type": "code",
      "source": [
        "!gdown https://drive.google.com/uc?id=1VD4f9uYN6n6gYdMIWQRMfEdWMbpGk-Ff\n",
        "legal = pd.read_csv('/content/legal_terms.csv')\n",
        "legal_terms = legal['term'].values.tolist()\n",
        "#filtering legal terms\n",
        "def legal_filter(x):\n",
        "  x = x.loc[x['keyword'].isin(legal_terms)]\n",
        "  x.reset_index(drop=True, inplace=True)\n",
        "  return x\n",
        "\n",
        "df1 = legal_filter(df1)\n",
        "df2 = legal_filter(df2)\n",
        "df3 = legal_filter(df3)\n",
        "df4 = legal_filter(df4)\n",
        "df5 = legal_filter(df5)\n",
        "df6 = legal_filter(df6)\n",
        "df7 = legal_filter(df7)\n",
        "df8 = legal_filter(df8)\n",
        "df9 = legal_filter(df9)\n",
        "df10 = legal_filter(df10)"
      ],
      "metadata": {
        "id": "xTAQoc8OiROH"
      },
      "execution_count": null,
      "outputs": []
    },
    {
      "cell_type": "code",
      "source": [
        "# # loading data\n",
        "\n",
        "# # texas\n",
        "# df1 = pd.read_csv('/content/keyword_freq/tex_keywords_freq_group_5')\n",
        "# df1.rename(columns = {'Unnamed: 0':'keyword', 'frequency':'frequency_group_5'}, inplace = True)\n",
        "\n",
        "# df2 = pd.read_csv('/content/keyword_freq/tex_keywords_freq_group_4')\n",
        "# df2.rename(columns = {'Unnamed: 0':'keyword', 'frequency':'frequency_group_4'}, inplace = True)\n",
        "\n",
        "# df3 = pd.read_csv('/content/keyword_freq/tex_keywords_freq_group_3')\n",
        "# df3.rename(columns = {'Unnamed: 0':'keyword', 'frequency':'frequency_group_3'}, inplace = True)\n",
        "\n",
        "# df4 = pd.read_csv('/content/keyword_freq/tex_keywords_freq_group_2')\n",
        "# df4.rename(columns = {'Unnamed: 0':'keyword', 'frequency':'frequency_group_2'}, inplace = True)\n",
        "\n",
        "# df5 = pd.read_csv('/content/keyword_freq/tex_keywords_freq_group_1')\n",
        "# df5.rename(columns = {'Unnamed: 0':'keyword', 'frequency':'frequency_group_1'}, inplace = True)\n",
        "\n",
        "# # california\n",
        "# df6 = pd.read_csv('/content/keyword_freq/cal_keywords_freq_group_5')\n",
        "# df6.rename(columns = {'Unnamed: 0':'keyword', 'frequency':'frequency_group_5'}, inplace = True)\n",
        "\n",
        "# df7 = pd.read_csv('/content/keyword_freq/cal_keywords_freq_group_4')\n",
        "# df7.rename(columns = {'Unnamed: 0':'keyword', 'frequency':'frequency_group_4'}, inplace = True)\n",
        "\n",
        "# df8 = pd.read_csv('/content/keyword_freq/cal_keywords_freq_group_3')\n",
        "# df8.rename(columns = {'Unnamed: 0':'keyword', 'frequency':'frequency_group_3'}, inplace = True)\n",
        "\n",
        "# df9 = pd.read_csv('/content/keyword_freq/cal_keywords_freq_group_2')\n",
        "# df9.rename(columns = {'Unnamed: 0':'keyword', 'frequency':'frequency_group_2'}, inplace = True)\n",
        "\n",
        "# df10 = pd.read_csv('/content/keyword_freq/cal_keywords_freq_group_1')\n",
        "# df10.rename(columns = {'Unnamed: 0':'keyword', 'frequency':'frequency_group_1'}, inplace = True)"
      ],
      "metadata": {
        "id": "CS6kHxdC2_IC"
      },
      "execution_count": null,
      "outputs": []
    },
    {
      "cell_type": "code",
      "source": [
        "tex = [ df1, df2, df3, df4, df5]\n",
        "cal = [ df6, df7, df8, df9, df10]"
      ],
      "metadata": {
        "id": "naoidSoExdEZ"
      },
      "execution_count": null,
      "outputs": []
    },
    {
      "cell_type": "code",
      "source": [
        "tex_data = pd.DataFrame(columns = ['keyword'])\n",
        "cal_data = pd.DataFrame(columns = ['keyword'])"
      ],
      "metadata": {
        "id": "c65b_LbPxesh"
      },
      "execution_count": null,
      "outputs": []
    },
    {
      "cell_type": "code",
      "source": [
        "for x in tex:\n",
        "  tex_data = pd.merge(tex_data,x,on = 'keyword', how = 'outer')\n",
        "\n",
        "for x in cal:\n",
        "  cal_data = pd.merge(cal_data,x,on = 'keyword', how = 'outer')"
      ],
      "metadata": {
        "id": "8plE69SQxgso"
      },
      "execution_count": null,
      "outputs": []
    },
    {
      "cell_type": "code",
      "source": [
        "tex_data.head()"
      ],
      "metadata": {
        "id": "0fMWftt1xtT4"
      },
      "execution_count": null,
      "outputs": []
    },
    {
      "cell_type": "code",
      "source": [
        "cal_data.head()"
      ],
      "metadata": {
        "id": "zS6-d9pH3CVC"
      },
      "execution_count": null,
      "outputs": []
    },
    {
      "cell_type": "code",
      "source": [
        "def sankey(data, name, state_color):\n",
        "  import matplotlib as plt\n",
        "  import plotly.graph_objects as go\n",
        "  import os\n",
        "  import pandas as pd\n",
        "\n",
        "  var = {\n",
        "    'source' : ['2008-2009', '2008-2009', '2010-2011', '2010-2011', '2012-2013', '2012-2013', '2014-2015', '2014-2015', '2016-2017', '2016-2017'],\n",
        "     'target' : ['new words', 'existing words', 'new words', 'existing words', 'new words', 'existing words', 'new words', 'existing words', 'new words', 'existing words'],\n",
        "     'value' : []\n",
        "  }\n",
        "  for i in range(1,6):\n",
        "    var['value'].append(data.iloc[:,i].isna().sum())\n",
        "    var['value'].append( len(data) - (data.iloc[:,i].isna().sum()))\n",
        "\n",
        "  links = pd.DataFrame.from_dict(var)\n",
        "  unique_source_target = list(pd.unique(links[['source', 'target']].values.ravel('K')))\n",
        "  mapping_dict = {k:v for v, k in enumerate(unique_source_target)}\n",
        "  links['source'] = links['source'].map(mapping_dict)\n",
        "  links['target'] = links['target'].map(mapping_dict)\n",
        "  links_dict = links.to_dict(orient = 'list')\n",
        "  fig = go.Figure(data=[go.Sankey(\n",
        "    node = dict(\n",
        "      pad = 15,\n",
        "      thickness = 20,\n",
        "      line = dict(color = \"black\", width = 0.5),\n",
        "      label = unique_source_target,\n",
        "      color = state_color\n",
        "    ),\n",
        "    link = dict(\n",
        "      source = links_dict[\"source\"],\n",
        "      target = links_dict[\"target\"],\n",
        "      value = links_dict[\"value\"]\n",
        "  ))])\n",
        "  fig.update_layout(title_text= name + \" Legal Words Sankey Diagram\", font_size=10)\n",
        "  fig.show()\n"
      ],
      "metadata": {
        "id": "u7DWcUhGzj1o"
      },
      "execution_count": null,
      "outputs": []
    },
    {
      "cell_type": "code",
      "source": [
        "sankey(tex_data,'Texas','red')"
      ],
      "metadata": {
        "id": "G6GLn8RS029y"
      },
      "execution_count": null,
      "outputs": []
    },
    {
      "cell_type": "code",
      "source": [
        "sankey(cal_data,'California', 'blue')"
      ],
      "metadata": {
        "id": "0RgCLyXa04zq"
      },
      "execution_count": null,
      "outputs": []
    },
    {
      "cell_type": "code",
      "source": [
        ""
      ],
      "metadata": {
        "id": "1qbLpsO02USb"
      },
      "execution_count": null,
      "outputs": []
    }
  ]
}