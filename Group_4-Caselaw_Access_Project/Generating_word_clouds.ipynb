{
  "nbformat": 4,
  "nbformat_minor": 0,
  "metadata": {
    "colab": {
      "name": "project - generating word clouds.ipynb",
      "provenance": [],
      "collapsed_sections": [],
      "authorship_tag": "ABX9TyOROULNGA5E3BwKYdIyIevU",
      "include_colab_link": true
    },
    "kernelspec": {
      "name": "python3",
      "display_name": "Python 3"
    },
    "language_info": {
      "name": "python"
    }
  },
  "cells": [
    {
      "cell_type": "markdown",
      "metadata": {
        "id": "view-in-github",
        "colab_type": "text"
      },
      "source": [
        "<a href=\"https://colab.research.google.com/github/Satyaram-k/satyaram_INFO5731_Spring2020/blob/main/Group_4-Caselaw_Access_Project/Generating_word_clouds.ipynb\" target=\"_parent\"><img src=\"https://colab.research.google.com/assets/colab-badge.svg\" alt=\"Open In Colab\"/></a>"
      ]
    },
    {
      "cell_type": "code",
      "source": [
        "!gdown https://drive.google.com/uc?id=1AAEdMJDz_qALP9fS5V52O5pjzkpu68pK"
      ],
      "metadata": {
        "id": "bbm_bfWwk-Z7"
      },
      "execution_count": null,
      "outputs": []
    },
    {
      "cell_type": "code",
      "source": [
        "!unzip /content/groups_keywords_pkl_files.zip"
      ],
      "metadata": {
        "id": "4n0VdolIlPQU"
      },
      "execution_count": null,
      "outputs": []
    },
    {
      "cell_type": "code",
      "source": [
        "# imports\n",
        "import pickle\n",
        "import pandas as pd\n",
        "import matplotlib.pyplot as plt\n",
        "from wordcloud import WordCloud"
      ],
      "metadata": {
        "id": "YGvj6lA_svvx"
      },
      "execution_count": null,
      "outputs": []
    },
    {
      "cell_type": "code",
      "source": [
        "def generate_wordcloud(word_list):\n",
        "  text = ''\n",
        "  for x in word_list:\n",
        "    text = text + x + ' '\n",
        "  word_cloud = WordCloud(collocations = False, background_color = 'white').generate(text)\n",
        "  plt.imshow(word_cloud, interpolation='bilinear')\n",
        "  plt.axis(\"off\")\n",
        "  plt.show()"
      ],
      "metadata": {
        "id": "dEHAM-j42uDf"
      },
      "execution_count": null,
      "outputs": []
    },
    {
      "cell_type": "code",
      "source": [
        "!gdown https://drive.google.com/uc?id=1VD4f9uYN6n6gYdMIWQRMfEdWMbpGk-Ff\n",
        "legal = pd.read_csv('/content/legal_terms.csv')\n",
        "legal_terms = legal['term'].values.tolist()\n",
        "#filtering legal terms\n",
        "def legal_filter(x,legal_terms):\n",
        "  y =[]\n",
        "  for i in x:\n",
        "    if i in legal_terms:\n",
        "      y.append(i)\n",
        "  return y"
      ],
      "metadata": {
        "id": "e2Yc13xvgH1L"
      },
      "execution_count": null,
      "outputs": []
    },
    {
      "cell_type": "code",
      "source": [
        "# loading data\n",
        "\n",
        "# texas\n",
        "open_file = open('/content/groups keywords pkl files/tex_keywords_group_1.pkl', \"rb\")\n",
        "tex_keywords_group_1 = pickle.load(open_file)\n",
        "tex_keywords_group_1 = legal_filter(tex_keywords_group_1, legal_terms)\n",
        "open_file.close()\n",
        "\n",
        "open_file = open('/content/groups keywords pkl files/tex_keywords_group_2.pkl', \"rb\")\n",
        "tex_keywords_group_2 = pickle.load(open_file)\n",
        "tex_keywords_group_2 = legal_filter(tex_keywords_group_2, legal_terms)\n",
        "open_file.close()\n",
        "\n",
        "open_file = open('/content/groups keywords pkl files/tex_keywords_group_3.pkl', \"rb\")\n",
        "tex_keywords_group_3 = pickle.load(open_file)\n",
        "tex_keywords_group_3 = legal_filter(tex_keywords_group_3, legal_terms)\n",
        "open_file.close()\n",
        "\n",
        "open_file = open('/content/groups keywords pkl files/tex_keywords_group_4.pkl', \"rb\")\n",
        "tex_keywords_group_4 = pickle.load(open_file)\n",
        "tex_keywords_group_4 = legal_filter(tex_keywords_group_4, legal_terms)\n",
        "open_file.close()\n",
        "\n",
        "open_file = open('/content/groups keywords pkl files/tex_keywords_group_5.pkl', \"rb\")\n",
        "tex_keywords_group_5 = pickle.load(open_file)\n",
        "tex_keywords_group_5 = legal_filter(tex_keywords_group_5, legal_terms)\n",
        "open_file.close()\n",
        "\n",
        "# california\n",
        "open_file = open('/content/groups keywords pkl files/cal_keywords_group_1.pkl', \"rb\")\n",
        "cal_keywords_group_1 = pickle.load(open_file)\n",
        "cal_keywords_group_1 = legal_filter(cal_keywords_group_1, legal_terms)\n",
        "open_file.close()\n",
        "\n",
        "open_file = open('/content/groups keywords pkl files/cal_keywords_group_2.pkl', \"rb\")\n",
        "cal_keywords_group_2 = pickle.load(open_file)\n",
        "cal_keywords_group_2 = legal_filter(cal_keywords_group_2, legal_terms)\n",
        "open_file.close()\n",
        "\n",
        "open_file = open('/content/groups keywords pkl files/cal_keywords_group_3.pkl', \"rb\")\n",
        "cal_keywords_group_3 = pickle.load(open_file)\n",
        "cal_keywords_group_3 = legal_filter(cal_keywords_group_3, legal_terms)\n",
        "open_file.close()\n",
        "\n",
        "open_file = open('/content/groups keywords pkl files/cal_keywords_group_4.pkl', \"rb\")\n",
        "cal_keywords_group_4 = pickle.load(open_file)\n",
        "cal_keywords_group_4 = legal_filter(cal_keywords_group_4, legal_terms)\n",
        "open_file.close()\n",
        "\n",
        "open_file = open('/content/groups keywords pkl files/cal_keywords_group_5.pkl', \"rb\")\n",
        "cal_keywords_group_5 = pickle.load(open_file)\n",
        "cal_keywords_group_5 = legal_filter(cal_keywords_group_5, legal_terms)\n",
        "open_file.close()"
      ],
      "metadata": {
        "id": "Wn69cTU2lv6w"
      },
      "execution_count": null,
      "outputs": []
    },
    {
      "cell_type": "code",
      "source": [
        "generate_wordcloud(tex_keywords_group_1)"
      ],
      "metadata": {
        "id": "F8fqhyrK3CSo"
      },
      "execution_count": null,
      "outputs": []
    },
    {
      "cell_type": "code",
      "source": [
        "generate_wordcloud(tex_keywords_group_2)"
      ],
      "metadata": {
        "id": "cr3o1pbJmUpH"
      },
      "execution_count": null,
      "outputs": []
    },
    {
      "cell_type": "code",
      "source": [
        "generate_wordcloud(tex_keywords_group_3)"
      ],
      "metadata": {
        "id": "6qxGaR_zmb-t"
      },
      "execution_count": null,
      "outputs": []
    },
    {
      "cell_type": "code",
      "source": [
        "generate_wordcloud(tex_keywords_group_4)"
      ],
      "metadata": {
        "id": "FRq31EFamdgA"
      },
      "execution_count": null,
      "outputs": []
    },
    {
      "cell_type": "code",
      "source": [
        "generate_wordcloud(tex_keywords_group_5)"
      ],
      "metadata": {
        "id": "AHU8NB0Kme2-"
      },
      "execution_count": null,
      "outputs": []
    },
    {
      "cell_type": "code",
      "source": [
        "generate_wordcloud(cal_keywords_group_1)"
      ],
      "metadata": {
        "id": "BJe7OTramgb7"
      },
      "execution_count": null,
      "outputs": []
    },
    {
      "cell_type": "code",
      "source": [
        "generate_wordcloud(cal_keywords_group_2)"
      ],
      "metadata": {
        "id": "0UfB55acmjUf"
      },
      "execution_count": null,
      "outputs": []
    },
    {
      "cell_type": "code",
      "source": [
        "generate_wordcloud(cal_keywords_group_3)"
      ],
      "metadata": {
        "id": "3NvsXUSNmmB6"
      },
      "execution_count": null,
      "outputs": []
    },
    {
      "cell_type": "code",
      "source": [
        "generate_wordcloud(cal_keywords_group_4)"
      ],
      "metadata": {
        "id": "Z3KUTBsOmm8_"
      },
      "execution_count": null,
      "outputs": []
    },
    {
      "cell_type": "code",
      "source": [
        "generate_wordcloud(cal_keywords_group_5)"
      ],
      "metadata": {
        "id": "WgqfMOo8moP2"
      },
      "execution_count": null,
      "outputs": []
    },
    {
      "cell_type": "code",
      "source": [
        ""
      ],
      "metadata": {
        "id": "BxGEXdapmpd-"
      },
      "execution_count": null,
      "outputs": []
    }
  ]
}