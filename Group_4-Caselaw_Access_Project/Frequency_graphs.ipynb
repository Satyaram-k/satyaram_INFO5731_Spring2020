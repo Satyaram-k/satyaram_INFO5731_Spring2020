{
  "nbformat": 4,
  "nbformat_minor": 0,
  "metadata": {
    "colab": {
      "name": "project - frequency graphs.ipynb",
      "provenance": [],
      "authorship_tag": "ABX9TyNwt0kKHVPBZ0Jv9xsMcfJM",
      "include_colab_link": true
    },
    "kernelspec": {
      "name": "python3",
      "display_name": "Python 3"
    },
    "language_info": {
      "name": "python"
    }
  },
  "cells": [
    {
      "cell_type": "markdown",
      "metadata": {
        "id": "view-in-github",
        "colab_type": "text"
      },
      "source": [
        "<a href=\"https://colab.research.google.com/github/Satyaram-k/satyaram_INFO5731_Spring2020/blob/main/Group_4-Caselaw_Access_Project/Frequency_graphs.ipynb\" target=\"_parent\"><img src=\"https://colab.research.google.com/assets/colab-badge.svg\" alt=\"Open In Colab\"/></a>"
      ]
    },
    {
      "cell_type": "code",
      "execution_count": null,
      "metadata": {
        "id": "WvelHQE15ysE"
      },
      "outputs": [],
      "source": [
        "!gdown https://drive.google.com/uc?id=1lCkLOJ_5VEhFs3EykCWncmQvHvBLN9Ud"
      ]
    },
    {
      "cell_type": "code",
      "source": [
        "!gdown https://drive.google.com/uc?id=1VD4f9uYN6n6gYdMIWQRMfEdWMbpGk-Ff"
      ],
      "metadata": {
        "id": "E-pKvePeZ6Eb"
      },
      "execution_count": null,
      "outputs": []
    },
    {
      "cell_type": "code",
      "source": [
        "!unzip /content/keyword_freq.zip"
      ],
      "metadata": {
        "id": "jfTkh51s6BTj"
      },
      "execution_count": null,
      "outputs": []
    },
    {
      "cell_type": "code",
      "source": [
        "import pickle\n",
        "import pandas as pd"
      ],
      "metadata": {
        "id": "EDzzO6x26EtU"
      },
      "execution_count": null,
      "outputs": []
    },
    {
      "cell_type": "code",
      "source": [
        "# # loading data\n",
        "\n",
        "# # texas\n",
        "# df1 = pd.read_csv('/content/keyword_freq/tex_keywords_freq_group_5')\n",
        "# df1.rename(columns = {'Unnamed: 0':'keyword', 'frequency':'frequency_group_5'}, inplace = True)\n",
        "\n",
        "# df2 = pd.read_csv('/content/keyword_freq/tex_keywords_freq_group_4')\n",
        "# df2.rename(columns = {'Unnamed: 0':'keyword', 'frequency':'frequency_group_4'}, inplace = True)\n",
        "\n",
        "# df3 = pd.read_csv('/content/keyword_freq/tex_keywords_freq_group_3')\n",
        "# df3.rename(columns = {'Unnamed: 0':'keyword', 'frequency':'frequency_group_3'}, inplace = True)\n",
        "\n",
        "# df4 = pd.read_csv('/content/keyword_freq/tex_keywords_freq_group_2')\n",
        "# df4.rename(columns = {'Unnamed: 0':'keyword', 'frequency':'frequency_group_2'}, inplace = True)\n",
        "\n",
        "# df5 = pd.read_csv('/content/keyword_freq/tex_keywords_freq_group_1')\n",
        "# df5.rename(columns = {'Unnamed: 0':'keyword', 'frequency':'frequency_group_1'}, inplace = True)\n",
        "\n",
        "# # california\n",
        "# df6 = pd.read_csv('/content/keyword_freq/cal_keywords_freq_group_5')\n",
        "# df6.rename(columns = {'Unnamed: 0':'keyword', 'frequency':'frequency_group_5'}, inplace = True)\n",
        "\n",
        "# df7 = pd.read_csv('/content/keyword_freq/cal_keywords_freq_group_4')\n",
        "# df7.rename(columns = {'Unnamed: 0':'keyword', 'frequency':'frequency_group_4'}, inplace = True)\n",
        "\n",
        "# df8 = pd.read_csv('/content/keyword_freq/cal_keywords_freq_group_3')\n",
        "# df8.rename(columns = {'Unnamed: 0':'keyword', 'frequency':'frequency_group_3'}, inplace = True)\n",
        "\n",
        "# df9 = pd.read_csv('/content/keyword_freq/cal_keywords_freq_group_2')\n",
        "# df9.rename(columns = {'Unnamed: 0':'keyword', 'frequency':'frequency_group_2'}, inplace = True)\n",
        "\n",
        "# df10 = pd.read_csv('/content/keyword_freq/cal_keywords_freq_group_1')\n",
        "# df10.rename(columns = {'Unnamed: 0':'keyword', 'frequency':'frequency_group_1'}, inplace = True)"
      ],
      "metadata": {
        "id": "Git4EAQG6UUh"
      },
      "execution_count": null,
      "outputs": []
    },
    {
      "cell_type": "code",
      "source": [
        "# loading data\n",
        "\n",
        "# texas\n",
        "df1 = pd.read_csv('/content/keyword_freq/tex_keywords_freq_group_5')\n",
        "df1.rename(columns = {'Unnamed: 0':'keyword', 'frequency':'frequency_group_5'}, inplace = True)\n",
        "\n",
        "df2 = pd.read_csv('/content/keyword_freq/tex_keywords_freq_group_4')\n",
        "df2.rename(columns = {'Unnamed: 0':'keyword', 'frequency':'frequency_group_4'}, inplace = True)\n",
        "\n",
        "df3 = pd.read_csv('/content/keyword_freq/tex_keywords_freq_group_3')\n",
        "df3.rename(columns = {'Unnamed: 0':'keyword', 'frequency':'frequency_group_3'}, inplace = True)\n",
        "\n",
        "df4 = pd.read_csv('/content/keyword_freq/tex_keywords_freq_group_2')\n",
        "df4.rename(columns = {'Unnamed: 0':'keyword', 'frequency':'frequency_group_2'}, inplace = True)\n",
        "\n",
        "df5 = pd.read_csv('/content/keyword_freq/tex_keywords_freq_group_1')\n",
        "df5.rename(columns = {'Unnamed: 0':'keyword', 'frequency':'frequency_group_1'}, inplace = True)\n",
        "\n",
        "# california\n",
        "df6 = pd.read_csv('/content/keyword_freq/cal_keywords_freq_group_5')\n",
        "df6.rename(columns = {'Unnamed: 0':'keyword', 'frequency':'frequency_group_5'}, inplace = True)\n",
        "\n",
        "df7 = pd.read_csv('/content/keyword_freq/cal_keywords_freq_group_4')\n",
        "df7.rename(columns = {'Unnamed: 0':'keyword', 'frequency':'frequency_group_4'}, inplace = True)\n",
        "\n",
        "df8 = pd.read_csv('/content/keyword_freq/cal_keywords_freq_group_3')\n",
        "df8.rename(columns = {'Unnamed: 0':'keyword', 'frequency':'frequency_group_3'}, inplace = True)\n",
        "\n",
        "df9 = pd.read_csv('/content/keyword_freq/cal_keywords_freq_group_2')\n",
        "df9.rename(columns = {'Unnamed: 0':'keyword', 'frequency':'frequency_group_2'}, inplace = True)\n",
        "\n",
        "df10 = pd.read_csv('/content/keyword_freq/cal_keywords_freq_group_1')\n",
        "df10.rename(columns = {'Unnamed: 0':'keyword', 'frequency':'frequency_group_1'}, inplace = True)"
      ],
      "metadata": {
        "id": "0DQLf6YXeEqx"
      },
      "execution_count": null,
      "outputs": []
    },
    {
      "cell_type": "code",
      "source": [
        "!gdown https://drive.google.com/uc?id=1VD4f9uYN6n6gYdMIWQRMfEdWMbpGk-Ff\n",
        "legal = pd.read_csv('/content/legal_terms.csv')\n",
        "legal_terms = legal['term'].values.tolist()\n",
        "#filtering legal terms\n",
        "def legal_filter(x):\n",
        "  x = x.loc[x['keyword'].isin(legal_terms)]\n",
        "  x.reset_index(drop=True, inplace=True)\n",
        "  return x\n",
        "\n",
        "df1 = legal_filter(df1)\n",
        "df2 = legal_filter(df2)\n",
        "df3 = legal_filter(df3)\n",
        "df4 = legal_filter(df4)\n",
        "df5 = legal_filter(df5)\n",
        "df6 = legal_filter(df6)\n",
        "df7 = legal_filter(df7)\n",
        "df8 = legal_filter(df8)\n",
        "df9 = legal_filter(df9)\n",
        "df10 = legal_filter(df10)"
      ],
      "metadata": {
        "id": "i3vK8tzWaOvb"
      },
      "execution_count": null,
      "outputs": []
    },
    {
      "cell_type": "code",
      "source": [
        "df1"
      ],
      "metadata": {
        "id": "fyCco-_n_L7d"
      },
      "execution_count": null,
      "outputs": []
    },
    {
      "cell_type": "code",
      "source": [
        "df1 = df1[df1['frequency_group_5']>100]\n",
        "df2 = df2[df2['frequency_group_4']>100]\n",
        "df3 = df3[df3['frequency_group_3']>100]\n",
        "df4 = df4[df4['frequency_group_2']>100]\n",
        "df5 = df5[df5['frequency_group_1']>100]\n",
        "df6 = df6[df6['frequency_group_5']>100]\n",
        "df7 = df7[df7['frequency_group_4']>100]\n",
        "df8 = df8[df8['frequency_group_3']>100]\n",
        "df9 = df9[df9['frequency_group_2']>100]\n",
        "df10 = df10[df10['frequency_group_1']>100]"
      ],
      "metadata": {
        "id": "JuHfydQ19ttJ"
      },
      "execution_count": null,
      "outputs": []
    },
    {
      "cell_type": "code",
      "source": [
        "tex = [ df1, df2, df3, df4, df5]\n",
        "cal = [ df6, df7, df8, df9, df10]"
      ],
      "metadata": {
        "id": "uHjtgY7_7iD1"
      },
      "execution_count": null,
      "outputs": []
    },
    {
      "cell_type": "code",
      "source": [
        "tex_data = pd.DataFrame(columns = ['keyword'])\n",
        "cal_data = pd.DataFrame(columns = ['keyword'])"
      ],
      "metadata": {
        "id": "kwyZ-7ab7sN5"
      },
      "execution_count": null,
      "outputs": []
    },
    {
      "cell_type": "code",
      "source": [
        "for x in tex:\n",
        "  tex_data = pd.merge(tex_data,x,on = 'keyword', how = 'outer')\n",
        "\n",
        "for x in cal:\n",
        "  cal_data = pd.merge(cal_data,x,on = 'keyword', how = 'outer')"
      ],
      "metadata": {
        "id": "jNu-mlvR72k9"
      },
      "execution_count": null,
      "outputs": []
    },
    {
      "cell_type": "code",
      "source": [
        "tex_data.fillna(0)"
      ],
      "metadata": {
        "id": "tb987pOx9MfI"
      },
      "execution_count": null,
      "outputs": []
    },
    {
      "cell_type": "code",
      "source": [
        "cal_data.fillna(0)"
      ],
      "metadata": {
        "id": "jFRCxHHx_bNM"
      },
      "execution_count": null,
      "outputs": []
    },
    {
      "cell_type": "code",
      "source": [
        "tex_data.to_csv('/content/tex')"
      ],
      "metadata": {
        "id": "lm-3g0sgJmmV"
      },
      "execution_count": null,
      "outputs": []
    },
    {
      "cell_type": "code",
      "source": [
        "cal_data.to_csv('/content/cal')"
      ],
      "metadata": {
        "id": "8XMoHDzfJmcb"
      },
      "execution_count": null,
      "outputs": []
    },
    {
      "cell_type": "code",
      "source": [
        "# Texas frequency plot\n",
        "\n",
        "import matplotlib.pyplot as plt\n",
        "year = [ '2007-08', '2009-10', '2011-12', '2013-14', '2015-16']\n",
        "for x in range(len(tex_data)):\n",
        "  freq = tex_data.loc[[x]].values.flatten().tolist()\n",
        "  # plt.plot(year,freq[1:], label = freq[0])\n",
        "  plt.plot(year,freq[1:], label = freq[0])\n",
        "  plt.legend(loc='upper left', frameon=True,bbox_to_anchor=(1, 1), ncol=1, fancybox=True, shadow=True)\n",
        "  plt.rcParams[\"figure.figsize\"]=10,100\n",
        "  plt.ylabel('Frequency')\n",
        "  plt.xlabel('Years')\n",
        "plt.show()"
      ],
      "metadata": {
        "id": "eVuD3mv67_jz"
      },
      "execution_count": null,
      "outputs": []
    },
    {
      "cell_type": "code",
      "source": [
        "# California frequency plot\n",
        "\n",
        "import matplotlib.pyplot as plt\n",
        "year = [ '2007-08', '2009-10', '2011-12', '2013-14', '2015-16']\n",
        "for x in range(len(cal_data)):\n",
        "  freq = cal_data.loc[[x]].values.flatten().tolist()\n",
        "  # plt.plot(year,freq[1:], label = freq[0])\n",
        "  plt.plot(year,freq[1:], label = freq[0])\n",
        "  plt.legend(loc='upper left', frameon=True,bbox_to_anchor=(1, 1), ncol=1, fancybox=True, shadow=True)\n",
        "  plt.rcParams[\"figure.figsize\"]=30,10\n",
        "  plt.ylabel('Frequency')\n",
        "  plt.xlabel('Years')\n",
        "#plt.legend()\n",
        "plt.show()"
      ],
      "metadata": {
        "id": "SJoSF3878PMz"
      },
      "execution_count": null,
      "outputs": []
    },
    {
      "cell_type": "code",
      "source": [
        ""
      ],
      "metadata": {
        "id": "vzQ1YBAn9oT4"
      },
      "execution_count": null,
      "outputs": []
    }
  ]
}