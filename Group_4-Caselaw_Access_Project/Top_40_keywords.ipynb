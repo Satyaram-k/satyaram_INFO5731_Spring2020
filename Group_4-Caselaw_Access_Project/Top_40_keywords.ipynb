{
  "nbformat": 4,
  "nbformat_minor": 0,
  "metadata": {
    "colab": {
      "name": "Project - Top 40 keywords.ipynb",
      "provenance": [],
      "authorship_tag": "ABX9TyOguv0tD2xVEtBZtJBg1AI4",
      "include_colab_link": true
    },
    "kernelspec": {
      "name": "python3",
      "display_name": "Python 3"
    },
    "language_info": {
      "name": "python"
    }
  },
  "cells": [
    {
      "cell_type": "markdown",
      "metadata": {
        "id": "view-in-github",
        "colab_type": "text"
      },
      "source": [
        "<a href=\"https://colab.research.google.com/github/Satyaram-k/satyaram_INFO5731_Spring2020/blob/main/Group_4-Caselaw_Access_Project/Top_40_keywords.ipynb\" target=\"_parent\"><img src=\"https://colab.research.google.com/assets/colab-badge.svg\" alt=\"Open In Colab\"/></a>"
      ]
    },
    {
      "cell_type": "code",
      "execution_count": null,
      "metadata": {
        "id": "tdouYbvuPs41"
      },
      "outputs": [],
      "source": [
        "!gdown https://drive.google.com/uc?id=1lCkLOJ_5VEhFs3EykCWncmQvHvBLN9Ud"
      ]
    },
    {
      "cell_type": "code",
      "source": [
        "!unzip keyword_freq.zip"
      ],
      "metadata": {
        "id": "YuDPE1qYP8ea"
      },
      "execution_count": null,
      "outputs": []
    },
    {
      "cell_type": "code",
      "source": [
        "import pickle\n",
        "import pandas as pd\n",
        "import seaborn as sns"
      ],
      "metadata": {
        "id": "l8YhzAAVP-gp"
      },
      "execution_count": null,
      "outputs": []
    },
    {
      "cell_type": "code",
      "source": [
        "# loading data\n",
        "\n",
        "# texas\n",
        "df1 = pd.read_csv('keyword_freq/tex_keywords_freq_group_5')\n",
        "df1.rename(columns = {'Unnamed: 0':'keyword', 'frequency':'frequency_group_5'}, inplace = True)\n",
        "\n",
        "df2 = pd.read_csv('keyword_freq/tex_keywords_freq_group_4')\n",
        "df2.rename(columns = {'Unnamed: 0':'keyword', 'frequency':'frequency_group_4'}, inplace = True)\n",
        "\n",
        "df3 = pd.read_csv('keyword_freq/tex_keywords_freq_group_3')\n",
        "df3.rename(columns = {'Unnamed: 0':'keyword', 'frequency':'frequency_group_3'}, inplace = True)\n",
        "\n",
        "df4 = pd.read_csv('keyword_freq/tex_keywords_freq_group_2')\n",
        "df4.rename(columns = {'Unnamed: 0':'keyword', 'frequency':'frequency_group_2'}, inplace = True)\n",
        "\n",
        "df5 = pd.read_csv('keyword_freq/tex_keywords_freq_group_1')\n",
        "df5.rename(columns = {'Unnamed: 0':'keyword', 'frequency':'frequency_group_1'}, inplace = True)\n",
        "\n",
        "# california\n",
        "df6 = pd.read_csv('keyword_freq/cal_keywords_freq_group_5')\n",
        "df6.rename(columns = {'Unnamed: 0':'keyword', 'frequency':'frequency_group_5'}, inplace = True)\n",
        "\n",
        "df7 = pd.read_csv('keyword_freq/cal_keywords_freq_group_4')\n",
        "df7.rename(columns = {'Unnamed: 0':'keyword', 'frequency':'frequency_group_4'}, inplace = True)\n",
        "\n",
        "df8 = pd.read_csv('keyword_freq/cal_keywords_freq_group_3')\n",
        "df8.rename(columns = {'Unnamed: 0':'keyword', 'frequency':'frequency_group_3'}, inplace = True)\n",
        "\n",
        "df9 = pd.read_csv('keyword_freq/cal_keywords_freq_group_2')\n",
        "df9.rename(columns = {'Unnamed: 0':'keyword', 'frequency':'frequency_group_2'}, inplace = True)\n",
        "\n",
        "df10 = pd.read_csv('keyword_freq/cal_keywords_freq_group_1')\n",
        "df10.rename(columns = {'Unnamed: 0':'keyword', 'frequency':'frequency_group_1'}, inplace = True)"
      ],
      "metadata": {
        "id": "zIfMETA0QAhp"
      },
      "execution_count": null,
      "outputs": []
    },
    {
      "cell_type": "code",
      "source": [
        "!gdown https://drive.google.com/uc?id=1VD4f9uYN6n6gYdMIWQRMfEdWMbpGk-Ff\n",
        "legal = pd.read_csv('/content/legal_terms.csv')\n",
        "legal_terms = legal['term'].values.tolist()\n",
        "#filtering legal terms\n",
        "def legal_filter(x):\n",
        "  x = x.loc[x['keyword'].isin(legal_terms)]\n",
        "  x.reset_index(drop=True, inplace=True)\n",
        "  return x\n",
        "\n",
        "df1 = legal_filter(df1)\n",
        "df2 = legal_filter(df2)\n",
        "df3 = legal_filter(df3)\n",
        "df4 = legal_filter(df4)\n",
        "df5 = legal_filter(df5)\n",
        "df6 = legal_filter(df6)\n",
        "df7 = legal_filter(df7)\n",
        "df8 = legal_filter(df8)\n",
        "df9 = legal_filter(df9)\n",
        "df10 = legal_filter(df10)"
      ],
      "metadata": {
        "id": "KQ4dAavBQS5d"
      },
      "execution_count": null,
      "outputs": []
    },
    {
      "cell_type": "code",
      "source": [
        ""
      ],
      "metadata": {
        "id": "f86QdJQ5QS4h"
      },
      "execution_count": null,
      "outputs": []
    },
    {
      "cell_type": "code",
      "source": [
        "tex = [ df1, df2, df3, df4, df5]\n",
        "cal = [ df6, df7, df8, df9, df10]\n",
        "\n",
        "tex_data = pd.DataFrame(columns = ['keyword'])\n",
        "cal_data = pd.DataFrame(columns = ['keyword'])\n",
        "\n",
        "for x in tex:\n",
        "  tex_data = pd.merge(tex_data,x,on = 'keyword', how = 'outer')\n",
        "\n",
        "for x in cal:\n",
        "  cal_data = pd.merge(cal_data,x,on = 'keyword', how = 'outer')"
      ],
      "metadata": {
        "id": "q8nXMnuiQCOJ"
      },
      "execution_count": null,
      "outputs": []
    },
    {
      "cell_type": "code",
      "source": [
        "tex_data"
      ],
      "metadata": {
        "id": "iMRVdPBxQKO5"
      },
      "execution_count": null,
      "outputs": []
    },
    {
      "cell_type": "code",
      "source": [
        "#The top 40 keywords ranked by  importance\n",
        "\n",
        "tex_data['rank'] = tex_data['keyword'].rank()\n",
        "tex_rankings_df = tex_data[['rank','keyword']]\n",
        "tex_data.drop(\"rank\", axis=1, inplace=True)\n",
        "\n",
        "#print(tex_rankings_df.head())\n",
        "print(tex_rankings_df.sort_values(['rank','keyword'], ascending=True).head(40))\n",
        "#print(tex_data)"
      ],
      "metadata": {
        "id": "QTC8_lkLQZZ5"
      },
      "execution_count": null,
      "outputs": []
    },
    {
      "cell_type": "code",
      "source": [
        "#The top 40 keywords ranked by  importance\n",
        "\n",
        "cal_data['rank'] = cal_data['keyword'].rank()\n",
        "cal_rankings_df = cal_data[['rank','keyword']]\n",
        "cal_data.drop(\"rank\", axis=1, inplace=True)\n",
        "\n",
        "#print(tex_rankings_df.head(5))\n",
        "print(cal_rankings_df.sort_values(['rank','keyword'], ascending=True).head(40))\n",
        "#print(cal_data)\n"
      ],
      "metadata": {
        "id": "iwLiRODUQpR5"
      },
      "execution_count": null,
      "outputs": []
    },
    {
      "cell_type": "code",
      "source": [
        "(tex_rankings_df.sort_values(['rank','keyword'], ascending=True).head(40)).to_csv('/content/tex_top_40_keys')"
      ],
      "metadata": {
        "id": "JtjReKz4RmxQ"
      },
      "execution_count": null,
      "outputs": []
    },
    {
      "cell_type": "code",
      "source": [
        "(cal_rankings_df.sort_values(['rank','keyword'], ascending=True).head(40)).to_csv('/content/cal_top_40_keys')"
      ],
      "metadata": {
        "id": "cReQQl4oRn4o"
      },
      "execution_count": null,
      "outputs": []
    },
    {
      "cell_type": "code",
      "source": [
        ""
      ],
      "metadata": {
        "id": "-sLegoRqR5VI"
      },
      "execution_count": null,
      "outputs": []
    }
  ]
}