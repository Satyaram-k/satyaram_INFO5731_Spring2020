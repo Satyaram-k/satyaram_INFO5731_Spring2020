{
  "cells": [
    {
      "cell_type": "markdown",
      "metadata": {
        "id": "view-in-github",
        "colab_type": "text"
      },
      "source": [
        "<a href=\"https://colab.research.google.com/github/Satyaram-k/satyaram_INFO5731_Spring2020/blob/main/Assignments/INFO5731_Assignment_One.ipynb\" target=\"_parent\"><img src=\"https://colab.research.google.com/assets/colab-badge.svg\" alt=\"Open In Colab\"/></a>"
      ]
    },
    {
      "cell_type": "markdown",
      "metadata": {
        "id": "Ryk8D1Q4Wsrp"
      },
      "source": [
        "# **INFO5731 Assignment One**"
      ]
    },
    {
      "cell_type": "markdown",
      "metadata": {
        "id": "90_NR8c5XGWc"
      },
      "source": [
        "# Question 1\n",
        "\n",
        "(20 points). Write a Python program to generate 12 random numbers between 1 and 100. Sort the list of numbers in ascending order and print it out. Sort the list of numbers in descending order and print it out. Calculate the average for the group and print it out."
      ]
    },
    {
      "cell_type": "code",
      "execution_count": null,
      "metadata": {
        "id": "5QX6bJjGWXY9",
        "outputId": "6e5ee37f-822b-47f6-f0cb-c0a318e8387d"
      },
      "outputs": [
        {
          "name": "stdout",
          "output_type": "stream",
          "text": [
            "Ascending order of random numbers is:  [4, 15, 16, 24, 28, 33, 46, 52, 56, 60, 73, 75]\n",
            "Descending order of random numbers is:  [75, 73, 60, 56, 52, 46, 33, 28, 24, 16, 15, 4]\n",
            "Average of random numbers is:  40.166666666666664\n"
          ]
        }
      ],
      "source": [
        "import random \n",
        "numbers = random.sample(range(1,100), 12)\n",
        "numbers.sort()\n",
        "print ('Ascending order of random numbers is: ', numbers)\n",
        "numbers.reverse()\n",
        "print ('Descending order of random numbers is: ', numbers)\n",
        "average = sum(numbers) / len(numbers)\n",
        "print(\"Average of random numbers is: \", average)"
      ]
    },
    {
      "cell_type": "markdown",
      "metadata": {
        "id": "1F_PZdH9Sh49"
      },
      "source": [
        "# Question 2\n",
        "(25 points). Write a program that will do the following string formatting tasks:\n",
        "\n",
        "(1) Ask the user to enter two sentences.\n",
        "\n",
        "(2) Make each sentence into a list. Each element in the list should correspond to a word in the sentence. For example, if the sentence is \"Alas! Am I alive? This is my first python program\", the program should print out ['Alas, '!', 'Am', 'I', 'alive, '?', 'This', 'is', 'my', 'first', 'python', 'program'].\n",
        "\n",
        "(3) Compare the two sentences. Print out a list of words that occur in both sentences.\n",
        "\n",
        "(4) Remove any punctuation from the sentence and print it back out. It should remove at least the following characters, but it can remove more: period(“.”), comma (“,”), semicolon (“;”), and colon (“:”)\n",
        "\n",
        "(5) Count the number of vowels in the sentences. Print out each vowel and the number of times it appears in the sentences, such as: a:2, e:1, i:0, etc"
      ]
    },
    {
      "cell_type": "code",
      "execution_count": null,
      "metadata": {
        "id": "Y0oOSlsOS0cq",
        "outputId": "77e976b5-4831-42bd-e197-be66aebf0c04"
      },
      "outputs": [
        {
          "name": "stdout",
          "output_type": "stream",
          "text": [
            "Enter two sentences below\n",
            "\n",
            "Enter sentence one: hi, i am satyaram!\n",
            "Enter sentence two: hello. i am kolanu?\n",
            "List one:  ['hi', ',', 'i', 'am', 'satyaram', '!'] \n",
            "List two:  ['hello', '.', 'i', 'am', 'kolanu', '?']\n",
            "\n",
            "Common words in two sentences are: ['i', 'am']\n",
            "\n",
            "Sentence one without punctuation:  hi i am satyaram \n",
            "Sentence two without punctuation:  hello i am kolanu\n",
            "\n",
            "Vowel count in sentence one:  {'a': 4, 'e': 0, 'i': 2, 'o': 0, 'u': 0} \n",
            "Vowel count in sentence two:  {'a': 2, 'e': 1, 'i': 1, 'o': 2, 'u': 1}\n"
          ]
        }
      ],
      "source": [
        "#Asking user to enter two sentences.\n",
        "\n",
        "print(\"Enter two sentences below\\n\")\n",
        "\n",
        "sentence_one = input(\"Enter sentence one: \")\n",
        "sentence_two = input(\"Enter sentence two: \")\n",
        "\n",
        "\n",
        "#Making sentence into a list\n",
        "\n",
        "import re \n",
        "\n",
        "list_one = re.findall(\"[\\w']+|[^\\w\\s]\", sentence_one)\n",
        "list_two = re.findall(\"[\\w']+|[^\\w\\s]\", sentence_two)\n",
        "\n",
        "print('List one: ',list_one,'\\nList two: ',list_two)\n",
        "\n",
        "\n",
        "#Comparing two sentences\n",
        "\n",
        "common_words=[]\n",
        "for i in range(len(list_one)):\n",
        "    if(list_one[i] in list_two):\n",
        "        common_words.append(list_one[i])\n",
        "print('\\nCommon words in two sentences are:',common_words)\n",
        "\n",
        "\n",
        "#Removing punctuation\n",
        "\n",
        "sentence_one_no_punctuation = re.sub(r'[^\\w\\s]','',sentence_one)\n",
        "sentence_two_no_punctuation = re.sub(r'[^\\w\\s]','',sentence_two)\n",
        "\n",
        "print('\\nSentence one without punctuation: ',sentence_one_no_punctuation,'\\nSentence two without punctuation: ',sentence_two_no_punctuation)\n",
        "\n",
        "\n",
        "#Counting the number of vowels in the sentences\n",
        "\n",
        "\n",
        "def vowel_count(sentence):\n",
        "    sentence_lower = sentence.lower()\n",
        "    v_cnt = {}\n",
        "    for v in \"aeiou\":\n",
        "        count = sentence_lower.count(v)\n",
        "        v_cnt[v] = count\n",
        "    return(v_cnt)\n",
        "\n",
        "print('\\nVowel count in sentence one: ',vowel_count(sentence_one),'\\nVowel count in sentence two: ',vowel_count(sentence_two))"
      ]
    },
    {
      "cell_type": "markdown",
      "metadata": {
        "id": "CmFoI4jDS9nx"
      },
      "source": [
        "# Question 3 \n",
        "\n",
        "(15 points). The formula that describes the volume V of a sphere with radius r is the following:\n",
        "\n",
        "$ V=\\frac{4}{3}\\ast\\ \\pi\\ast\\ r^3 $\n",
        "\n",
        "Write a program to calculate the value of V when r is in the range of 1–10. Output the result in the following format:\n",
        "\n",
        "\tr\tV\n",
        "\t1\t…\n",
        "\t2\t…\n",
        "\t3\t…\n"
      ]
    },
    {
      "cell_type": "code",
      "execution_count": null,
      "metadata": {
        "id": "pEyqeioAT95b",
        "outputId": "4ce7fefd-3ca0-40bb-d5a5-476da75d45a3"
      },
      "outputs": [
        {
          "name": "stdout",
          "output_type": "stream",
          "text": [
            "r\tV\n",
            "1 \t 4.1887902047863905\n",
            "2 \t 33.510321638291124\n",
            "3 \t 113.09733552923254\n",
            "4 \t 268.082573106329\n",
            "5 \t 523.5987755982989\n",
            "6 \t 904.7786842338603\n",
            "7 \t 1436.7550402417319\n",
            "8 \t 2144.660584850632\n",
            "9 \t 3053.6280592892786\n",
            "10 \t 4188.790204786391\n"
          ]
        }
      ],
      "source": [
        "import math\n",
        "\n",
        "def volume(radius):\n",
        "    vol = (4/3)*(math.pi)*(radius**3)\n",
        "    return(vol)\n",
        "print('r\\tV')\n",
        "for i in range(1,11):\n",
        "    print(i,'\\t',volume(i))"
      ]
    },
    {
      "cell_type": "markdown",
      "metadata": {
        "id": "z3tBE7E-Xn5X"
      },
      "source": [
        "# Question 4\n",
        "\n",
        "(40 points). In the field of Data Science, data is often formatted as a comma-delimited (CSV) file, where each line in a file corresponds to a field's value. Refer to Chapter 9 (p. 106) for more information on comma-delimited files. To answer this question, you will need to download the file [Assignment1_denton_housing.csv](https://raw.githubusercontent.com/unt-iialab/info5731-spring2022/main/assignments/Assignment1_denton_housing.csv) included with this assignment. The file [Assignment1_denton_housing.csv](https://raw.githubusercontent.com/unt-iialab/info5731-spring2022/main/assignments/Assignment1_denton_housing.csv) contains statistics about housing in the city of Denton from 2008 to 2014. Write a program to implement the following questions.\n",
        "\n",
        "(1) (10 pts) Calculate the difference in the number of Occupied Housing Units from year to year and print it. The difference must be calculated for the consecutive years such as 2008-2009, 2009-2010 etc. Finally, print the values in the ascending order.\n",
        "\n",
        "(2) (10 pts) For all the years, calculate the percentage of housing units which are vacant an occupied. Print the results in the following format:\n",
        "\n",
        "Year Vacant Housing Units Occupied Housing Units\n",
        "\n",
        "    2008  30%   70%                          \n",
        "\t2009 ----- -----\n",
        "\t2010 ----- -----\n",
        "    2011 ----- -----\n",
        "\t2012 ----- -----\n",
        "    2013 ----- -----\n",
        "\t2014 ----- -----\n",
        "  \n",
        "  \n",
        "\n",
        "(3) (10 pts) Calculate and print the valued and years in which the highest number of housing units were vacant and occupied. Print the results in the following format:  \n",
        "\n",
        "                              Year\tValue\n",
        "\tVacant Housing Units\t  -----   -----\n",
        "\tOccupied Housing Units\t-----   -----\n",
        "\n",
        "(4) (10 pts) Calculate the harmonic mean of the total housing units and print it out. You can find the information about harmonic mean here: https://ncalculators.com/statistics/harmonic-mean-calculator.htm"
      ]
    },
    {
      "cell_type": "code",
      "execution_count": null,
      "metadata": {
        "id": "lqGYuHBhcsRH",
        "outputId": "a8a7d69e-6415-489b-8e47-111b4da2afc3"
      },
      "outputs": [
        {
          "data": {
            "text/plain": [
              "17    -795.0\n",
              "11    -303.0\n",
              "8     1404.0\n",
              "5     1565.0\n",
              "2     2622.0\n",
              "14    5091.0\n",
              "20       NaN\n",
              "Name: value, dtype: float64"
            ]
          },
          "execution_count": 4,
          "metadata": {},
          "output_type": "execute_result"
        }
      ],
      "source": [
        "#Calculating the difference in the number of Occupied Housing Units from year to year\n",
        "\n",
        "import pandas as pd\n",
        "houses_denton = pd.read_csv(\"https://raw.githubusercontent.com/unt-iialab/info5731-spring2022/main/assignments/Assignment1_denton_housing.csv\")\n",
        "occupied_housing = houses_denton[houses_denton['title_field'] == 'Occupied Housing Units'].sort_values(by=['year'])\n",
        "occupied_housing.value.diff().sort_values()"
      ]
    },
    {
      "cell_type": "code",
      "execution_count": null,
      "metadata": {
        "id": "HrhAcbTB5p3c",
        "outputId": "c596fcd6-d744-48dd-aab2-fba2e2dcdf51"
      },
      "outputs": [
        {
          "name": "stdout",
          "output_type": "stream",
          "text": [
            " Year Vacant Housing Units Occupied Housing Units\n",
            " 2008  10.88265281351653 %    89.11734718648347 %\n",
            " 2009   9.07111572444872 %    90.92888427555128 %\n",
            " 2010  8.142556337081672 %    91.85744366291833 %\n",
            " 2011  9.379522229890688 %     90.6204777701093 %\n",
            " 2012  6.677600230491346 %    93.32239976950866 %\n",
            " 2013  8.801787504176412 %    91.19821249582358 %\n",
            " 2014  5.730110570363885 %    94.26988942963611 %\n"
          ]
        }
      ],
      "source": [
        "#calculating the percentage of housing units which are vacant an occupied\n",
        "\n",
        "houses_vacant = houses_denton[houses_denton['title_field'] == 'Vacant Housing Units'].sort_values(by=['year'])['value']\n",
        "houses_occupied= houses_denton[houses_denton['title_field'] == 'Occupied Housing Units'].sort_values(by=['year'])['value']\n",
        "houses_total = houses_denton[houses_denton['title_field'] == 'Total Housing Units'].sort_values(by=['year'])['value']\n",
        "\n",
        "year = houses_denton[houses_denton['title_field'] == 'Total Housing Units'].sort_values(by=['year'])['year']\n",
        "vacant_housing_units = [str((vacant/total)*100)+' %' for vacant,total in zip(houses_vacant,houses_total)]\n",
        "occupied_housing_units = [str((occupied/total)*100)+' %' for occupied, total in zip(houses_occupied, houses_total)]\n",
        "\n",
        "result = pd.DataFrame(list(zip(year,vacant_housing_units, occupied_housing_units)), columns =['Year','Vacant Housing Units', 'Occupied Housing Units'])\n",
        "print(result.to_string(index=False))"
      ]
    },
    {
      "cell_type": "code",
      "execution_count": null,
      "metadata": {
        "id": "4SgVWH3m5p3e",
        "outputId": "1bd5e5d5-6dc0-4f2e-e85a-14ca11f94325"
      },
      "outputs": [
        {
          "name": "stdout",
          "output_type": "stream",
          "text": [
            "            title_field  year  value\n",
            "   Vacant Housing Units  2008   4483\n",
            " Occupied Housing Units  2014  46295\n"
          ]
        }
      ],
      "source": [
        "#Calculating the value and years in which the highest number of housing units were vacant and occupied\n",
        "\n",
        "vacant_housing = houses_denton[houses_denton['title_field'] == 'Vacant Housing Units']\n",
        "high_difference= pd.concat([vacant_housing[vacant_housing['value'] == vacant_housing['value'].max()],occupied_housing[occupied_housing['value'] == occupied_housing['value'].max()]])\n",
        "print(high_difference[['title_field','year','value']].to_string(index=False))"
      ]
    },
    {
      "cell_type": "code",
      "execution_count": null,
      "metadata": {
        "id": "-2y52TWC5p3f",
        "outputId": "1b9fc16a-91a2-4816-bb86-2e42bdb6c2ae"
      },
      "outputs": [
        {
          "name": "stdout",
          "output_type": "stream",
          "text": [
            "The harmonic mean of total housing units is: 44398.28543969185\n"
          ]
        }
      ],
      "source": [
        "#Calculating the harmonic mean of the total housing units\n",
        "\n",
        "import statistics\n",
        "\n",
        "print('The harmonic mean of total housing units is: {0}'.format(statistics.harmonic_mean(houses_total)))"
      ]
    }
  ],
  "metadata": {
    "colab": {
      "collapsed_sections": [],
      "name": "INFO5731_Assignment_One.ipynb",
      "provenance": [],
      "include_colab_link": true
    },
    "kernelspec": {
      "display_name": "Python 3",
      "language": "python",
      "name": "python3"
    },
    "language_info": {
      "codemirror_mode": {
        "name": "ipython",
        "version": 3
      },
      "file_extension": ".py",
      "mimetype": "text/x-python",
      "name": "python",
      "nbconvert_exporter": "python",
      "pygments_lexer": "ipython3",
      "version": "3.7.6"
    }
  },
  "nbformat": 4,
  "nbformat_minor": 0
}